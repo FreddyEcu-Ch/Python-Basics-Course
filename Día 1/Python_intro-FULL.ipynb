{
 "cells": [
  {
   "cell_type": "markdown",
   "metadata": {
    "cell_id": "61284293edba445caf0521cc504529fc",
    "deepnote_cell_height": 81.98333740234375,
    "deepnote_cell_type": "markdown"
   },
   "source": [
    "# **Day 1 - Python Basics**\n",
    "\n",
    "**Instructor:** [Freddy Carrión Maldonado](https://www.linkedin.com/in/freddy-carri%C3%B3n-maldonado-b3579b125/)"
   ]
  },
  {
   "cell_type": "markdown",
   "metadata": {
    "cell_id": "358319e60ad24c75867043f7fbc07873",
    "deepnote_cell_height": 449.1499938964844,
    "deepnote_cell_type": "markdown"
   },
   "source": [
    "## Contents\n",
    "\n",
    "- **Part 1 - Data Structures (1 hr 15 min)**\n",
    "    - 1.1. Introduction\n",
    "    - 1.2. Data Types and Structures\n",
    "    - 1.3. Lists: Basis and Manipulation\n",
    "    - 1.4. Dictionaries: Basis and Manipulation\n",
    "    \n",
    "- *Test Part 1 (15 min)*\n",
    "\n",
    "- **Part 2 - Compound Statements (1 hr)**\n",
    "    - 2.1. Conditionals (if, else, elif)\n",
    "    - 2.2. Loops (for, while)\n",
    "    - 2.3. Functions\n",
    "    \n",
    "- *Test Part 2 (15 min)*"
   ]
  },
  {
   "cell_type": "markdown",
   "metadata": {},
   "source": [
    "---"
   ]
  },
  {
   "cell_type": "markdown",
   "metadata": {
    "cell_id": "4789ad088e604584a280ce4f13f78bb6",
    "deepnote_cell_height": 345.566650390625,
    "deepnote_cell_type": "markdown"
   },
   "source": [
    "# 1. Part 1 - Data structures"
   ]
  },
  {
   "cell_type": "markdown",
   "metadata": {
    "cell_id": "ff11936b38fd4c6e9e2fc9cb7f06f093",
    "deepnote_cell_height": 108.38333129882812,
    "deepnote_cell_type": "markdown",
    "tags": []
   },
   "source": [
    "\n",
    "## 1.1. Introduction\n",
    "\n",
    "### 1.1.1. First Steps\n",
    "Writing code is an important part of programming. We start with a blank file, write a few lines of code, and a program is born! \n",
    "\n",
    "\n",
    "### 1.1.2. Notebooks\n",
    "\n",
    "They consist of units called `cells`. Cells can contain markdown text like this one, or Python code (notice that code cells are numbered). To run a cell you can click the `Run` button. These are some useful shortcuts:\n",
    "\n",
    "- To run a cell and stay in the same cell, type `Ctrl+Enter` \n",
    "- To run a cell and move to the next cell, type `Shift+Enter`\n",
    "- To run a cell and insert a new cell below, type `Alt+Enter`\n",
    "- To run all the cells of a notebook, choose the `Cell -> Run all` menu\n",
    "- Use the up and down arrow keys to move quickly between cells\n",
    "\n",
    "**Remember**: **IDEs** on the other hand are software for building applications with the different tools for writing a program such as source code editor and code debugger. They facilitate this process with features like syntax highlighting and autocomplete. For further information chek this [note](https://keith-monreal.medium.com/notebook-vs-ide-180d38a0cd55#:~:text=Notebooks%20are%20files%20which%20supports,code%20editor%20and%20code%20debugger.)\n"
   ]
  },
  {
   "cell_type": "markdown",
   "metadata": {
    "cell_id": "adb9a8e68b614351b76d72816c65d911",
    "deepnote_app_coordinates": {
     "h": 5,
     "w": 12,
     "x": 0,
     "y": 0
    },
    "deepnote_cell_type": "markdown"
   },
   "source": [
    "\n",
    "To print or display any value or information in Python, you use the preset function **print**."
   ]
  },
  {
   "cell_type": "code",
   "execution_count": 1,
   "metadata": {
    "cell_id": "0249df7c0267496ebcfce97dbf8d33c4",
    "collapsed": false,
    "deepnote_cell_type": "code",
    "deepnote_to_be_reexecuted": false,
    "execution_millis": 4,
    "execution_start": 1681905332825,
    "jupyter": {
     "outputs_hidden": false
    },
    "output_cleared": false,
    "pycharm": {
     "name": "#%%\n"
    },
    "source_hash": "5d20a612"
   },
   "outputs": [
    {
     "name": "stdout",
     "output_type": "stream",
     "text": [
      "Somos FICT, Somos ESPOL, bienvenidos a este Taller sobre Python\n"
     ]
    }
   ],
   "source": [
    "print(\"Somos FICT, Somos ESPOL, bienvenidos a este Taller sobre Python\")"
   ]
  },
  {
   "cell_type": "code",
   "execution_count": 2,
   "metadata": {
    "cell_id": "380e43fc48c8485eba583e40b9297564",
    "deepnote_app_coordinates": {
     "h": 5,
     "w": 12,
     "x": 0,
     "y": 0
    },
    "deepnote_cell_type": "code",
    "deepnote_to_be_reexecuted": false,
    "execution_millis": 14,
    "execution_start": 1681905333520,
    "source_hash": "14449d19"
   },
   "outputs": [
    {
     "name": "stdout",
     "output_type": "stream",
     "text": [
      "Hola mundo\n"
     ]
    }
   ],
   "source": [
    "# Write the first code line that everyone has learnt: print(\"Hola mundo\") \n",
    "print(\"Hola mundo\")"
   ]
  },
  {
   "cell_type": "markdown",
   "metadata": {
    "cell_id": "b6b3f2c955414226a37bf7f8d98b82ce",
    "deepnote_app_coordinates": {
     "h": 5,
     "w": 12,
     "x": 0,
     "y": 0
    },
    "deepnote_cell_type": "markdown"
   },
   "source": [
    "**Indentation**\n",
    "Indentation refers to the spaces at the beginning of a code line.\n",
    "While in other programming languages the indentation in code is for readability only, the indentation in Python is very important.\n",
    "\n",
    "**Comments**\n",
    "Comments starts with a #, and Python will ignore them.\n",
    "\n",
    "\n",
    "- Comments can be used to explain Python code.\n",
    "\n",
    "- Comments can be used to make the code more readable.\n",
    "\n",
    "- Comments can be used to prevent execution when testing code.\n",
    "\n",
    "**Variables**\n",
    "Variables are containers for storing data values.\n",
    "Important: Variable names are case-sensitive."
   ]
  },
  {
   "cell_type": "code",
   "execution_count": 7,
   "metadata": {
    "cell_id": "1e9030e5d3a342ccbb8cbea6e269f323",
    "deepnote_app_coordinates": {
     "h": 5,
     "w": 12,
     "x": 0,
     "y": 0
    },
    "deepnote_cell_type": "code",
    "deepnote_to_be_reexecuted": false,
    "execution_millis": 41,
    "execution_start": 1681905334010,
    "source_hash": "a019a94e"
   },
   "outputs": [
    {
     "name": "stdout",
     "output_type": "stream",
     "text": [
      "Hola mundo\n"
     ]
    }
   ],
   "source": [
    "# Create a variable and name it saludo, assing the following to the variable \"Hola mundo\"\n",
    "saludo = \"Hola mundo\"\n",
    "# Print the variable named saludo\n",
    "print(saludo)"
   ]
  },
  {
   "cell_type": "markdown",
   "metadata": {},
   "source": [
    "---"
   ]
  },
  {
   "cell_type": "markdown",
   "metadata": {
    "cell_id": "a04521e73aee483b9c1f7347f02850d4",
    "deepnote_cell_height": 442.1499938964844,
    "deepnote_cell_type": "markdown"
   },
   "source": [
    "## 1.2. Data types and structures"
   ]
  },
  {
   "cell_type": "markdown",
   "metadata": {
    "cell_id": "a1991fe77b514504a10931fe69f7c0c2",
    "deepnote_cell_type": "markdown"
   },
   "source": [
    "### 1.2.1. Data types\n",
    "In Python, we have different **types of data**, such as: float (floating point), int (integer), str (string) y bool (Boolean). \n",
    "\n",
    "- **float** - used for real numbers.\n",
    "- **int** - used for integers.\n",
    "- **str** - Text strings are defined in Python using single quotation marks\n",
    "<code> 'Texto' </code> , comillas dobles <code> \"Texto\" </code> , o comillas triples <code> \"\"\"Texto\"\"\" </code>\n",
    "\n",
    "Strings generated by triple quotes can contain multiple lines of text, the newlines will be included in the value of the variable. That is why they are used to write the documentation of functions.\n",
    "-  **bool** - A Boolean variable is a variable that can only take two possible values: True (verdadero) o False (falso). They are used to filter information from a data set.\n"
   ]
  },
  {
   "cell_type": "code",
   "execution_count": 9,
   "metadata": {
    "cell_id": "53de0e30a0de4ca185ce3ca29f14e773",
    "collapsed": false,
    "deepnote_cell_type": "code",
    "deepnote_to_be_reexecuted": false,
    "execution_millis": 3,
    "execution_start": 1681905336206,
    "jupyter": {
     "outputs_hidden": false
    },
    "pycharm": {
     "name": "#%%\n"
    },
    "source_hash": "4f165595"
   },
   "outputs": [],
   "source": [
    "# The following are some examples of the main variables to be used in this workshop\n",
    "current_year = 2023\n",
    "average_height = 170.50\n",
    "topic = \"Fundamentos de Python\"\n",
    "succesful_workshop = True"
   ]
  },
  {
   "cell_type": "markdown",
   "metadata": {
    "cell_id": "fb7ba38aee96421fbbd1f625cb648cfb",
    "deepnote_app_coordinates": {
     "h": 5,
     "w": 12,
     "x": 0,
     "y": 0
    },
    "deepnote_cell_type": "markdown"
   },
   "source": [
    "It is possible to recognize the types (or classes) of variables using: **type(variable_name)**\n",
    "This allows us to determine the type of variable."
   ]
  },
  {
   "cell_type": "code",
   "execution_count": 12,
   "metadata": {
    "cell_id": "8e784f7cf33049ec9c3e9cdbce281800",
    "deepnote_cell_type": "code",
    "deepnote_to_be_reexecuted": false,
    "execution_millis": 18,
    "execution_start": 1681905337144,
    "source_hash": "e301bb2a",
    "tags": []
   },
   "outputs": [
    {
     "name": "stdout",
     "output_type": "stream",
     "text": [
      "<class 'int'>\n",
      "<class 'int'> <class 'float'> <class 'str'> <class 'bool'>\n"
     ]
    }
   ],
   "source": [
    "# print the types of the variable current_year\n",
    "print(type(current_year))\n",
    "# print the types of all the variables with one print\n",
    "print(type(current_year), type(average_height), type(topic), type(succesful_workshop))"
   ]
  },
  {
   "cell_type": "markdown",
   "metadata": {
    "cell_id": "f04efc29d06a4e349ee6c3f5223d3d34",
    "deepnote_app_coordinates": {
     "h": 5,
     "w": 12,
     "x": 0,
     "y": 0
    },
    "deepnote_cell_type": "markdown"
   },
   "source": [
    "### Math operations\n",
    "\n",
    "Python can be used as a simple calculator:"
   ]
  },
  {
   "cell_type": "code",
   "execution_count": 13,
   "metadata": {
    "cell_id": "b87746af833b4c3abb7dba2216a9dfde",
    "deepnote_app_coordinates": {
     "h": 5,
     "w": 12,
     "x": 0,
     "y": 0
    },
    "deepnote_cell_type": "code",
    "deepnote_to_be_reexecuted": false,
    "execution_millis": 13,
    "execution_start": 1681905338044,
    "source_hash": "80abc1bd"
   },
   "outputs": [
    {
     "data": {
      "text/plain": [
       "6197"
      ]
     },
     "execution_count": 13,
     "metadata": {},
     "output_type": "execute_result"
    }
   ],
   "source": [
    "245 + 5952"
   ]
  },
  {
   "cell_type": "markdown",
   "metadata": {
    "cell_id": "756116d0565c428fb9e6700501f680b9",
    "deepnote_app_coordinates": {
     "h": 5,
     "w": 12,
     "x": 0,
     "y": 0
    },
    "deepnote_cell_type": "markdown"
   },
   "source": [
    "However, this only works for the basic arithmetic operations: addition ( + ), subtraction ( - ), multiplication ( \\* ), division ( / ), exponentiation ( \\*\\* ), floor division ( // ), and modulo division ( % ). Notice that division (/) returns a float value, even if the two numbers are integers. Floor (or integer) division returns the quotient of the division, while modulo division returns the remainder of the division (though things get more complicated for negative numbers, see this [note](https://blog.teclado.com/pythons-modulo-operator-and-floor-division/)).\n",
    "\n",
    "For more advanced operations, we need to import the `math` module:"
   ]
  },
  {
   "cell_type": "markdown",
   "metadata": {},
   "source": [
    "### 1.2.2. Python Operators"
   ]
  },
  {
   "cell_type": "markdown",
   "metadata": {},
   "source": [
    "![Picture title](Recursos/Python_operators.png)\\\n",
    "*Figure 2. Python Operators*"
   ]
  },
  {
   "cell_type": "markdown",
   "metadata": {},
   "source": [
    "### 1.2.3. Data Structures"
   ]
  },
  {
   "cell_type": "markdown",
   "metadata": {
    "cell_id": "f3fc61fdc74d4a6187e304862ed35a2b",
    "deepnote_app_coordinates": {
     "h": 5,
     "w": 12,
     "x": 0,
     "y": 0
    },
    "deepnote_cell_type": "markdown"
   },
   "source": [
    "The  **data structures** are arrays used to store several values, they can be assigned to variables, they are iterables, some are mutables and among the most common are:\n",
    "- Lists\n",
    "- Dictionaries\n",
    "- Tuples\n",
    "- Datasets\n",
    "- Dataframes\n",
    "- Numpy arrays\n",
    "- Series"
   ]
  },
  {
   "cell_type": "markdown",
   "metadata": {},
   "source": [
    "---"
   ]
  },
  {
   "cell_type": "markdown",
   "metadata": {
    "cell_id": "a08b2a8f61214005afbb6232ee12a3d9",
    "deepnote_cell_height": 156.1666717529297,
    "deepnote_cell_type": "markdown"
   },
   "source": [
    "## 1.3. Lists\n",
    "\n",
    "Lists are data structures that can store numbers, strings, lists, etc.\n",
    "They are delimited by brackets ([a,b,c]) and their elements are separated by commas.\n",
    "\n",
    "Some examples using **lists** are shown below for OPEC COUNTRIES 2023 (https://worldpopulationreview.com/country-rankings/opec-countries)"
   ]
  },
  {
   "cell_type": "markdown",
   "metadata": {
    "cell_id": "f302688354aa4badafcb0bd12623c091",
    "deepnote_cell_height": 557.433349609375,
    "deepnote_cell_type": "markdown"
   },
   "source": [
    "![Picture title](Recursos/OPEC_image.png)\n",
    "\n",
    "*Figure 1. OPEC Logo*"
   ]
  },
  {
   "cell_type": "code",
   "execution_count": 66,
   "metadata": {
    "cell_id": "61e44179014241e6aa50b7b1aa6e7d9a",
    "collapsed": false,
    "deepnote_cell_type": "code",
    "deepnote_to_be_reexecuted": false,
    "execution_millis": 28,
    "execution_start": 1681905340644,
    "jupyter": {
     "outputs_hidden": false
    },
    "pycharm": {
     "name": "#%%\n"
    },
    "source_hash": "8e9fe157"
   },
   "outputs": [],
   "source": [
    "# List with 16 countries that have been members of OPEC\n",
    "paises = ['Arabia Saudita', 'Venezuela', 'Kuwait', 'Iran', 'Irak', 'Libia', 'UAE', 'Algeria', 'Nigeria', 'Gabón', 'Ángola', 'Congo', 'Guinea Ecuatorial','Ecuador', 'Qatar', 'Indonesia']\n",
    "\n",
    "# Other oil producing contries non OPEC members\n",
    "NO_OPEP= ['Arzebaijan', 'Bahrein', 'Brunei', 'Kazajistán', 'Malasia', 'México', 'Omán', 'Rusia', 'Sudán', 'Sudán del Sur']\n",
    "\n",
    "#retired/lapsed members\n",
    "paises_retirados = ['Ecuador', 'Indonesia', 'Qatar']"
   ]
  },
  {
   "cell_type": "markdown",
   "metadata": {
    "cell_id": "5e676fb539954cc49e33fde176877816",
    "deepnote_cell_type": "markdown"
   },
   "source": [
    "### 1.3.1. Lists Indexing and Slicing"
   ]
  },
  {
   "cell_type": "code",
   "execution_count": 18,
   "metadata": {},
   "outputs": [
    {
     "data": {
      "text/plain": [
       "['Arabia Saudita',\n",
       " 'Venezuela',\n",
       " 'Kuwait',\n",
       " 'Iran',\n",
       " 'Irak',\n",
       " 'Libia',\n",
       " 'UAE',\n",
       " 'Algeria',\n",
       " 'Nigeria',\n",
       " 'Gabón',\n",
       " 'Ángola',\n",
       " 'Congo',\n",
       " 'Guinea Ecuatorial',\n",
       " 'Ecuador',\n",
       " 'Qatar',\n",
       " 'Indonesia']"
      ]
     },
     "execution_count": 18,
     "metadata": {},
     "output_type": "execute_result"
    }
   ],
   "source": [
    "paises"
   ]
  },
  {
   "cell_type": "code",
   "execution_count": 24,
   "metadata": {
    "cell_id": "d06f99c06e444befa0cf846c252823e4",
    "collapsed": false,
    "deepnote_cell_type": "code",
    "deepnote_to_be_reexecuted": false,
    "execution_millis": 12,
    "execution_start": 1681905342701,
    "jupyter": {
     "outputs_hidden": false
    },
    "pycharm": {
     "name": "#%%\n"
    },
    "source_hash": "778da847"
   },
   "outputs": [
    {
     "name": "stdout",
     "output_type": "stream",
     "text": [
      "Libia\n",
      "Libia\n",
      "['Arabia Saudita', 'Venezuela', 'Kuwait', 'Iran', 'Irak', 'Libia', 'UAE', 'Algeria', 'Nigeria', 'Gabón', 'Ángola', 'Congo', 'Guinea Ecuatorial']\n",
      "['Arabia Saudita', 'Venezuela', 'Kuwait', 'Iran', 'Irak', 'Libia', 'UAE', 'Algeria', 'Nigeria', 'Gabón', 'Ángola', 'Congo', 'Guinea Ecuatorial', 'Arzebaijan', 'Bahrein', 'Brunei', 'Kazajistán', 'Malasia', 'México', 'Omán', 'Rusia', 'Sudán', 'Sudán del Sur']\n"
     ]
    }
   ],
   "source": [
    "#subsetting lists\n",
    "# write a code to print the name of Libia using the list paises\n",
    "print(paises[5])\n",
    "print(paises[-11])\n",
    "\n",
    "#slicing lists [start:end] [inclusive: exclusive]\n",
    "#slice the first 13 elements of the list paises\n",
    "OPEP = paises[0:13]\n",
    "\n",
    "# Add list elements\n",
    "# create a new list OPEP_plus adding NO_OPEP to OPEP list\n",
    "OPEP_plus= OPEP + NO_OPEP\n",
    "\n",
    "# Show the created lists\n",
    "print(OPEP)\n",
    "print (OPEP_plus)"
   ]
  },
  {
   "cell_type": "markdown",
   "metadata": {
    "cell_id": "09efe679f8cb46c69ee6e3cd6ba88173",
    "deepnote_app_coordinates": {
     "h": 5,
     "w": 12,
     "x": 0,
     "y": 0
    },
    "deepnote_cell_type": "markdown"
   },
   "source": [
    "\"Formatted string literals\" f-strings are the string literals in which we use an f at the beginning and curly braces {} to enclose the expressions that will be replaced with other values."
   ]
  },
  {
   "cell_type": "code",
   "execution_count": 25,
   "metadata": {
    "cell_id": "6b76f9a4ea77458d9753631814c289ef",
    "collapsed": false,
    "deepnote_cell_type": "code",
    "deepnote_to_be_reexecuted": false,
    "execution_millis": 4,
    "execution_start": 1681905343956,
    "jupyter": {
     "outputs_hidden": false
    },
    "pycharm": {
     "name": "#%%\n"
    },
    "source_hash": "fac49c48"
   },
   "outputs": [
    {
     "name": "stdout",
     "output_type": "stream",
     "text": [
      "16 países han estado en la OPEP\n",
      "16 países han estado en la OPEP\n"
     ]
    }
   ],
   "source": [
    "# Use f-strings to create a variable s,  s= #number of countries that have been members of OPEC\n",
    "s = f'{len(paises)} países han estado en la OPEP' #use len to provide the value\n",
    "\n",
    "# Show s\n",
    "print(s)\n",
    "\n",
    "# Alternative way\n",
    "print(f'{len(paises)} países han estado en la OPEP')"
   ]
  },
  {
   "cell_type": "markdown",
   "metadata": {
    "cell_id": "7464867f49fd4bf588458a08b0ba74f0",
    "deepnote_app_coordinates": {
     "h": 5,
     "w": 12,
     "x": 0,
     "y": 0
    },
    "deepnote_cell_type": "markdown"
   },
   "source": [
    "Practice completing the code below:"
   ]
  },
  {
   "cell_type": "code",
   "execution_count": 26,
   "metadata": {
    "cell_id": "42e4957066054be992dd19fca3f3eca6",
    "deepnote_app_coordinates": {
     "h": 5,
     "w": 12,
     "x": 0,
     "y": 0
    },
    "deepnote_cell_type": "code",
    "deepnote_to_be_reexecuted": false,
    "execution_millis": 15,
    "execution_start": 1681905345011,
    "source_hash": "1316c2f6"
   },
   "outputs": [
    {
     "name": "stdout",
     "output_type": "stream",
     "text": [
      "3 países se han retirado de la OPEP\n",
      "13 países conforman la OPEP actualmente\n",
      "23 países conforman la OPEP Plus\n"
     ]
    }
   ],
   "source": [
    "print(f'{len(paises_retirados)} países se han retirado de la OPEP') #complete the code\n",
    "print(f'{len(OPEP)} países conforman la OPEP actualmente') #complete the code\n",
    "print(f'{len(OPEP_plus)} países conforman la OPEP Plus') #complete the code"
   ]
  },
  {
   "cell_type": "markdown",
   "metadata": {
    "cell_id": "40921d324ad44ec5aa3cc069c50f6eb2",
    "deepnote_app_coordinates": {
     "h": 5,
     "w": 12,
     "x": 0,
     "y": 0
    },
    "deepnote_cell_type": "markdown"
   },
   "source": [
    "### 1.3.2. List Methods\n",
    "Among the most important list methods, we have the following:\n",
    "\n",
    "*append*, *remove*, *pop*, *del*, *clear*, *reverse*, *sort*, *index*, *extend*, *count*, *insert*\n",
    "\n",
    "To apply a method you will use the following: list_name.method_name"
   ]
  },
  {
   "cell_type": "markdown",
   "metadata": {
    "cell_id": "08609c72635e483a8d6b0f3a7aa02806",
    "deepnote_app_coordinates": {
     "h": 5,
     "w": 12,
     "x": 0,
     "y": 0
    },
    "deepnote_cell_type": "markdown"
   },
   "source": [
    "![Picture title](Recursos/List_methods.png)\n",
    "*Figure 3. List Methods*\n",
    "**Fuente:**\n",
    "https://www.w3schools.com/python/python_lists_methods.asp"
   ]
  },
  {
   "cell_type": "code",
   "execution_count": 45,
   "metadata": {
    "cell_id": "ead93bf4c45046a1b12e2781fbccf138",
    "collapsed": false,
    "deepnote_cell_type": "code",
    "deepnote_to_be_reexecuted": false,
    "execution_millis": 15,
    "execution_start": 1681905346931,
    "jupyter": {
     "outputs_hidden": false
    },
    "pycharm": {
     "name": "#%%\n"
    },
    "source_hash": "9991cff3"
   },
   "outputs": [
    {
     "name": "stdout",
     "output_type": "stream",
     "text": [
      "['Arabia Saudita', 'Venezuela', 'Kuwait', 'Iran', 'Irak', 'Libia', 'UAE', 'Algeria', 'Nigeria', 'Gabón', 'Ángola', 'Congo', 'Guinea Ecuatorial', 'Qatar', 'Indonesia']\n"
     ]
    }
   ],
   "source": [
    "# The remove method removes the item with the specified value \n",
    "# Syntax > list.remove(element)\n",
    "paises.remove('Ecuador') #complete the code for removing Ecuador from the list paises\n",
    "print(paises)"
   ]
  },
  {
   "cell_type": "code",
   "execution_count": 46,
   "metadata": {},
   "outputs": [
    {
     "name": "stdout",
     "output_type": "stream",
     "text": [
      "['Arabia Saudita', 'Venezuela', 'Kuwait', 'Iran', 'Irak', 'Libia', 'UAE', 'Algeria', 'Nigeria', 'Gabón', 'Ángola', 'Congo', 'Guinea Ecuatorial', 'Qatar']\n"
     ]
    }
   ],
   "source": [
    "paises.remove('Indonesia') #complete the code for removing Indonesia from the list paises\n",
    "print(paises)"
   ]
  },
  {
   "cell_type": "code",
   "execution_count": 47,
   "metadata": {},
   "outputs": [
    {
     "name": "stdout",
     "output_type": "stream",
     "text": [
      "['Arabia Saudita', 'Venezuela', 'Kuwait', 'Iran', 'Irak', 'Libia', 'UAE', 'Algeria', 'Nigeria', 'Gabón', 'Ángola', 'Congo', 'Guinea Ecuatorial']\n"
     ]
    }
   ],
   "source": [
    "# Remove Qatar from the list paises\n",
    "paises.remove('Qatar')\n",
    "print(paises)"
   ]
  },
  {
   "cell_type": "code",
   "execution_count": 48,
   "metadata": {},
   "outputs": [
    {
     "name": "stdout",
     "output_type": "stream",
     "text": [
      "Estos son los paises que aun forman parte de la OPEP:\n",
      "['Arabia Saudita', 'Venezuela', 'Kuwait', 'Iran', 'Irak', 'Libia', 'UAE', 'Algeria', 'Nigeria', 'Gabón', 'Ángola', 'Congo', 'Guinea Ecuatorial']\n"
     ]
    }
   ],
   "source": [
    "print(\"Estos son los paises que aun forman parte de la OPEP:\")\n",
    "print(paises)"
   ]
  },
  {
   "cell_type": "markdown",
   "metadata": {},
   "source": [
    "---"
   ]
  },
  {
   "cell_type": "code",
   "execution_count": 52,
   "metadata": {
    "cell_id": "f1994aa219c34c23bcbf14ea14fbda57",
    "collapsed": false,
    "deepnote_cell_type": "code",
    "deepnote_to_be_reexecuted": false,
    "execution_millis": 6,
    "execution_start": 1681905347512,
    "jupyter": {
     "outputs_hidden": false
    },
    "pycharm": {
     "name": "#%%\n"
    },
    "source_hash": "c67777bd"
   },
   "outputs": [
    {
     "name": "stdout",
     "output_type": "stream",
     "text": [
      "['Arabia Saudita', 'Venezuela', 'Kuwait', 'Iran', 'Irak', 'Libia', 'UAE', 'Algeria', 'Nigeria', 'Gabón', 'Ángola', 'Congo', 'Guinea Ecuatorial', 'Ecuador', 'Ecuador']\n",
      "['Arabia Saudita', 'Venezuela', 'Kuwait', 'Iran', 'Irak', 'Libia', 'UAE', 'Algeria', 'Nigeria', 'Gabón', 'Ángola', 'Congo', 'Guinea Ecuatorial', 'Ecuador', 'Ecuador', 'Ecuador']\n",
      "Ecuador ha sido el único país de latinoamérica que ha abandonado la OPEP por 2 veces\n"
     ]
    }
   ],
   "source": [
    "# The append method adds an element at the end of the list\n",
    "# Syntax > list.append(element)\n",
    "\n",
    "# show the list paises\n",
    "print(paises)\n",
    "# Include Ecuador in the list paises and show the updated list\n",
    "paises.append(\"Ecuador\")\n",
    "print(paises)\n",
    "print(f\"{paises[-1]} ha sido el único país de latinoamérica que ha abandonado la OPEP por 2 veces\")"
   ]
  },
  {
   "cell_type": "code",
   "execution_count": 58,
   "metadata": {
    "cell_id": "43ac789a078046fe8d63fffcde5abe2c",
    "collapsed": false,
    "deepnote_cell_type": "code",
    "deepnote_to_be_reexecuted": false,
    "execution_millis": 4,
    "execution_start": 1681905347893,
    "jupyter": {
     "outputs_hidden": false
    },
    "pycharm": {
     "name": "#%%\n"
    },
    "source_hash": "75ab54a6"
   },
   "outputs": [
    {
     "name": "stdout",
     "output_type": "stream",
     "text": [
      "Hay 13 paises que conforman actualmente la OPEP\n"
     ]
    }
   ],
   "source": [
    "# Use f-strings and an operator to complete the code\n",
    "print(f\"Hay {str(len(paises) - 3)} paises que conforman actualmente la OPEP\")"
   ]
  },
  {
   "cell_type": "markdown",
   "metadata": {},
   "source": [
    "---"
   ]
  },
  {
   "cell_type": "code",
   "execution_count": 60,
   "metadata": {
    "cell_id": "c30d8560d25b4746b955ba2dee6f44b2",
    "collapsed": false,
    "deepnote_cell_type": "code",
    "deepnote_to_be_reexecuted": false,
    "execution_millis": 52,
    "execution_start": 1681905348299,
    "jupyter": {
     "outputs_hidden": false
    },
    "pycharm": {
     "name": "#%%\n"
    },
    "source_hash": "970711aa"
   },
   "outputs": [
    {
     "name": "stdout",
     "output_type": "stream",
     "text": [
      "16\n",
      "15\n"
     ]
    }
   ],
   "source": [
    "# The pop() method removes the element at the specified position.\n",
    "# Syntax> list.pop(position)\n",
    "\n",
    "# write a code to print the number of countries in paises\n",
    "print(len(paises))\n",
    "\n",
    "# use pop to remove the name of the country in the last position of the list\n",
    "paises.pop(-1)\n",
    "print(len(paises))"
   ]
  },
  {
   "cell_type": "markdown",
   "metadata": {},
   "source": [
    "---"
   ]
  },
  {
   "cell_type": "code",
   "execution_count": 67,
   "metadata": {
    "cell_id": "1336c961c7474af888710065a9ce4828",
    "collapsed": false,
    "deepnote_cell_type": "code",
    "deepnote_to_be_reexecuted": false,
    "execution_millis": 6,
    "execution_start": 1681905348824,
    "jupyter": {
     "outputs_hidden": false
    },
    "pycharm": {
     "name": "#%%\n"
    },
    "source_hash": "968a1ec3"
   },
   "outputs": [
    {
     "name": "stdout",
     "output_type": "stream",
     "text": [
      "['Ecuador', 'Indonesia', 'Qatar']\n",
      "Estos son los paises de Asia que decidieron retirarse de la OPEP:\n",
      "['Indonesia', 'Qatar']\n"
     ]
    }
   ],
   "source": [
    "# The del keyword is used to delete objects (variables, lists, or parts of a list, etc.)\n",
    "# Syntax> del list[pos]\n",
    "\n",
    "# print the list of the Asian countries retired/lapsed from OPEC\n",
    "print(paises_retirados)\n",
    "\n",
    "# delete Ecuador from the list\n",
    "del paises_retirados[0]\n",
    "print(\"Estos son los paises de Asia que decidieron retirarse de la OPEP:\")\n",
    "print(paises_retirados)"
   ]
  },
  {
   "cell_type": "markdown",
   "metadata": {},
   "source": [
    "---"
   ]
  },
  {
   "cell_type": "code",
   "execution_count": 68,
   "metadata": {
    "cell_id": "d117b8a01f5c430eb6e1ca9767be0209",
    "collapsed": false,
    "deepnote_cell_type": "code",
    "deepnote_to_be_reexecuted": false,
    "execution_millis": 5,
    "execution_start": 1681905349454,
    "jupyter": {
     "outputs_hidden": false
    },
    "pycharm": {
     "name": "#%%\n"
    },
    "source_hash": "e747536"
   },
   "outputs": [
    {
     "name": "stdout",
     "output_type": "stream",
     "text": [
      "['Arabia Saudita', 'Venezuela', 'Kuwait', 'Iran', 'Irak', 'Libia', 'UAE', 'Algeria', 'Nigeria', 'Gabón', 'Ángola', 'Congo', 'Guinea Ecuatorial', 'Ecuador', 'Qatar', 'Indonesia']\n",
      "Paises de la OPEP ordenados desde el ultimo al primero\n",
      "['Indonesia', 'Qatar', 'Ecuador', 'Guinea Ecuatorial', 'Congo', 'Ángola', 'Gabón', 'Nigeria', 'Algeria', 'UAE', 'Libia', 'Irak', 'Iran', 'Kuwait', 'Venezuela', 'Arabia Saudita']\n"
     ]
    }
   ],
   "source": [
    "# The reverse method reverses the sorting order of the elements\n",
    "# Syntax. list.reverse()\n",
    "\n",
    "# show the list paises\n",
    "print(paises)\n",
    "\n",
    "# reverse the order of the countries in the list paises\n",
    "paises.reverse()\n",
    "print(\"Paises de la OPEP ordenados desde el ultimo al primero\")\n",
    "print(paises)"
   ]
  },
  {
   "cell_type": "markdown",
   "metadata": {},
   "source": [
    "---"
   ]
  },
  {
   "cell_type": "code",
   "execution_count": 69,
   "metadata": {
    "cell_id": "25034f15275749658a83ad9c70f12adb",
    "collapsed": false,
    "deepnote_cell_type": "code",
    "deepnote_to_be_reexecuted": false,
    "execution_millis": 24,
    "execution_start": 1681905350380,
    "jupyter": {
     "outputs_hidden": false
    },
    "pycharm": {
     "name": "#%%\n"
    },
    "source_hash": "2c0baf85"
   },
   "outputs": [
    {
     "name": "stdout",
     "output_type": "stream",
     "text": [
      "Paises de la OPEP ordenados de forma alfabética:\n",
      "['Algeria', 'Arabia Saudita', 'Congo', 'Ecuador', 'Gabón', 'Guinea Ecuatorial', 'Indonesia', 'Irak', 'Iran', 'Kuwait', 'Libia', 'Nigeria', 'Qatar', 'UAE', 'Venezuela', 'Ángola']\n"
     ]
    }
   ],
   "source": [
    "# The sort method sorts the list ascending by default. \n",
    "# Syntax > list.sort() \n",
    "\n",
    "# print the list paises with its elements alphabetically listed\n",
    "paises.sort()\n",
    "print(\"Paises de la OPEP ordenados de forma alfabética:\")\n",
    "print(paises)"
   ]
  },
  {
   "cell_type": "markdown",
   "metadata": {},
   "source": [
    "---"
   ]
  },
  {
   "cell_type": "code",
   "execution_count": 70,
   "metadata": {
    "cell_id": "f86ebf77b2314ce98660d901c28e4053",
    "collapsed": false,
    "deepnote_cell_type": "code",
    "deepnote_to_be_reexecuted": false,
    "execution_millis": 5,
    "execution_start": 1681905351263,
    "jupyter": {
     "outputs_hidden": false
    },
    "pycharm": {
     "name": "#%%\n"
    },
    "source_hash": "feacfce3"
   },
   "outputs": [
    {
     "name": "stdout",
     "output_type": "stream",
     "text": [
      "['Algeria', 'Arabia Saudita', 'Congo', 'Ecuador', 'Gabón', 'Guinea Ecuatorial', 'Indonesia', 'Irak', 'Iran', 'Kuwait', 'Libia', 'Nigeria', 'Qatar', 'UAE', 'Venezuela', 'Ángola']\n",
      "['Algeria', 'Arabia Saudita', 'Congo', 'Ecuador', 'Gabón', 'Guinea Ecuatorial', 'Indonesia', 'Irak', 'Iran', 'Kuwait', 'Libia', 'Nigeria', 'Qatar', 'UAE', 'Venezuela', 'Ángola', 'Brasil', 'Noruega', 'USA']\n"
     ]
    }
   ],
   "source": [
    "# The extend method adds a list or elements (or any iterable) to the end of the current list\n",
    "# Syntax. list.extend(iterable)\n",
    "\n",
    "# show paises\n",
    "print(paises)\n",
    "\n",
    "# Create a tuple containing Brasil, Noruega and USA to the list paises\n",
    "otros_paises = ('Brasil', 'Noruega', 'USA')\n",
    "paises.extend(otros_paises)\n",
    "print(paises)"
   ]
  },
  {
   "cell_type": "markdown",
   "metadata": {},
   "source": [
    "---"
   ]
  },
  {
   "cell_type": "code",
   "execution_count": 73,
   "metadata": {
    "cell_id": "ab4e3e33c3b14256add0996815b2077b",
    "collapsed": false,
    "deepnote_cell_type": "code",
    "deepnote_to_be_reexecuted": false,
    "execution_millis": 6,
    "execution_start": 1681905362242,
    "jupyter": {
     "outputs_hidden": false
    },
    "pycharm": {
     "name": "#%%\n"
    },
    "source_hash": "4b6a5ef3"
   },
   "outputs": [
    {
     "name": "stdout",
     "output_type": "stream",
     "text": [
      "['Indonesia', 'Qatar']\n",
      "['Ecuador', 'Indonesia', 'Qatar']\n"
     ]
    }
   ],
   "source": [
    "# The insert() method inserts the specified value at the specified position\n",
    "# Syntax > list.insert(position, element)\n",
    "print(paises_retirados)\n",
    "\n",
    "# add Ecuador to the list paises_retirados using insert\n",
    "paises_retirados.insert(0, 'Ecuador')\n",
    "\n",
    "# show the list paises_retirados\n",
    "print(paises_retirados)"
   ]
  },
  {
   "cell_type": "markdown",
   "metadata": {},
   "source": [
    "---"
   ]
  },
  {
   "cell_type": "code",
   "execution_count": 74,
   "metadata": {
    "cell_id": "3473d46f31484d1cb0b2e9ae98d447b7",
    "collapsed": false,
    "deepnote_cell_type": "code",
    "deepnote_to_be_reexecuted": false,
    "execution_millis": 4,
    "execution_start": 1681905365658,
    "jupyter": {
     "outputs_hidden": false
    },
    "pycharm": {
     "name": "#%%\n"
    },
    "source_hash": "ff48faa"
   },
   "outputs": [
    {
     "name": "stdout",
     "output_type": "stream",
     "text": [
      "['Ecuador', 'Indonesia', 'Qatar']\n",
      "1\n"
     ]
    }
   ],
   "source": [
    "# The count() method returns the number of elements with the specified value\n",
    "# Syntax > list.count(value)\n",
    "\n",
    "# show the list paises_retirados\n",
    "print(paises_retirados)\n",
    "\n",
    "#print how many times apears Ecuador in the list\n",
    "n_ecuador = paises_retirados.count('Ecuador')\n",
    "print(n_ecuador)"
   ]
  },
  {
   "cell_type": "markdown",
   "metadata": {},
   "source": [
    "---"
   ]
  },
  {
   "cell_type": "code",
   "execution_count": 75,
   "metadata": {
    "cell_id": "00ae1a0dd5ed4aadad490262919553b8",
    "collapsed": false,
    "deepnote_cell_type": "code",
    "deepnote_to_be_reexecuted": false,
    "execution_millis": 32,
    "execution_start": 1681905368681,
    "jupyter": {
     "outputs_hidden": false
    },
    "pycharm": {
     "name": "#%%\n"
    },
    "source_hash": "51c0c553"
   },
   "outputs": [
    {
     "name": "stdout",
     "output_type": "stream",
     "text": [
      "[]\n"
     ]
    }
   ],
   "source": [
    "# The clear() method removes all the elements from a list\n",
    "# Syntax > list.clear()\n",
    "\n",
    "# empty the list paises_retirados\n",
    "paises_retirados.clear()\n",
    "\n",
    "print(paises_retirados)"
   ]
  },
  {
   "cell_type": "markdown",
   "metadata": {},
   "source": [
    "---"
   ]
  },
  {
   "cell_type": "markdown",
   "metadata": {
    "cell_id": "1280b7de4538449daa7f774322abd249",
    "deepnote_cell_height": 69.96665954589844,
    "deepnote_cell_type": "markdown"
   },
   "source": [
    "## 1.4. Dictionaries: Basics and Manipulation"
   ]
  },
  {
   "cell_type": "markdown",
   "metadata": {
    "cell_id": "7b177e47caed42f8897c77b00a2d275b",
    "deepnote_cell_height": 147.98333740234375,
    "deepnote_cell_type": "markdown"
   },
   "source": [
    "### 1.4.1. Dictionaries Definition\n",
    "A dictionary is a data structure and a data type in Python with special characteristics that allows us to store any type of value such as integers, strings, lists and even other functions.\n",
    "These dictionaries also allow us to identify each element by a key. To define a dictionary, the list of values is enclosed in braces. The key and value pairs are separated by commas, and the key and value are separated by colons.\n"
   ]
  },
  {
   "cell_type": "markdown",
   "metadata": {
    "cell_id": "8bf902a829a84838b6eeba1e1ea327f3",
    "deepnote_cell_type": "markdown"
   },
   "source": [
    "**Volve Field**\n",
    "\n",
    "In the southern Norwegian North Sea, about 200 km west of the city of Stavanger (see Figure 1), lies the Volve oil field, located in Block 15/9, at a depth of about 80 m. This field was developed by Statoil, now Equinor, with a 59.6% interest, while other project partners were ExxonMobil E&P Norway, with a 30.40% interest, and Bayerngas Norge, with a 10% interest. \n",
    "\n",
    "![volve](Recursos/volve.png)\n",
    "*Figure 4. Volve Oilfield*\n",
    "\n"
   ]
  },
  {
   "cell_type": "code",
   "execution_count": 76,
   "metadata": {
    "cell_id": "58d8047a75b54583bfdf19fee93a1860",
    "collapsed": false,
    "deepnote_cell_type": "code",
    "deepnote_to_be_reexecuted": false,
    "execution_millis": 4,
    "execution_start": 1681905371744,
    "jupyter": {
     "outputs_hidden": false
    },
    "pycharm": {
     "name": "#%%\n"
    },
    "source_hash": "f494b406"
   },
   "outputs": [
    {
     "data": {
      "text/plain": [
       "{'País': 'Noruega',\n",
       " 'Inicio_produccion': '2008',\n",
       " 'Fin_produccion': '2016',\n",
       " 'Bloque': '15/9',\n",
       " 'Tipo': 'off-shore',\n",
       " 'Pozo': ['F-1C', 'F-4', 'F-5', 'F-11', 'F-12', 'F-14', 'F-15 D']}"
      ]
     },
     "execution_count": 76,
     "metadata": {},
     "output_type": "execute_result"
    }
   ],
   "source": [
    "campo_Volve = {'País' : 'Noruega', 'Inicio_produccion': '2008', 'Fin_produccion': '2016', 'Bloque' : '15/9','Tipo' : 'off-shore','Pozo' :['F-1C','F-4','F-5','F-11','F-12','F-14', 'F-15 D']}\n",
    "campo_Volve"
   ]
  },
  {
   "cell_type": "markdown",
   "metadata": {
    "cell_id": "bf9b4907c1c54545ad5c846b7227983e",
    "deepnote_cell_height": 144.76666259765625,
    "deepnote_cell_type": "markdown"
   },
   "source": [
    "### 1.4.2. Dictionaries Manipulation\n",
    "Among the most important dictionaries methods, we have the following:\n",
    "\n",
    "*keys*, *values*, *items*, *get*, *update*, *pop*, *popitem*."
   ]
  },
  {
   "cell_type": "code",
   "execution_count": 78,
   "metadata": {
    "cell_id": "45b8898875dd4d17978576e6bc9e18a7",
    "collapsed": false,
    "deepnote_cell_type": "code",
    "deepnote_to_be_reexecuted": false,
    "execution_millis": 55,
    "execution_start": 1681905373660,
    "jupyter": {
     "outputs_hidden": false
    },
    "output_cleared": false,
    "pycharm": {
     "name": "#%%\n"
    },
    "source_hash": "27df682e"
   },
   "outputs": [
    {
     "data": {
      "text/plain": [
       "dict_keys(['País', 'Inicio_produccion', 'Fin_produccion', 'Bloque', 'Tipo', 'Pozo'])"
      ]
     },
     "execution_count": 78,
     "metadata": {},
     "output_type": "execute_result"
    }
   ],
   "source": [
    "# The keys() method returns a view object\n",
    "# The view object contains the keys of the dictionary, as a list\n",
    "\n",
    "# Show the keys of campo_Volve\n",
    "campo_Volve.keys()"
   ]
  },
  {
   "cell_type": "markdown",
   "metadata": {},
   "source": [
    "---"
   ]
  },
  {
   "cell_type": "code",
   "execution_count": 79,
   "metadata": {
    "cell_id": "3500175a954148d7a1a9778f7fabf6e1",
    "collapsed": false,
    "deepnote_cell_type": "code",
    "deepnote_to_be_reexecuted": false,
    "execution_millis": 14,
    "execution_start": 1681905374679,
    "jupyter": {
     "outputs_hidden": false
    },
    "pycharm": {
     "name": "#%%\n"
    },
    "source_hash": "5823bd4c"
   },
   "outputs": [
    {
     "data": {
      "text/plain": [
       "dict_items([('País', 'Noruega'), ('Inicio_produccion', '2008'), ('Fin_produccion', '2016'), ('Bloque', '15/9'), ('Tipo', 'off-shore'), ('Pozo', ['F-1C', 'F-4', 'F-5', 'F-11', 'F-12', 'F-14', 'F-15 D'])])"
      ]
     },
     "execution_count": 79,
     "metadata": {},
     "output_type": "execute_result"
    }
   ],
   "source": [
    "# The items() method returns a view object\n",
    "# The view object contains the key-value pairs of the dictionary, as tuples in a list\n",
    "\n",
    "# Show dictionary items\n",
    "campo_Volve.items()"
   ]
  },
  {
   "cell_type": "markdown",
   "metadata": {},
   "source": [
    "---"
   ]
  },
  {
   "cell_type": "code",
   "execution_count": 80,
   "metadata": {
    "cell_id": "2c3d2e7124ac415c9cae637cf7410130",
    "collapsed": false,
    "deepnote_cell_type": "code",
    "deepnote_to_be_reexecuted": false,
    "execution_millis": 1,
    "execution_start": 1681905374801,
    "jupyter": {
     "outputs_hidden": false
    },
    "pycharm": {
     "name": "#%%\n"
    },
    "source_hash": "c95bfd49"
   },
   "outputs": [
    {
     "data": {
      "text/plain": [
       "dict_values(['Noruega', '2008', '2016', '15/9', 'off-shore', ['F-1C', 'F-4', 'F-5', 'F-11', 'F-12', 'F-14', 'F-15 D']])"
      ]
     },
     "execution_count": 80,
     "metadata": {},
     "output_type": "execute_result"
    }
   ],
   "source": [
    "# The values() method returns a view object. \n",
    "#The view object contains the values of the dictionary, as a list.\n",
    "\n",
    "# Show dictionary values\n",
    "campo_Volve.values()"
   ]
  },
  {
   "cell_type": "markdown",
   "metadata": {},
   "source": [
    "---"
   ]
  },
  {
   "cell_type": "code",
   "execution_count": 81,
   "metadata": {
    "cell_id": "c3105711ce7b4d37a82b3044dbfa0627",
    "collapsed": false,
    "deepnote_cell_type": "code",
    "deepnote_to_be_reexecuted": false,
    "execution_millis": 29,
    "execution_start": 1681905376636,
    "jupyter": {
     "outputs_hidden": false
    },
    "pycharm": {
     "name": "#%%\n"
    },
    "source_hash": "e41dd426"
   },
   "outputs": [
    {
     "name": "stdout",
     "output_type": "stream",
     "text": [
      "{'País': 'Noruega', 'Inicio_produccion': '2008', 'Fin_produccion': '2016', 'Bloque': '15/9', 'Tipo': 'off-shore', 'Pozo': ['F-1C', 'F-4', 'F-5', 'F-11', 'F-12', 'F-14', 'F-15 D']}\n",
      "Noruega\n",
      "2008\n"
     ]
    }
   ],
   "source": [
    "# The get method returns the value of the item with the specified key. \n",
    "# Syntax. dictionary.get(keyname, value)\n",
    "print(campo_Volve)\n",
    "\n",
    "# Show the value of the key 'País'\n",
    "pais = campo_Volve.get('País')\n",
    "print(pais)\n",
    "\n",
    "año = campo_Volve.get(\"Inicio_produccion\")\n",
    "print(año)"
   ]
  },
  {
   "cell_type": "markdown",
   "metadata": {},
   "source": [
    "---"
   ]
  },
  {
   "cell_type": "code",
   "execution_count": 82,
   "metadata": {
    "cell_id": "eb04f5863cac4ad49f5df281d9dbcb5d",
    "collapsed": false,
    "deepnote_cell_type": "code",
    "deepnote_to_be_reexecuted": false,
    "execution_millis": 3,
    "execution_start": 1681905376799,
    "jupyter": {
     "outputs_hidden": false
    },
    "pycharm": {
     "name": "#%%\n"
    },
    "source_hash": "6c8e0757"
   },
   "outputs": [
    {
     "name": "stdout",
     "output_type": "stream",
     "text": [
      "{'País': 'Noruega', 'Inicio_produccion': '2008', 'Fin_produccion': '2016', 'Bloque': '15/9', 'Tipo': 'off-shore', 'Pozo': ['F-1C', 'F-4', 'F-5', 'F-11', 'F-12', 'F-14', 'F-15 D']}\n",
      "{'País': 'Noruega', 'Inicio_produccion': '2008', 'Fin_produccion': '2016', 'Bloque': '15/9', 'Tipo': 'off-shore', 'Pozo': ['F-1C', 'F-4', 'F-5', 'F-11', 'F-12', 'F-14', 'F-15 D'], 'continente': 'Europa'}\n"
     ]
    }
   ],
   "source": [
    "# The update method inserts the specified items to the dictionary \n",
    "# Syntax > dictionary.update(iterable)\n",
    "print(campo_Volve)\n",
    "\n",
    "# Add the key: continente and assign the value: Europa and display it\n",
    "campo_Volve.update({'continente':'Europa'})\n",
    "print(campo_Volve)"
   ]
  },
  {
   "cell_type": "markdown",
   "metadata": {},
   "source": [
    "---"
   ]
  },
  {
   "cell_type": "code",
   "execution_count": 83,
   "metadata": {
    "cell_id": "328be29eb4b34d13b32604e5498d3cea",
    "collapsed": false,
    "deepnote_cell_type": "code",
    "deepnote_to_be_reexecuted": false,
    "execution_millis": 10,
    "execution_start": 1681905377056,
    "jupyter": {
     "outputs_hidden": false
    },
    "pycharm": {
     "name": "#%%\n"
    },
    "source_hash": "620cf9d8"
   },
   "outputs": [
    {
     "name": "stdout",
     "output_type": "stream",
     "text": [
      "{'País': 'Noruega', 'Inicio_produccion': '2008', 'Fin_produccion': '2016', 'Bloque': '15/9', 'Tipo': 'off-shore', 'Pozo': ['F-1C', 'F-4', 'F-5', 'F-11', 'F-12', 'F-14', 'F-15 D'], 'continente': 'Europa'}\n",
      "{'País': 'Noruega', 'Inicio_produccion': '2008', 'Fin_produccion': '2016', 'Bloque': '15/9', 'Tipo': 'off-shore', 'Pozo': ['F-1C', 'F-4', 'F-5', 'F-11', 'F-12', 'F-14', 'F-15 D']}\n"
     ]
    }
   ],
   "source": [
    "# The popitem method removes the item that was last inserted into the dictionary\n",
    "# Syntax > dictionary.popitem()\n",
    "print(campo_Volve)\n",
    "\n",
    "# Remove the key: continente and its value: Europa\n",
    "campo_Volve.popitem()\n",
    "print(campo_Volve)"
   ]
  },
  {
   "cell_type": "markdown",
   "metadata": {},
   "source": [
    "---"
   ]
  },
  {
   "cell_type": "code",
   "execution_count": 84,
   "metadata": {
    "cell_id": "dce766ee2050468282788b0b84f2025d",
    "collapsed": false,
    "deepnote_cell_type": "code",
    "deepnote_to_be_reexecuted": false,
    "execution_millis": 9,
    "execution_start": 1681905378010,
    "jupyter": {
     "outputs_hidden": false
    },
    "pycharm": {
     "name": "#%%\n"
    },
    "source_hash": "c93c1e50"
   },
   "outputs": [
    {
     "name": "stdout",
     "output_type": "stream",
     "text": [
      "{'País': 'Noruega', 'Inicio_produccion': '2008', 'Fin_produccion': '2016', 'Bloque': '15/9', 'Tipo': 'off-shore', 'Pozo': ['F-1C', 'F-4', 'F-5', 'F-11', 'F-12', 'F-14', 'F-15 D']}\n",
      "{'País': 'Noruega', 'Inicio_produccion': '2008', 'Fin_produccion': '2016', 'Bloque': '15/9', 'Tipo': 'off-shore', 'Pozo': ['F-1C', 'F-4', 'F-5', 'F-11', 'F-12', 'F-14', 'F-15 D'], 'Continente': 'Europa'}\n"
     ]
    }
   ],
   "source": [
    "# The pop method removes the element at the specified position. Syntax > list.pop(pos)\n",
    "print(campo_Volve)\n",
    "\n",
    "# Add the key: continente and assign the value: Europa\n",
    "campo_Volve['Continente'] = 'Europa'\n",
    "\n",
    "# Remove the key: continente and its value: Europa using only pop\n",
    "print(campo_Volve)"
   ]
  },
  {
   "cell_type": "code",
   "execution_count": 85,
   "metadata": {},
   "outputs": [
    {
     "name": "stdout",
     "output_type": "stream",
     "text": [
      "{'País': 'Noruega', 'Inicio_produccion': '2008', 'Fin_produccion': '2016', 'Bloque': '15/9', 'Tipo': 'off-shore', 'Pozo': ['F-1C', 'F-4', 'F-5', 'F-11', 'F-12', 'F-14', 'F-15 D']}\n"
     ]
    }
   ],
   "source": [
    "campo_Volve.pop('Continente')\n",
    "print(campo_Volve)"
   ]
  },
  {
   "cell_type": "markdown",
   "metadata": {},
   "source": [
    "---"
   ]
  },
  {
   "cell_type": "markdown",
   "metadata": {
    "cell_id": "53c9d069870943b0875f3ba991b0df6d",
    "deepnote_cell_height": 712.2833251953125,
    "deepnote_cell_type": "markdown",
    "tags": []
   },
   "source": [
    "# Part 1 Test"
   ]
  },
  {
   "cell_type": "markdown",
   "metadata": {
    "cell_id": "bc2aaa12a33f4fb2b91e5be1b3014e93",
    "deepnote_cell_type": "markdown"
   },
   "source": [
    "#### 1) In this excercise you will create a list containing the names of the  academic programs offered by FICT ( and postgraduate programs) following the next steps:\n",
    "\n",
    "**a)** Create a list called **pregrado** with the undergraduate programs and another liste named **postgrado** with the names of our postgraduate programs.\n",
    "\n",
    "\n",
    "**b)** Concatenate and sort this list in alphabetical order\n",
    "\n",
    "**c)** What is the name of the fifth program?"
   ]
  },
  {
   "cell_type": "code",
   "execution_count": null,
   "metadata": {
    "cell_id": "f702dda64b6047c3ad53587450685e8f",
    "deepnote_cell_type": "code",
    "deepnote_to_be_reexecuted": false,
    "execution_millis": 4,
    "execution_start": 1681905379882,
    "source_hash": "2fb0f886"
   },
   "outputs": [],
   "source": [
    "# Insert your code\n",
    "\n"
   ]
  },
  {
   "cell_type": "markdown",
   "metadata": {
    "cell_id": "33070b9160974d029d2c140a7fc31256",
    "deepnote_cell_type": "markdown"
   },
   "source": [
    "#### 2) Create a dictionary containing the average oil production in barrels per day of the following countries:\n",
    "- United States -> 14,837,639.510\n",
    "- China -> 4,905,070.874\n",
    "- Kazakhstan -> 1,698,280.454\n",
    "- Ecuador -> 548,378.765\n",
    "- Cameroon -> 92,469.000\n",
    "- Norway -> 2,003,747.525\n",
    "- Brazil -> 3,242,957.836\n",
    "\n",
    "Then, solve the following questions:\n",
    "\n",
    "**a)** Add Qatar's oil production -> 1,987,192.978 bpd\n",
    "\n",
    "**b)** Delete China's oil production from dictionary\n",
    "\n",
    "**c)** What are the keys of this dictionary?\n",
    "\n",
    "**d)** What is the length of this dictionary?"
   ]
  },
  {
   "cell_type": "code",
   "execution_count": null,
   "metadata": {
    "cell_id": "6088dde258294824820a244bcd00fb83",
    "deepnote_cell_type": "code",
    "deepnote_to_be_reexecuted": false,
    "execution_millis": 2,
    "execution_start": 1681905380666,
    "source_hash": "658b7076"
   },
   "outputs": [],
   "source": [
    "# Insert your code\n",
    "\n"
   ]
  },
  {
   "cell_type": "markdown",
   "metadata": {},
   "source": [
    "---"
   ]
  },
  {
   "cell_type": "markdown",
   "metadata": {
    "cell_id": "28e02272fd6b418bbddc5f780b2eeb84",
    "deepnote_cell_height": 81.98333740234375,
    "deepnote_cell_type": "markdown"
   },
   "source": [
    "# 2. Part 2 - Compound Statements"
   ]
  },
  {
   "cell_type": "markdown",
   "metadata": {
    "cell_id": "0b50251f859d4f2e8505acf97a0c67ff",
    "deepnote_cell_height": 257.76666259765625,
    "deepnote_cell_type": "markdown"
   },
   "source": [
    "## 2.1. Conditionals (if, else, elif)\n",
    "\n",
    "- The **if-else statement** is used to code the same way you would use it in the English language. The syntax for the if-else statement is:\n",
    "\n",
    "- On the other hand, **The elif statement** allows you to check multiple expressions for TRUE and execute a block of code as soon as one of the conditions evaluates to TRUE.\n",
    "\n",
    "- Similar to the else, **the elif statement** is optional. However, unlike else, for which there can be at most one statement, there can be an arbitrary number of **elif statements following an if.**\n",
    "\n",
    "- The syntax of this compound statement is shown below:"
   ]
  },
  {
   "cell_type": "markdown",
   "metadata": {
    "cell_id": "90456bd8fbb54291a465491f1563f232",
    "deepnote_cell_height": 573.9166870117188,
    "deepnote_cell_type": "markdown",
    "tags": []
   },
   "source": [
    "![Picture Title](Recursos/if_sintaxis.png) "
   ]
  },
  {
   "cell_type": "code",
   "execution_count": 86,
   "metadata": {
    "cell_id": "46e19b0057e44d5abc5b82daa2a0d5be",
    "collapsed": false,
    "deepnote_cell_type": "code",
    "deepnote_to_be_reexecuted": false,
    "execution_millis": 12,
    "execution_start": 1681905382712,
    "jupyter": {
     "outputs_hidden": false
    },
    "pycharm": {
     "name": "#%%\n"
    },
    "source_hash": "85f49bb5"
   },
   "outputs": [],
   "source": [
    "# Using if and else example\n",
    "campo = campo_Volve.copy()"
   ]
  },
  {
   "cell_type": "code",
   "execution_count": 88,
   "metadata": {},
   "outputs": [
    {
     "name": "stdout",
     "output_type": "stream",
     "text": [
      "El campo Volve se encuentra en el area que corresponde al mar del norte noruego\n"
     ]
    }
   ],
   "source": [
    "# Insert a new element to dictionary\n",
    "campo['Nombre'] = 'Volve'\n",
    "\n",
    "if campo['Nombre'] == 'Volve': # insert the condition campo['Nombre'] = 'Volve'\n",
    "    print(\"El campo Volve se encuentra en el area que corresponde al mar del norte noruego.\")\n",
    "else:\n",
    "    print(\"No se dispone de información del campo en mención\")"
   ]
  },
  {
   "cell_type": "code",
   "execution_count": 91,
   "metadata": {
    "cell_id": "17cb72f24e404b45ab10dbc5c54f431a",
    "collapsed": false,
    "deepnote_cell_type": "code",
    "deepnote_to_be_reexecuted": false,
    "execution_millis": 2,
    "execution_start": 1681905383286,
    "jupyter": {
     "outputs_hidden": false
    },
    "pycharm": {
     "name": "#%%\n"
    },
    "source_hash": "3fb8b15d"
   },
   "outputs": [
    {
     "name": "stdout",
     "output_type": "stream",
     "text": [
      "No hay información sobre este país.\n"
     ]
    }
   ],
   "source": [
    "if campo['País'] == 'Inglaterra': # insert condition País = Inglaterra\n",
    "    if campo['Bloque'] == '15/9': \n",
    "        print('Este campo es Offshore')\n",
    "    elif campo['Bloque'] == '15/10':\n",
    "        print('Este campo no existe')\n",
    "else:\n",
    "    print('No hay información sobre este país.')"
   ]
  },
  {
   "cell_type": "code",
   "execution_count": 92,
   "metadata": {
    "cell_id": "509c7ddc703f45febfe75cacd7157914",
    "collapsed": false,
    "deepnote_cell_type": "code",
    "deepnote_to_be_reexecuted": false,
    "execution_millis": 6,
    "execution_start": 1681905384005,
    "jupyter": {
     "outputs_hidden": false
    },
    "pycharm": {
     "name": "#%%\n"
    },
    "source_hash": "a83ca166"
   },
   "outputs": [
    {
     "name": "stdout",
     "output_type": "stream",
     "text": [
      "El crudo es extra pesado\n"
     ]
    }
   ],
   "source": [
    "# Insert a list of API values \n",
    "\n",
    "API = [9, 15, 23, 32, 40]\n",
    "\n",
    "# Identify wich type of crude is the first element of the API list\n",
    "if API[0] <= 10:\n",
    "    print('El crudo es extra pesado')\n",
    "elif API[0] >= 11 and API[0] <= 21:\n",
    "    print(\"El crudo es pesado\")\n",
    "elif API[0] >= 22 and API[0] <= 29:\n",
    "    print(\"El crudo es mediano\")\n",
    "elif API[0] >= 30:\n",
    "    print(\"El crudo es liviano\")"
   ]
  },
  {
   "cell_type": "code",
   "execution_count": 93,
   "metadata": {
    "cell_id": "965a4dc4eba74c6d84569ec925431b5e",
    "deepnote_app_coordinates": {
     "h": 5,
     "w": 12,
     "x": 0,
     "y": 0
    },
    "deepnote_cell_type": "code",
    "deepnote_to_be_reexecuted": false,
    "execution_millis": 24,
    "execution_start": 1681905384579,
    "source_hash": "d803d53b"
   },
   "outputs": [
    {
     "name": "stdout",
     "output_type": "stream",
     "text": [
      "El crudo es mediano\n"
     ]
    }
   ],
   "source": [
    "# # Identify wich type of crude is the element whose value is 23\n",
    "\n",
    "if API[2] <= 10:\n",
    "    print('El crudo es extra pesado')\n",
    "elif API[2] >= 11 and API[2] <= 21:\n",
    "    print(\"El crudo es pesado\")\n",
    "elif API[2] >= 22 and API[2] <= 29:\n",
    "    print(\"El crudo es mediano\")\n",
    "elif API[2] >= 30:\n",
    "    print(\"El crudo es liviano\")"
   ]
  },
  {
   "cell_type": "markdown",
   "metadata": {},
   "source": [
    "---"
   ]
  },
  {
   "cell_type": "markdown",
   "metadata": {
    "cell_id": "8f41c29d589549c0b0843b8ae983239e",
    "deepnote_cell_height": 145.1666717529297,
    "deepnote_cell_type": "markdown"
   },
   "source": [
    "## 2.2. Loops (for, while)\n",
    "\n",
    "Loops are important in Python or in any other programming language as they help you to execute a **block of code repeatedly**. You will often come face to face with situations where you would need to use a piece of code over and over but you don't want to write the same line of code multiple times."
   ]
  },
  {
   "cell_type": "markdown",
   "metadata": {
    "cell_id": "a9bf1357a92d41159bda567f9852a6d2",
    "deepnote_cell_height": 172.56666564941406,
    "deepnote_cell_type": "markdown",
    "tags": []
   },
   "source": [
    "### 2.2.1. for Loop\n",
    "\n",
    "- A for loop is a programming concept that, when it's implemented, executes a piece of code over and over again \"for\" a certain number of times, based on a sequence. This \"number of times\" is determined by a sequence or an ordered list of things. \n",
    "\n",
    "- The syntax of this compound statement is shown below:\n"
   ]
  },
  {
   "cell_type": "markdown",
   "metadata": {
    "cell_id": "5c8d243741be475e835fe82841e1f22c",
    "deepnote_cell_height": 425.6333312988281,
    "deepnote_cell_type": "markdown",
    "tags": []
   },
   "source": [
    "![Picture Title](Recursos/for_sintaxis.png) "
   ]
  },
  {
   "cell_type": "code",
   "execution_count": 94,
   "metadata": {},
   "outputs": [
    {
     "data": {
      "text/plain": [
       "[9, 15, 23, 32, 40]"
      ]
     },
     "execution_count": 94,
     "metadata": {},
     "output_type": "execute_result"
    }
   ],
   "source": [
    "API"
   ]
  },
  {
   "cell_type": "code",
   "execution_count": 95,
   "metadata": {
    "cell_id": "f46ef416c7db486ab35c3e03ee1196c0",
    "collapsed": false,
    "deepnote_cell_type": "code",
    "deepnote_to_be_reexecuted": false,
    "execution_millis": 10,
    "execution_start": 1681905387459,
    "jupyter": {
     "outputs_hidden": false
    },
    "pycharm": {
     "name": "#%%\n"
    },
    "source_hash": "4580731"
   },
   "outputs": [
    {
     "name": "stdout",
     "output_type": "stream",
     "text": [
      "El crudo con API 9 es extra pesado\n",
      "El crudo con API 15 es pesado\n",
      "El crudo con API 23 es mediano\n",
      "El crudo con API 32 es liviano\n",
      "El crudo con API 40 es liviano\n"
     ]
    }
   ],
   "source": [
    "# Use a for Loop to determine the type of crude of the elements in the list API\n",
    "for crudo in API:\n",
    "    if crudo <= 10:\n",
    "        print(f'El crudo con API {crudo} es extra pesado')\n",
    "    elif (crudo >= 11 and crudo <= 21):\n",
    "        print(f\"El crudo con API {crudo} es pesado\")\n",
    "    elif (crudo >= 22 and crudo <= 29):\n",
    "        print(f\"El crudo con API {crudo} es mediano\")\n",
    "    elif crudo >= 30:\n",
    "        print(f\"El crudo con API {crudo} es liviano\")"
   ]
  },
  {
   "cell_type": "code",
   "execution_count": 96,
   "metadata": {
    "cell_id": "9b7c8b6d565e42f299838dda1b4b1c22",
    "collapsed": false,
    "deepnote_cell_type": "code",
    "deepnote_to_be_reexecuted": false,
    "execution_millis": 22,
    "execution_start": 1681905907925,
    "jupyter": {
     "outputs_hidden": false
    },
    "pycharm": {
     "name": "#%%\n"
    },
    "source_hash": "b7405e30"
   },
   "outputs": [
    {
     "name": "stdout",
     "output_type": "stream",
     "text": [
      "País\n",
      "Inicio_produccion\n",
      "Fin_produccion\n",
      "Bloque\n",
      "Tipo\n",
      "Pozo\n"
     ]
    }
   ],
   "source": [
    "# Use for Loop to print the keys\n",
    "for keys in campo_Volve:\n",
    "    print(keys)"
   ]
  },
  {
   "cell_type": "code",
   "execution_count": 97,
   "metadata": {
    "cell_id": "f451fb32b45a44e99ea63fe215390fd3",
    "collapsed": false,
    "deepnote_cell_type": "code",
    "deepnote_to_be_reexecuted": false,
    "execution_millis": 10,
    "execution_start": 1681905389027,
    "jupyter": {
     "outputs_hidden": false
    },
    "pycharm": {
     "name": "#%%\n"
    },
    "source_hash": "cc0deceb"
   },
   "outputs": [
    {
     "name": "stdout",
     "output_type": "stream",
     "text": [
      "{'País': 'Noruega', 'Inicio_produccion': '2008', 'Fin_produccion': '2016', 'Bloque': '15/9', 'Tipo': 'off-shore', 'Pozo': ['F-1C', 'F-4', 'F-5', 'F-11', 'F-12', 'F-14', 'F-15 D']}\n",
      "\n",
      "País -> Noruega\n",
      "Inicio_produccion -> 2008\n",
      "Fin_produccion -> 2016\n",
      "Bloque -> 15/9\n",
      "Tipo -> off-shore\n",
      "Pozo -> ['F-1C', 'F-4', 'F-5', 'F-11', 'F-12', 'F-14', 'F-15 D']\n"
     ]
    }
   ],
   "source": [
    "# Use for Loop to print the keys and values line by line\n",
    "print(campo_Volve)\n",
    "print()\n",
    "for clave, valor in campo_Volve.items():\n",
    "    print(f\"{clave} -> {valor}\")"
   ]
  },
  {
   "cell_type": "code",
   "execution_count": 98,
   "metadata": {},
   "outputs": [
    {
     "data": {
      "text/plain": [
       "dict_values(['Noruega', '2008', '2016', '15/9', 'off-shore', ['F-1C', 'F-4', 'F-5', 'F-11', 'F-12', 'F-14', 'F-15 D']])"
      ]
     },
     "execution_count": 98,
     "metadata": {},
     "output_type": "execute_result"
    }
   ],
   "source": [
    "campo_Volve.values()"
   ]
  },
  {
   "cell_type": "code",
   "execution_count": 99,
   "metadata": {
    "cell_id": "ee1f3fd71f33410285fb638bd78c56c4",
    "collapsed": false,
    "deepnote_cell_type": "code",
    "deepnote_to_be_reexecuted": false,
    "execution_millis": 4,
    "execution_start": 1681905389599,
    "jupyter": {
     "outputs_hidden": false
    },
    "pycharm": {
     "name": "#%%\n"
    },
    "source_hash": "1abcb60d"
   },
   "outputs": [
    {
     "name": "stdout",
     "output_type": "stream",
     "text": [
      "la Información del campo es correcta\n"
     ]
    }
   ],
   "source": [
    "# Check the information of initial oil production date  \n",
    "\n",
    "for value in campo_Volve.values():\n",
    "    if value == 'Noruega':\n",
    "        continue\n",
    "    elif value != '2008':\n",
    "        break\n",
    "        print('El campo empezó a producir a partir del 2008')\n",
    "    else:\n",
    "        print('la Información del campo es correcta')"
   ]
  },
  {
   "cell_type": "markdown",
   "metadata": {
    "cell_id": "ec1a644a37e64d51afa5df2fca8b1020",
    "deepnote_cell_height": 293.1499938964844,
    "deepnote_cell_type": "markdown",
    "tags": []
   },
   "source": [
    "### 2.2.2. while loop\n",
    "\n",
    "A while loop is a programming concept that, when it's implemented, executes a piece of code over and over again while a given condition still holds true.\n",
    "\n",
    "The above definition also highlights the three components that you need to construct the while loop in Python:\n",
    "\n",
    "- The while keyword;\n",
    "- A condition that transates to either True or False; And\n",
    "- A block of code that you want to execute repeatedly\n",
    "\n",
    "\n",
    "The syntax of this compound statement is shown below:"
   ]
  },
  {
   "cell_type": "markdown",
   "metadata": {
    "cell_id": "e5a821bf8b9f4c9381e75fcda544a2e7",
    "deepnote_cell_height": 425.6333312988281,
    "deepnote_cell_type": "markdown",
    "tags": []
   },
   "source": [
    "![Picture Title](Recursos/while_sintaxis.png) "
   ]
  },
  {
   "cell_type": "code",
   "execution_count": 100,
   "metadata": {},
   "outputs": [
    {
     "data": {
      "text/plain": [
       "['F-1C', 'F-4', 'F-5', 'F-11', 'F-12', 'F-14', 'F-15 D']"
      ]
     },
     "execution_count": 100,
     "metadata": {},
     "output_type": "execute_result"
    }
   ],
   "source": [
    "campo_Volve['Pozo']"
   ]
  },
  {
   "cell_type": "code",
   "execution_count": 101,
   "metadata": {
    "cell_id": "e4b375252ebe4ddc988e7cd5d22b90ce",
    "collapsed": false,
    "deepnote_cell_type": "code",
    "deepnote_to_be_reexecuted": false,
    "execution_millis": 14,
    "execution_start": 1681905804155,
    "jupyter": {
     "outputs_hidden": false
    },
    "pycharm": {
     "name": "#%%\n"
    },
    "source_hash": "825c45c"
   },
   "outputs": [
    {
     "name": "stdout",
     "output_type": "stream",
     "text": [
      "El campo Volve tiene 7 pozos direccionales\n"
     ]
    }
   ],
   "source": [
    "# use while loop to count the number of wells\n",
    "suma = 0\n",
    "while suma < len(campo_Volve['Pozo']):\n",
    "    suma += 1\n",
    "print(f\"El campo Volve tiene {suma} pozos direccionales\")"
   ]
  },
  {
   "cell_type": "markdown",
   "metadata": {},
   "source": [
    "---"
   ]
  },
  {
   "cell_type": "markdown",
   "metadata": {
    "cell_id": "49e1aa66baaa4879a87df9f40e48ae58",
    "deepnote_cell_height": 195.56666564941406,
    "deepnote_cell_type": "markdown"
   },
   "source": [
    "## 2.3. Functions\n",
    "\n",
    "A function is a group of related statements that performs a specific task.\n",
    "\n",
    "On the other hand, functions help break our program into smaller and modular chunks. As our program grows larger and larger, functions make it more organized and manageable.\n",
    "\n",
    "The syntax of this compound statement is shown below:"
   ]
  },
  {
   "cell_type": "markdown",
   "metadata": {
    "cell_id": "2807bc6cf798438aa4a56393a9143e1f",
    "deepnote_cell_height": 591.2166748046875,
    "deepnote_cell_type": "markdown",
    "tags": []
   },
   "source": [
    "![Picture Title](Recursos/function_sintaxis.png) "
   ]
  },
  {
   "cell_type": "code",
   "execution_count": 102,
   "metadata": {
    "cell_id": "c5bc9d95b8dc426cb65d0a8bf61c053a",
    "collapsed": false,
    "deepnote_cell_type": "code",
    "deepnote_to_be_reexecuted": false,
    "execution_millis": 60,
    "execution_start": 1681847336474,
    "jupyter": {
     "outputs_hidden": false
    },
    "pycharm": {
     "name": "#%%\n"
    },
    "source_hash": "dc9ed22a"
   },
   "outputs": [],
   "source": [
    "# Create a function to print 'es un campo Offshore que se encuentra en el Mar del Norte'\n",
    "def campo_volve():\n",
    "    print('es un campo Offshore que se encuentra en el Mar del Norte')"
   ]
  },
  {
   "cell_type": "code",
   "execution_count": 103,
   "metadata": {
    "cell_id": "63366a743f254089b9d55986d386c6ce",
    "collapsed": false,
    "deepnote_cell_type": "code",
    "deepnote_to_be_reexecuted": false,
    "execution_millis": 26,
    "execution_start": 1681847339313,
    "jupyter": {
     "outputs_hidden": false
    },
    "pycharm": {
     "name": "#%%\n"
    },
    "source_hash": "a09838a4"
   },
   "outputs": [
    {
     "name": "stdout",
     "output_type": "stream",
     "text": [
      "Uno de los campos mas conocidos del continente europeo es el campo volve, el cual\n",
      "es un campo Offshore que se encuentra en el Mar del Norte\n"
     ]
    }
   ],
   "source": [
    "# Use the previous function to complete the sentence\n",
    "print('Uno de los campos mas conocidos del continente europeo es el campo volve, el cual')\n",
    "campo_volve()"
   ]
  },
  {
   "cell_type": "markdown",
   "metadata": {
    "cell_id": "be68921bcd6d4c4bab260d8e21199946",
    "deepnote_cell_height": 348.683349609375,
    "deepnote_cell_type": "markdown"
   },
   "source": [
    "![darcy](Recursos/DarcyG.png)\n",
    "*Figure 5. Darcy Law*\n",
    "\n",
    "**Darcy Equation**\n",
    "\n",
    "if is horizontal linear flow:\n",
    "$$Q = \\frac{kA(P_{1}-P_{2})}{u L}$$  ;$$P_{1}>P_{2}$$\n",
    "\n",
    "if is inclined linear flow:\n",
    "$$Q = \\frac{-kA}{u} ( \\frac{dp}{dL} + {g\\rho sin \\theta} )$$\n",
    "\n",
    "**Where:** \\\n",
    "*$Q$:* Flow rate $(m^{3}/s)$\\\n",
    "*$k$:* Coefficient of permeability $(m^{2})$\\\n",
    "*$A$:* Cross sectional area of flow $(m^{2})$\\\n",
    "*$P1$:* Pressure at point 1 $(Pa)$\\\n",
    "*$P2$:* Pressure at point 1 $(Pa)$\\\n",
    "*$u$:* Viscosity  $(Pa *s)$\\\n",
    "*$L$:* Length $(m)$"
   ]
  },
  {
   "cell_type": "code",
   "execution_count": 104,
   "metadata": {
    "cell_id": "242037ccbb524bf8a7c3278e04505754",
    "collapsed": false,
    "deepnote_cell_type": "code",
    "deepnote_to_be_reexecuted": false,
    "execution_millis": 13,
    "execution_start": 1681848894991,
    "jupyter": {
     "outputs_hidden": false
    },
    "pycharm": {
     "name": "#%%\n"
    },
    "source_hash": "361f687b"
   },
   "outputs": [],
   "source": [
    "# Import math library\n",
    "import math\n",
    "\n",
    "# Linear flow rate\n",
    "def FlowRate(k, A, P1, P2 , u, L, g, rho=None, theta=None):\n",
    "    if rho is None or theta is None: # Linear horizontal\n",
    "        Q = (k * A * (P1 - P2)) / (u * L)\n",
    "\n",
    "    elif rho is not None and theta is not None: # Linear non horizontal\n",
    "        Q = ((k * A) / u) * (((P1 - P2) / L ) + (g * rho * math.sin(theta)))\n",
    "    return Q"
   ]
  },
  {
   "cell_type": "markdown",
   "metadata": {
    "cell_id": "f963bd62d36b4f1294a7940d1b950ae2",
    "deepnote_cell_type": "markdown"
   },
   "source": [
    "**Water Resistivity (Archie equation)**\n",
    "\n",
    "$$R_w = \\frac{R_{t} * \\phi^{m}}a$$\n",
    "\n",
    "**Where:** \\\n",
    "*$R_w$:* Apparent Resistivity of formation water $(\\Omega-m)$\\\n",
    "*$R_t$:* True formation resistivity as derived from a deep reading resistivity log $(\\Omega-m)$\\\n",
    "*$\\phi$:* Porosity $(fraction)$\\\n",
    "*$a$:* Tortuosity factor\\\n",
    "*$m$:* cementation exponent"
   ]
  },
  {
   "cell_type": "code",
   "execution_count": 105,
   "metadata": {
    "cell_id": "3548260a292f48fc9276998ffb29b624",
    "collapsed": false,
    "deepnote_cell_type": "code",
    "deepnote_to_be_reexecuted": false,
    "execution_millis": 33,
    "execution_start": 1681848898461,
    "jupyter": {
     "outputs_hidden": false
    },
    "pycharm": {
     "name": "#%%\n"
    },
    "source_hash": "a9bcc950"
   },
   "outputs": [],
   "source": [
    "# Water resistivity - Archie equation\n",
    "def water_rw(ro, phi, a, m):\n",
    "    rw = (ro * phi ** m) / a\n",
    "    return rw"
   ]
  },
  {
   "cell_type": "markdown",
   "metadata": {},
   "source": [
    "---"
   ]
  },
  {
   "cell_type": "markdown",
   "metadata": {
    "cell_id": "b8b8775e810a494f95f42c20f30906b8",
    "deepnote_cell_height": 244.89999389648438,
    "deepnote_cell_type": "markdown",
    "tags": []
   },
   "source": [
    "# Part 2 Test"
   ]
  },
  {
   "cell_type": "markdown",
   "metadata": {
    "cell_id": "be3d62d303644a8aa9194970b51e035d",
    "deepnote_cell_type": "markdown"
   },
   "source": [
    "#### 1) What is the flow rate in m$^3$/s through a core if we measured the following values under horizontal flow test:\n",
    "- $K = 2*{10^{-11}}{m^2}$\n",
    "- $P_{1} = 18000 Pa$\n",
    "- $P_{2} = 10000 Pa$\n",
    "- $A = 0.25 {m^2}$\n",
    "- $u= 0.001 mPa*s$\n",
    "- $L= 0.5 m$\n",
    "1 darcy is aproximately 1×10−12 $m^{2}$"
   ]
  },
  {
   "cell_type": "code",
   "execution_count": null,
   "metadata": {
    "cell_id": "a8b82c25c19441e19a05148cb1a2958f",
    "deepnote_cell_type": "code",
    "deepnote_to_be_reexecuted": false,
    "execution_millis": 18,
    "execution_start": 1681848028706,
    "source_hash": "7ff93e3"
   },
   "outputs": [],
   "source": [
    "# Insert your code\n",
    "\n"
   ]
  },
  {
   "cell_type": "markdown",
   "metadata": {
    "cell_id": "e84332b48f1a4d02883bc0ad7f749888",
    "deepnote_cell_type": "markdown"
   },
   "source": [
    "\n",
    "#### 2) Write a code to obtain the artificial lift methods whose name starts with a vowel. For this example, consider the following list: [\"Rod pump\", \"Gas lift\", \"PCP\", \"ESP\", \"Hydraulic pump\"]"
   ]
  },
  {
   "cell_type": "code",
   "execution_count": null,
   "metadata": {
    "cell_id": "630722353fa6438ba4929ab5931371b9",
    "deepnote_cell_type": "code",
    "deepnote_to_be_reexecuted": false,
    "execution_millis": 4,
    "execution_start": 1681904954356,
    "source_hash": "658b7076"
   },
   "outputs": [],
   "source": [
    "# Insert your code"
   ]
  },
  {
   "cell_type": "markdown",
   "metadata": {},
   "source": [
    "---"
   ]
  },
  {
   "cell_type": "markdown",
   "metadata": {
    "cell_id": "382d2fcf630045abbbc2587b779e557b",
    "deepnote_cell_height": 198.76666259765625,
    "deepnote_cell_type": "markdown"
   },
   "source": [
    "# 3. Bonus data type\n",
    "## 3.1. datetime\n",
    "The Volve field start producing in January of 2008 to June 2016. Let's check for how many days the field produced!"
   ]
  },
  {
   "cell_type": "code",
   "execution_count": null,
   "metadata": {
    "cell_id": "d4821c8c9fc24af1a375805266f237f5",
    "collapsed": false,
    "deepnote_cell_type": "code",
    "deepnote_to_be_reexecuted": false,
    "execution_millis": 1,
    "execution_start": 1681826013582,
    "jupyter": {
     "outputs_hidden": false
    },
    "pycharm": {
     "name": "#%%\n"
    },
    "source_hash": "5c66d142"
   },
   "outputs": [],
   "source": [
    "import datetime\n",
    "start_production = datetime.datetime(year=2008, month=1, day=1)\n",
    "end_production = datetime.datetime(year=2016, month=6, day=1)\n",
    "prod_days = end_production - start_production\n",
    "print(prod_days)"
   ]
  },
  {
   "cell_type": "markdown",
   "metadata": {
    "cell_id": "22a2ddaab1c641128116635573e33995",
    "deepnote_cell_height": 74.78334045410156,
    "deepnote_cell_type": "markdown"
   },
   "source": [
    "Wow! It produced for 3074 days! What if the field started production today? Until what year would the production last?"
   ]
  },
  {
   "cell_type": "code",
   "execution_count": null,
   "metadata": {
    "cell_id": "a3d861db10914058a645c734dc8094af",
    "collapsed": false,
    "deepnote_cell_type": "code",
    "deepnote_to_be_reexecuted": false,
    "execution_millis": 1,
    "execution_start": 1681826013582,
    "jupyter": {
     "outputs_hidden": false
    },
    "pycharm": {
     "name": "#%%\n"
    },
    "source_hash": "fa5a5029"
   },
   "outputs": [],
   "source": [
    "now = datetime.date.today()\n",
    "print(now + prod_days)"
   ]
  }
 ],
 "metadata": {
  "deepnote": {},
  "deepnote_app_layout": "article",
  "deepnote_execution_queue": [],
  "deepnote_notebook_id": "2cc847dfbe7041b69d026827546e822f",
  "deepnote_persisted_session": {
   "createdAt": "2023-04-18T21:02:25.865Z"
  },
  "kernelspec": {
   "display_name": "Python 3 (ipykernel)",
   "language": "python",
   "name": "python3"
  },
  "language_info": {
   "codemirror_mode": {
    "name": "ipython",
    "version": 3
   },
   "file_extension": ".py",
   "mimetype": "text/x-python",
   "name": "python",
   "nbconvert_exporter": "python",
   "pygments_lexer": "ipython3",
   "version": "3.10.12"
  }
 },
 "nbformat": 4,
 "nbformat_minor": 4
}
