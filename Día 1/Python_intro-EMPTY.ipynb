{
 "cells": [
  {
   "cell_type": "markdown",
   "metadata": {
    "cell_id": "31b06e813bf542ae9f755e0741ad9487",
    "deepnote_cell_height": 81.98333740234375,
    "deepnote_cell_type": "markdown"
   },
   "source": [
    "# Day 1 - Python Basics"
   ]
  },
  {
   "cell_type": "markdown",
   "metadata": {
    "cell_id": "74d4e2b266e048b5a194a6044e722025",
    "deepnote_cell_height": 449.1499938964844,
    "deepnote_cell_type": "markdown"
   },
   "source": [
    "## Contents\n",
    "\n",
    "- **Part 1 - Data Structures (45 min)**\n",
    "    - 1.0. Introduction\n",
    "    - 1.1. Data Types and Structures\n",
    "    - 1.2. Lists: basis and manipulation\n",
    "    - 1.3. Dictionaries: basis and manipulation\n",
    "- **Test Part 1 (15 min)**\n",
    "- **Part 2 - Compound Statements(60 min)**\n",
    "    - 2.1. Conditionals (if, else, elif)\n",
    "    - 2.2. Loops (for, while)\n",
    "    - 2.3. Functions\n",
    "- **Test Part 2 (15 min)**\n"
   ]
  },
  {
   "cell_type": "markdown",
   "metadata": {
    "cell_id": "548ff486afd94403aac53f2e0dbf8f54",
    "deepnote_cell_height": 345.566650390625,
    "deepnote_cell_type": "markdown"
   },
   "source": [
    "# 1) Data structures\n",
    "\n"
   ]
  },
  {
   "cell_type": "markdown",
   "metadata": {
    "cell_id": "7fc1afaac59f4b57a1bf9776f1da8684",
    "deepnote_cell_height": 108.38333129882812,
    "deepnote_cell_type": "markdown",
    "tags": []
   },
   "source": [
    "\n",
    "## 1.0) Introduction\n",
    "\n",
    "### First steps\n",
    "Writing code is an important part of programming. We start with a blank file, write a few lines of code, and a program is born! \n",
    "\n",
    "\n",
    "### Notebooks\n",
    "\n",
    "They consist of units called `cells`. Cells can contain markdown text like this one, or Python code (notice that code cells are numbered). To run a cell you can click the `Run` button. These are some useful shortcuts:\n",
    "\n",
    "- To run a cell and stay in the same cell, type `Ctrl+Enter` \n",
    "- To run a cell and move to the next cell, type `Shift+Enter`\n",
    "- To run a cell and insert a new cell below, type `Alt+Enter`\n",
    "- To run all the cells of a notebook, choose the `Cell -> Run all` menu\n",
    "- Use the up and down arrow keys to move quickly between cells\n",
    "\n",
    "**Remember**: **IDEs** on the other hand are software for building applications with the different tools for writing a program such as source code editor and code debugger. They facilitate this process with features like syntax highlighting and autocomplete. For further information chek this [note](https://keith-monreal.medium.com/notebook-vs-ide-180d38a0cd55#:~:text=Notebooks%20are%20files%20which%20supports,code%20editor%20and%20code%20debugger.)\n"
   ]
  },
  {
   "cell_type": "markdown",
   "metadata": {
    "cell_id": "8c2b668a0fb64ce6bff3f8b5ce431e75",
    "deepnote_app_coordinates": {
     "h": 5,
     "w": 12,
     "x": 0,
     "y": 0
    },
    "deepnote_cell_type": "markdown"
   },
   "source": [
    "\n",
    "To print or display any value or information in Python, you use the preset function **print**."
   ]
  },
  {
   "cell_type": "code",
   "execution_count": null,
   "metadata": {
    "cell_id": "3116a413925b40f0afb570f9adebd732",
    "collapsed": false,
    "deepnote_cell_type": "code",
    "deepnote_to_be_reexecuted": false,
    "execution_millis": 4,
    "execution_start": 1681905332825,
    "jupyter": {
     "outputs_hidden": false
    },
    "output_cleared": false,
    "pycharm": {
     "name": "#%%\n"
    },
    "source_hash": "5d20a612"
   },
   "outputs": [],
   "source": [
    "print(\"Somos FICT, Somos ESPOL, bienvenidos a este Taller sobre Python\")"
   ]
  },
  {
   "cell_type": "code",
   "execution_count": null,
   "metadata": {
    "cell_id": "c65935edb7b345d9aca2db78e5f54c99",
    "deepnote_app_coordinates": {
     "h": 5,
     "w": 12,
     "x": 0,
     "y": 0
    },
    "deepnote_cell_type": "code",
    "deepnote_to_be_reexecuted": false,
    "execution_millis": 14,
    "execution_start": 1681905333520,
    "source_hash": "14449d19"
   },
   "outputs": [],
   "source": [
    "# Write the first code line that everyone has learnt: print(\"Hola mundo\") \n"
   ]
  },
  {
   "cell_type": "code",
   "execution_count": null,
   "metadata": {
    "cell_id": "c7170c72b4794def9c33e3d1eb931e08",
    "deepnote_app_coordinates": {
     "h": 5,
     "w": 12,
     "x": 0,
     "y": 0
    },
    "deepnote_cell_type": "code",
    "deepnote_to_be_reexecuted": false,
    "execution_millis": 41,
    "execution_start": 1681905334010,
    "source_hash": "a019a94e"
   },
   "outputs": [],
   "source": [
    "# Create a variable and name it saludo, assing the following to the variable \"Hola mundo\"\n",
    "\n",
    "# Print the variable named saludo\n",
    "    print()  #indentation"
   ]
  },
  {
   "cell_type": "markdown",
   "metadata": {
    "cell_id": "cf15889383114734a7c4a4f2bdf72d71",
    "deepnote_app_coordinates": {
     "h": 5,
     "w": 12,
     "x": 0,
     "y": 0
    },
    "deepnote_cell_type": "markdown"
   },
   "source": [
    "**Indentation**\n",
    "Indentation refers to the spaces at the beginning of a code line.\n",
    "Where in other programming languages the indentation in code is for readability only, the indentation in Python is very important.\n",
    "\n",
    "**Comments**\n",
    "Comments starts with a #, and Python will ignore them.\n",
    "\n",
    "\n",
    "- Comments can be used to explain Python code.\n",
    "\n",
    "- Comments can be used to make the code more readable.\n",
    "\n",
    "- Comments can be used to prevent execution when testing code.\n",
    "\n",
    "**Variables**\n",
    "Variables are containers for storing data values.\n",
    "Important: Variable names are case-sensitive."
   ]
  },
  {
   "cell_type": "markdown",
   "metadata": {
    "cell_id": "52eed5757ffd4370a2ce5cd6c36f44d3",
    "deepnote_cell_height": 442.1499938964844,
    "deepnote_cell_type": "markdown"
   },
   "source": [
    "## 1.1) Data types and structures"
   ]
  },
  {
   "cell_type": "markdown",
   "metadata": {
    "cell_id": "8d8873c19c5f496bbe5dc075a5c5e7f5",
    "deepnote_cell_type": "markdown"
   },
   "source": [
    "### Data types\n",
    "In Python, we have different **types of data**, such as: float (floating point), int (integer), str (string) y bool (Boolean). \n",
    "\n",
    "- **float** - used for real numbers.\n",
    "- **int** - used for integers.\n",
    "- **str** - Text strings are defined in Python using single quotation marks\n",
    "<code> 'Texto' </code> , comillas dobles <code> \"Texto\" </code> , o comillas triples <code> \"\"\"Texto\"\"\" </code>\n",
    "\n",
    "Strings generated by triple quotes can contain multiple lines of text, the newlines will be included in the value of the variable. That is why they are used to write the documentation of functions.\n",
    "-  **bool** - A Boolean variable is a variable that can only take two possible values: True (verdadero) o False (falso). They are used to filter information from a data set.\n"
   ]
  },
  {
   "cell_type": "code",
   "execution_count": null,
   "metadata": {
    "cell_id": "55cd4cf81a174020bde69c62b30f7f00",
    "collapsed": false,
    "deepnote_cell_type": "code",
    "deepnote_to_be_reexecuted": false,
    "execution_millis": 3,
    "execution_start": 1681905336206,
    "jupyter": {
     "outputs_hidden": false
    },
    "pycharm": {
     "name": "#%%\n"
    },
    "source_hash": "4f165595"
   },
   "outputs": [],
   "source": [
    "# The following are some examples of the main variables to be used in this workshop\n",
    "current_year = 2023\n",
    "average_height = 170.50\n",
    "topic = \"Fundamentos de Python\"\n",
    "succesful_workshop = True"
   ]
  },
  {
   "cell_type": "markdown",
   "metadata": {
    "cell_id": "0dd2505845974310b6f62f780aaafd14",
    "deepnote_app_coordinates": {
     "h": 5,
     "w": 12,
     "x": 0,
     "y": 0
    },
    "deepnote_cell_type": "markdown"
   },
   "source": [
    "It is possible to recognize the types (or classes) of variables using: **type(variable_name)**\n",
    "This allows us to determine the type of variable."
   ]
  },
  {
   "cell_type": "code",
   "execution_count": null,
   "metadata": {
    "cell_id": "1aab1112f19c4424a9bee84c65655ba8",
    "deepnote_cell_type": "code",
    "deepnote_to_be_reexecuted": false,
    "execution_millis": 18,
    "execution_start": 1681905337144,
    "source_hash": "e301bb2a",
    "tags": []
   },
   "outputs": [],
   "source": [
    "# print the types of the variable current_year\n",
    "\n",
    "# print the types of all the variables with one print\n"
   ]
  },
  {
   "cell_type": "markdown",
   "metadata": {
    "cell_id": "ca277e33346f49e88c971e5d062758a9",
    "deepnote_app_coordinates": {
     "h": 5,
     "w": 12,
     "x": 0,
     "y": 0
    },
    "deepnote_cell_type": "markdown"
   },
   "source": [
    "### Math operations\n",
    "\n",
    "Python can be used as a simple calculator:"
   ]
  },
  {
   "cell_type": "code",
   "execution_count": null,
   "metadata": {
    "cell_id": "febc4485fb00489ca9ae7b4caee82cb2",
    "deepnote_app_coordinates": {
     "h": 5,
     "w": 12,
     "x": 0,
     "y": 0
    },
    "deepnote_cell_type": "code",
    "deepnote_to_be_reexecuted": false,
    "execution_millis": 13,
    "execution_start": 1681905338044,
    "source_hash": "80abc1bd"
   },
   "outputs": [],
   "source": [
    "#Try some math operations\n"
   ]
  },
  {
   "cell_type": "markdown",
   "metadata": {
    "cell_id": "8e0a2baeb13d4968ad5eaefdfd563aea",
    "deepnote_app_coordinates": {
     "h": 5,
     "w": 12,
     "x": 0,
     "y": 0
    },
    "deepnote_cell_type": "markdown"
   },
   "source": [
    "However, this only works for the basic arithmetic operations: addition ( + ), subtraction ( - ), multiplication ( \\* ), division ( / ), exponentiation ( \\*\\* ), floor division ( // ), and modulo division ( % ). Notice that division (/) returns a float value, even if the two numbers are integers. Floor (or integer) division returns the quotient of the division, while modulo division returns the remainder of the division (though things get more complicated for negative numbers, see this [note](https://blog.teclado.com/pythons-modulo-operator-and-floor-division/)).\n",
    "\n",
    "For more advanced operations, we need to import the `math` module:"
   ]
  },
  {
   "cell_type": "markdown",
   "metadata": {
    "cell_id": "ab035c3c929f44db9d71b2106e665461",
    "deepnote_app_coordinates": {
     "h": 5,
     "w": 12,
     "x": 0,
     "y": 0
    },
    "deepnote_cell_type": "markdown"
   },
   "source": [
    "The  **data structures** are arrays used to store several values, they can be assigned to variables, they are iterables, some are mutables and among the most common are:\n",
    "- Lists\n",
    "- Dictionaries\n",
    "- Tuples\n",
    "- Datasets\n",
    "- Dataframes\n",
    "- Numpy arrays\n",
    "- Series"
   ]
  },
  {
   "cell_type": "markdown",
   "metadata": {
    "cell_id": "07099a6bd6314a8397accdf352af823b",
    "deepnote_cell_height": 156.1666717529297,
    "deepnote_cell_type": "markdown"
   },
   "source": [
    "## 1.2) Lists\n",
    "\n",
    "Lists are data structures that can store numbers, strings, lists, etc.\n",
    "They are delimited by brackets ([a,b,c]) and their elements are separated by commas.\n",
    "\n",
    "Some examples using **lists** are shown below for OPEC COUNTRIES 2023 (https://worldpopulationreview.com/country-rankings/opec-countries)"
   ]
  },
  {
   "cell_type": "markdown",
   "metadata": {
    "cell_id": "c5d98230ab054eca94e9e02d1d35b223",
    "deepnote_cell_height": 557.433349609375,
    "deepnote_cell_type": "markdown"
   },
   "source": [
    "![Picture title](Recursos/OPEC_image.png)\n",
    "\n",
    "*Figure 1. OPEC Logo*"
   ]
  },
  {
   "cell_type": "code",
   "execution_count": null,
   "metadata": {
    "cell_id": "493c3267db6b4f41ab7fa81bfb3a8f51",
    "collapsed": false,
    "deepnote_cell_type": "code",
    "deepnote_to_be_reexecuted": false,
    "execution_millis": 28,
    "execution_start": 1681905340644,
    "jupyter": {
     "outputs_hidden": false
    },
    "pycharm": {
     "name": "#%%\n"
    },
    "source_hash": "8e9fe157"
   },
   "outputs": [],
   "source": [
    "# List with 16 countries that have been members of OPEC\n",
    "paises = ['Arabia Saudita', 'Venezuela', 'Kuwait', 'Iran', 'Irak', 'Libia', 'UAE', 'Algeria', 'Nigeria', 'Gabón', 'Ángola', 'Congo', 'Guinea Ecuatorial','Ecuador', 'Qatar', 'Indonesia']\n",
    "\n",
    "# Other oil producing contries non OPEC members\n",
    "NO_OPEP= ['Arzebaijan', 'Bahrein', 'Brunei', 'Kazajistán', 'Malasia', 'México', 'Omán', 'Rusia', 'Sudán', 'Sudán del Sur']\n",
    "\n",
    "#retired/lapsed members\n",
    "paises_retirados = ['Ecuador', 'Indonesia', 'Qatar']"
   ]
  },
  {
   "cell_type": "markdown",
   "metadata": {
    "cell_id": "a58c5c6643cc419cbd0d5e82d35df2d4",
    "deepnote_app_coordinates": {
     "h": 5,
     "w": 12,
     "x": 0,
     "y": 0
    },
    "deepnote_cell_type": "markdown"
   },
   "source": [
    "## Python Operators"
   ]
  },
  {
   "cell_type": "markdown",
   "metadata": {
    "cell_id": "ddfa426662924604b7ff92c92981533a",
    "deepnote_app_coordinates": {
     "h": 5,
     "w": 12,
     "x": 0,
     "y": 0
    },
    "deepnote_cell_type": "markdown"
   },
   "source": [
    "![Picture title](Recursos/Python_operators.png)\n",
    "*Figure 2. Python Operators*"
   ]
  },
  {
   "cell_type": "markdown",
   "metadata": {
    "cell_id": "6a333d81d32d41c5b02c9e8e4d4092c5",
    "deepnote_cell_height": 310.3500061035156,
    "deepnote_cell_type": "markdown"
   },
   "source": [
    "Lists can be manipulated, using arithmetic operators and methods.\n",
    "\n",
    "**Keep in mind!** It is worth to mention that the methods are functions belonging to the object containing a list, because in Python every variable is related to an object, and likewise, every object belongs to a class. Therefore, methods are functions that are part of the **List** class."
   ]
  },
  {
   "cell_type": "markdown",
   "metadata": {
    "cell_id": "9c314303af3d44c0873ec534a37b05a3",
    "deepnote_cell_type": "markdown"
   },
   "source": [
    "### 1.2.1. Lists Indexing and Slicing"
   ]
  },
  {
   "cell_type": "code",
   "execution_count": null,
   "metadata": {
    "cell_id": "3baf2f220fa249cab4e978bb875d4045",
    "collapsed": false,
    "deepnote_cell_type": "code",
    "deepnote_to_be_reexecuted": false,
    "execution_millis": 12,
    "execution_start": 1681905342701,
    "jupyter": {
     "outputs_hidden": false
    },
    "pycharm": {
     "name": "#%%\n"
    },
    "source_hash": "778da847"
   },
   "outputs": [],
   "source": [
    "#subsetting lists\n",
    "# write a code to print the name of Libia using the list paises\n",
    "\n",
    "\n",
    "#print(paises[5,6]) # indices must be integers or slices, not tuple\n",
    "#print(paises[-11,-10]) # indices must be integers or slices, not tuple\n",
    "\n",
    "#slicing lists [start:end] [inclusive: exclusive]\n",
    "#slice the first 13 elements of the list paises\n",
    "\n",
    "\n",
    "# Add list elements\n",
    "# create a new list OPEP_plus adding + NO_OPEP to OPEP list\n",
    "\n",
    "\n",
    "# Show the created lists\n"
   ]
  },
  {
   "cell_type": "markdown",
   "metadata": {
    "cell_id": "25baad822edb42e3b73d1dcad62e2c19",
    "deepnote_app_coordinates": {
     "h": 5,
     "w": 12,
     "x": 0,
     "y": 0
    },
    "deepnote_cell_type": "markdown"
   },
   "source": [
    "\"Formatted string literals\" f-strings are the string literals in which we use an f at the beginning and curly braces {} to enclose the expressions that will be replaced with other values."
   ]
  },
  {
   "cell_type": "code",
   "execution_count": null,
   "metadata": {
    "cell_id": "09b2433025344c4ca7ef048656c73c8f",
    "collapsed": false,
    "deepnote_cell_type": "code",
    "deepnote_to_be_reexecuted": false,
    "execution_millis": 0,
    "execution_start": 1681912755784,
    "jupyter": {
     "outputs_hidden": false
    },
    "pycharm": {
     "name": "#%%\n"
    },
    "source_hash": "27a70670"
   },
   "outputs": [],
   "source": [
    "# Use f-strings to create a variable s,  s= #number of countries that have been members of OPEC\n",
    "s = f'{} países han estado en la OPEP' #use len to provide the value\n",
    "\n",
    "# Show s\n",
    "print(s)\n",
    "\n",
    "# Alternative way\n",
    "print(f'')"
   ]
  },
  {
   "cell_type": "markdown",
   "metadata": {
    "cell_id": "4a4ff893007d4d709656c3398ead9b8d",
    "deepnote_app_coordinates": {
     "h": 5,
     "w": 12,
     "x": 0,
     "y": 0
    },
    "deepnote_cell_type": "markdown"
   },
   "source": [
    "Practice completing the code below:"
   ]
  },
  {
   "cell_type": "code",
   "execution_count": null,
   "metadata": {
    "cell_id": "d87e3f6ed2c544338b3e16ee4c14ef18",
    "deepnote_app_coordinates": {
     "h": 5,
     "w": 12,
     "x": 0,
     "y": 0
    },
    "deepnote_cell_type": "code",
    "deepnote_to_be_reexecuted": false,
    "execution_millis": 15,
    "execution_start": 1681905345011,
    "source_hash": "1316c2f6"
   },
   "outputs": [],
   "source": [
    "print(f'{} países se han retirado de la OPEP') #complete the code\n",
    "print(f'{} países conforman la OPEP actualmente') #complete the code\n",
    "print(f'{} países conforman la OPEP Plus') #complete the code"
   ]
  },
  {
   "cell_type": "markdown",
   "metadata": {
    "cell_id": "a448f1ec83df46b49c18a894b6612a4b",
    "deepnote_app_coordinates": {
     "h": 5,
     "w": 12,
     "x": 0,
     "y": 0
    },
    "deepnote_cell_type": "markdown"
   },
   "source": [
    "### 1.2.2) List Methods\n",
    "Among the most important list methods, we have the following:\n",
    "\n",
    "*append*, *remove*, *pop*, *del*, *clear*, *reverse*, *sort*, *index*, *extend*, *count*, *insert*\n",
    "\n",
    "To apply a method you will use the following: list_name.method_name"
   ]
  },
  {
   "cell_type": "markdown",
   "metadata": {
    "cell_id": "5142508e429b4a23844ec2ad63c82648",
    "deepnote_app_coordinates": {
     "h": 5,
     "w": 12,
     "x": 0,
     "y": 0
    },
    "deepnote_cell_type": "markdown"
   },
   "source": [
    "![Picture title](Recursos/List_methods.png)\n",
    "*Figure 3. List Methods*\n",
    "**Fuente:**\n",
    "https://www.w3schools.com/python/python_lists_methods.asp"
   ]
  },
  {
   "cell_type": "code",
   "execution_count": null,
   "metadata": {
    "cell_id": "aa15f3bcb6ae4e769395b5cc4e7cac21",
    "collapsed": false,
    "deepnote_cell_type": "code",
    "deepnote_to_be_reexecuted": false,
    "execution_millis": 15,
    "execution_start": 1681905346931,
    "jupyter": {
     "outputs_hidden": false
    },
    "pycharm": {
     "name": "#%%\n"
    },
    "source_hash": "9991cff3"
   },
   "outputs": [],
   "source": [
    "# The remove method removes the item with the specified value \n",
    "# Syntax > list.remove(element)\n",
    "paises.('') #complete the code for removing Ecuador from the list paises\n",
    "print(paises)\n",
    "\n",
    ".remove('') #complete the code for removing Indonesia from the list paises\n",
    "print(paises)\n",
    "\n",
    "# Remove Qatar from the list paises\n",
    "\n",
    "print(paises)\n",
    "\n",
    "print(\"Estos son los paises que aun forman parte de la OPEP:\")\n",
    "print(paises)"
   ]
  },
  {
   "cell_type": "code",
   "execution_count": null,
   "metadata": {
    "cell_id": "798fa7548228464abb4782798a8d65f2",
    "collapsed": false,
    "deepnote_cell_type": "code",
    "deepnote_to_be_reexecuted": false,
    "execution_millis": 6,
    "execution_start": 1681905347512,
    "jupyter": {
     "outputs_hidden": false
    },
    "pycharm": {
     "name": "#%%\n"
    },
    "source_hash": "c67777bd"
   },
   "outputs": [],
   "source": [
    "# The append method adds an element at the end of the list\n",
    "# Syntax > list.append(element)\n",
    "\n",
    "# show the list paises\n",
    "print(paises)\n",
    "# Include Ecuador in the list paises and show the updated list\n",
    "\n",
    "print(paises)\n",
    "print(f\"{paises[-1]} ha sido el único país de latinoamérica que ha abandonado la OPEP por 2 veces\")"
   ]
  },
  {
   "cell_type": "code",
   "execution_count": null,
   "metadata": {
    "cell_id": "e1eb3cf74a244fd6ad92fdcc1d676348",
    "collapsed": false,
    "deepnote_cell_type": "code",
    "deepnote_to_be_reexecuted": false,
    "execution_millis": 4,
    "execution_start": 1681905347893,
    "jupyter": {
     "outputs_hidden": false
    },
    "pycharm": {
     "name": "#%%\n"
    },
    "source_hash": "75ab54a6"
   },
   "outputs": [],
   "source": [
    "# Use f-strings and an operator to complete the code\n",
    "print(f\"Hay {str(len(paises) - 1)} paises que conforman actualmente la OPEP\")"
   ]
  },
  {
   "cell_type": "code",
   "execution_count": null,
   "metadata": {
    "cell_id": "9ae5992de5e74aa0a5a85408b191a9ac",
    "collapsed": false,
    "deepnote_cell_type": "code",
    "deepnote_to_be_reexecuted": false,
    "execution_millis": 52,
    "execution_start": 1681905348299,
    "jupyter": {
     "outputs_hidden": false
    },
    "pycharm": {
     "name": "#%%\n"
    },
    "source_hash": "970711aa"
   },
   "outputs": [],
   "source": [
    "# The pop() method removes the element at the specified position.\n",
    "# Syntax> list.pop(position)\n",
    "\n",
    "# write a code to print the number of countries in paises\n",
    "print(len(paises))\n",
    "# use pop to remove the name of the country in the last position of the list\n",
    "\n",
    "print(len(paises))"
   ]
  },
  {
   "cell_type": "code",
   "execution_count": null,
   "metadata": {
    "cell_id": "a1a568bae6ff4072b6f5d19fdf647862",
    "collapsed": false,
    "deepnote_cell_type": "code",
    "deepnote_to_be_reexecuted": false,
    "execution_millis": 6,
    "execution_start": 1681905348824,
    "jupyter": {
     "outputs_hidden": false
    },
    "pycharm": {
     "name": "#%%\n"
    },
    "source_hash": "968a1ec3"
   },
   "outputs": [],
   "source": [
    "# The del keyword is used to delete objects (variables, lists, or parts of a list, etc.)\n",
    "# Syntax> del list[pos]\n",
    "\n",
    "# print the list of the Asian countries retired/lapsed from OPEC\n",
    "print(paises_retirados)\n",
    "# delete Ecuador from the list\n",
    "\n",
    "print(\"Estos son los paises de Asia que decidieron retirarse de la OPEP:\")\n",
    "print(paises_retirados)"
   ]
  },
  {
   "cell_type": "code",
   "execution_count": null,
   "metadata": {
    "cell_id": "02b1ea0e2d1b4039bf146395b11f51d2",
    "collapsed": false,
    "deepnote_cell_type": "code",
    "deepnote_to_be_reexecuted": false,
    "execution_millis": 5,
    "execution_start": 1681905349454,
    "jupyter": {
     "outputs_hidden": false
    },
    "pycharm": {
     "name": "#%%\n"
    },
    "source_hash": "e747536"
   },
   "outputs": [],
   "source": [
    "# The reverse method reverses the sorting order of the elements\n",
    "# Syntax. list.reverse()\n",
    "\n",
    "# show the list paises\n",
    "print(paises)\n",
    "# reverse the order of the countries in the list paises\n",
    "\n",
    "print(\"Paises de la OPEP ordenados desde el ultimo al primero\")\n",
    "print(paises)"
   ]
  },
  {
   "cell_type": "code",
   "execution_count": null,
   "metadata": {
    "cell_id": "5c5cf5569b84428eb788dd1d3db9cbad",
    "collapsed": false,
    "deepnote_cell_type": "code",
    "deepnote_to_be_reexecuted": false,
    "execution_millis": 24,
    "execution_start": 1681905350380,
    "jupyter": {
     "outputs_hidden": false
    },
    "pycharm": {
     "name": "#%%\n"
    },
    "source_hash": "2c0baf85"
   },
   "outputs": [],
   "source": [
    "# The sort method sorts the list ascending by default. \n",
    "# Syntax > list.sort() \n",
    "\n",
    "# print the list paises with its elements alphabetically listed\n",
    "\n",
    "print(\"Paises de la OPEP ordenados de forma alfabética:\")\n",
    "print(paises)"
   ]
  },
  {
   "cell_type": "code",
   "execution_count": null,
   "metadata": {
    "cell_id": "1208f555738c44bb869c6be7c0de71d2",
    "collapsed": false,
    "deepnote_cell_type": "code",
    "deepnote_to_be_reexecuted": false,
    "execution_millis": 5,
    "execution_start": 1681905351263,
    "jupyter": {
     "outputs_hidden": false
    },
    "pycharm": {
     "name": "#%%\n"
    },
    "source_hash": "feacfce3"
   },
   "outputs": [],
   "source": [
    "# The extend method adds a list or elements (or any iterable) to the end of the current list\n",
    "# Syntax. list.extend(iterable)\n",
    "\n",
    "# show paises\n",
    "print(paises)\n",
    "\n",
    "# Create a list containing Brasil, Noruega and USA to the list paises\n",
    "otros_paises = ('Brasil', 'Noruega', 'USA')\n",
    "\n",
    "print(paises)\n",
    "\n",
    "print(\"Estos no forman parte de la OPEP a pesar de ser paises con importante producción:\")\n",
    "print(paises[13:])"
   ]
  },
  {
   "cell_type": "code",
   "execution_count": null,
   "metadata": {
    "cell_id": "695c87a663da417ea79d7991264d5b42",
    "collapsed": false,
    "deepnote_cell_type": "code",
    "deepnote_to_be_reexecuted": false,
    "execution_millis": 6,
    "execution_start": 1681905362242,
    "jupyter": {
     "outputs_hidden": false
    },
    "pycharm": {
     "name": "#%%\n"
    },
    "source_hash": "4b6a5ef3"
   },
   "outputs": [],
   "source": [
    "# The insert() method inserts the specified value at the specified position\n",
    "# Syntax > list.insert(position, element)\n",
    "print(paises_retirados)\n",
    "\n",
    "# add Ecuador to the list paises_retirados using insert\n",
    "\n",
    "# show the list paises_retirados\n",
    "print(paises_retirados)"
   ]
  },
  {
   "cell_type": "code",
   "execution_count": null,
   "metadata": {
    "cell_id": "75abd8958fef47819c32a81c72787dd7",
    "collapsed": false,
    "deepnote_cell_type": "code",
    "deepnote_to_be_reexecuted": false,
    "execution_millis": 4,
    "execution_start": 1681905365658,
    "jupyter": {
     "outputs_hidden": false
    },
    "pycharm": {
     "name": "#%%\n"
    },
    "source_hash": "ff48faa"
   },
   "outputs": [],
   "source": [
    "# The count() method returns the number of elements with the specified value\n",
    "# Syntax > list.count(value)\n",
    "\n",
    "# show the list paises_retirados\n",
    "print(paises_retirados)\n",
    "\n",
    "#print how many times apears Ecuador in the list\n",
    "\n",
    "print(n_ecuador)"
   ]
  },
  {
   "cell_type": "code",
   "execution_count": null,
   "metadata": {
    "cell_id": "90480fe05e73498799534482c4a212b2",
    "collapsed": false,
    "deepnote_cell_type": "code",
    "deepnote_to_be_reexecuted": false,
    "execution_millis": 32,
    "execution_start": 1681905368681,
    "jupyter": {
     "outputs_hidden": false
    },
    "pycharm": {
     "name": "#%%\n"
    },
    "source_hash": "51c0c553"
   },
   "outputs": [],
   "source": [
    "# The clear() method removes all the elements from a list\n",
    "# Syntax > list.clear()\n",
    "\n",
    "# empty the list paises_retirados\n",
    "\n",
    "\n",
    "print(paises_retirados)"
   ]
  },
  {
   "cell_type": "markdown",
   "metadata": {
    "cell_id": "4c87e4606dd344a69ec8ca7df5944c1d",
    "deepnote_cell_height": 69.96665954589844,
    "deepnote_cell_type": "markdown"
   },
   "source": [
    "## 1.4) Dictionaries: basis and manipulation"
   ]
  },
  {
   "cell_type": "markdown",
   "metadata": {
    "cell_id": "03533a0148a747e4a10f351536be9158",
    "deepnote_cell_height": 147.98333740234375,
    "deepnote_cell_type": "markdown"
   },
   "source": [
    "### Dictionaries\n",
    "A dictionary is a data structure and a data type in Python with special characteristics that allows us to store any type of value such as integers, strings, lists and even other functions.\n",
    "These dictionaries also allow us to identify each element by a key. To define a dictionary, the list of values is enclosed in braces. The key and value pairs are separated by commas, and the key and value are separated by colons.\n"
   ]
  },
  {
   "cell_type": "markdown",
   "metadata": {
    "cell_id": "df5b738ff8a740f9bb158dfa8ce3a412",
    "deepnote_cell_type": "markdown"
   },
   "source": [
    "**Volve Field**\n",
    "\n",
    "In the southern Norwegian North Sea, about 200 km west of the city of Stavanger (see Figure 1), lies the Volve oil field, located in Block 15/9, at a depth of about 80 m. This field was developed by Statoil, now Equinor, with a 59.6% interest, while other project partners were ExxonMobil E&P Norway, with a 30.40% interest, and Bayerngas Norge, with a 10% interest. \n",
    "\n",
    "![volve](Recursos/volve.png)\n",
    "*Figure 4. Volve Oilfield*\n"
   ]
  },
  {
   "cell_type": "code",
   "execution_count": 91,
   "metadata": {
    "cell_id": "d1f3ce071e6048f888a622ef95a60e17",
    "collapsed": false,
    "deepnote_cell_type": "code",
    "deepnote_to_be_reexecuted": false,
    "execution_millis": 4,
    "execution_start": 1681905371744,
    "jupyter": {
     "outputs_hidden": false
    },
    "pycharm": {
     "name": "#%%\n"
    },
    "source_hash": "f494b406"
   },
   "outputs": [
    {
     "data": {
      "text/plain": [
       "{'País': 'Noruega',\n",
       " 'Inicio_produccion': '2008',\n",
       " 'Fin_produccion': '2016',\n",
       " 'Bloque': '15/9',\n",
       " 'Tipo': 'off-shore',\n",
       " 'Pozo': ['F-1C', 'F-4', 'F-5', 'F-11', 'F-12', 'F-14', 'F-15 D']}"
      ]
     },
     "execution_count": 91,
     "metadata": {},
     "output_type": "execute_result"
    }
   ],
   "source": [
    "campo_Volve = {'País' : 'Noruega', 'Inicio_produccion': '2008',\n",
    "               'Fin_produccion': '2016', 'Bloque' : '15/9','Tipo' : 'off-shore',\n",
    "               'Pozo' :['F-1C','F-4','F-5','F-11','F-12','F-14', 'F-15 D']}\n",
    "campo_Volve"
   ]
  },
  {
   "cell_type": "markdown",
   "metadata": {
    "cell_id": "882310fc825b42029a9cf1f79a5b1f89",
    "deepnote_cell_height": 144.76666259765625,
    "deepnote_cell_type": "markdown"
   },
   "source": [
    "### Dictionaries manipulation\n",
    "Among the most important dictionaries methods, we have the following:\n",
    "\n",
    "*keys*, *values*, *items*, *get*, *update*, *pop*, *popitem*, *setdefault*"
   ]
  },
  {
   "cell_type": "code",
   "execution_count": 34,
   "metadata": {
    "cell_id": "0d20f9f3593f401abc0234d96eaf3ec5",
    "collapsed": false,
    "deepnote_cell_type": "code",
    "deepnote_to_be_reexecuted": false,
    "execution_millis": 55,
    "execution_start": 1681905373660,
    "jupyter": {
     "outputs_hidden": false
    },
    "output_cleared": false,
    "pycharm": {
     "name": "#%%\n"
    },
    "source_hash": "27df682e"
   },
   "outputs": [
    {
     "name": "stdout",
     "output_type": "stream",
     "text": [
      "dict_keys(['País', 'Inicio_produccion', 'Fin_produccion', 'Bloque', 'Tipo', 'Pozo'])\n",
      "dict_values(['Noruega', '2008', '2016', '15/9', 'off-shore', ['F-1C', 'F-4', 'F-5', 'F-11', 'F-12', 'F-14', 'F-15 D']])\n"
     ]
    }
   ],
   "source": [
    "# The keys() method returns a view object\n",
    "# The view object contains the keys of the dictionary, as a list\n",
    "# The view object will reflect any changes done to the dictionary, see example below\n",
    "print(campo_Volve.keys())\n",
    "# Show the values of campo_Volve\n",
    "print(campo_Volve.values())"
   ]
  },
  {
   "cell_type": "code",
   "execution_count": 35,
   "metadata": {
    "cell_id": "2fa0605032a444358cfee090791bb6f7",
    "collapsed": false,
    "deepnote_cell_type": "code",
    "deepnote_to_be_reexecuted": false,
    "execution_millis": 14,
    "execution_start": 1681905374679,
    "jupyter": {
     "outputs_hidden": false
    },
    "pycharm": {
     "name": "#%%\n"
    },
    "source_hash": "5823bd4c"
   },
   "outputs": [
    {
     "data": {
      "text/plain": [
       "dict_items([('País', 'Noruega'), ('Inicio_produccion', '2008'), ('Fin_produccion', '2016'), ('Bloque', '15/9'), ('Tipo', 'off-shore'), ('Pozo', ['F-1C', 'F-4', 'F-5', 'F-11', 'F-12', 'F-14', 'F-15 D'])])"
      ]
     },
     "execution_count": 35,
     "metadata": {},
     "output_type": "execute_result"
    }
   ],
   "source": [
    "# The items() method returns a view object\n",
    "# The view object contains the key-value pairs of the dictionary, as tuples in a list\n",
    "\n",
    "# Show dictionary items\n",
    "campo_Volve.items()"
   ]
  },
  {
   "cell_type": "code",
   "execution_count": 36,
   "metadata": {
    "cell_id": "124b4260515645da9fbb69984c498ea5",
    "collapsed": false,
    "deepnote_cell_type": "code",
    "deepnote_to_be_reexecuted": false,
    "execution_millis": 1,
    "execution_start": 1681905374801,
    "jupyter": {
     "outputs_hidden": false
    },
    "pycharm": {
     "name": "#%%\n"
    },
    "source_hash": "c95bfd49"
   },
   "outputs": [
    {
     "data": {
      "text/plain": [
       "{'País': 'Noruega',\n",
       " 'Inicio_produccion': '2008',\n",
       " 'Fin_produccion': '2016',\n",
       " 'Bloque': '15/9',\n",
       " 'Tipo': 'off-shore',\n",
       " 'Pozo': ['F-1C', 'F-4', 'F-5', 'F-11', 'F-12', 'F-14', 'F-15 D']}"
      ]
     },
     "execution_count": 36,
     "metadata": {},
     "output_type": "execute_result"
    }
   ],
   "source": [
    "# The values() method returns a view object. \n",
    "#The view object contains the values of the dictionary, as a list.\n",
    "# Show dictionary values\n",
    "campo_Volve"
   ]
  },
  {
   "cell_type": "code",
   "execution_count": 37,
   "metadata": {
    "cell_id": "82b49daa0c614c01be81c97a752dd6af",
    "collapsed": false,
    "deepnote_cell_type": "code",
    "deepnote_to_be_reexecuted": false,
    "execution_millis": 29,
    "execution_start": 1681905376636,
    "jupyter": {
     "outputs_hidden": false
    },
    "pycharm": {
     "name": "#%%\n"
    },
    "source_hash": "e41dd426"
   },
   "outputs": [
    {
     "name": "stdout",
     "output_type": "stream",
     "text": [
      "{'País': 'Noruega', 'Inicio_produccion': '2008', 'Fin_produccion': '2016', 'Bloque': '15/9', 'Tipo': 'off-shore', 'Pozo': ['F-1C', 'F-4', 'F-5', 'F-11', 'F-12', 'F-14', 'F-15 D']}\n"
     ]
    },
    {
     "data": {
      "text/plain": [
       "'Noruega'"
      ]
     },
     "execution_count": 37,
     "metadata": {},
     "output_type": "execute_result"
    }
   ],
   "source": [
    "# The get method returns the value of the item with the specified key. \n",
    "# Syntax. dictionary.get(keyname, value)\n",
    "print(campo_Volve)\n",
    "\n",
    "# Show the value of the key 'País'\n",
    "campo_Volve.get(\"País\")"
   ]
  },
  {
   "cell_type": "code",
   "execution_count": 38,
   "metadata": {
    "cell_id": "1dc78921729d485aba334581715ac770",
    "collapsed": false,
    "deepnote_cell_type": "code",
    "deepnote_to_be_reexecuted": false,
    "execution_millis": 3,
    "execution_start": 1681905376799,
    "jupyter": {
     "outputs_hidden": false
    },
    "pycharm": {
     "name": "#%%\n"
    },
    "source_hash": "6c8e0757"
   },
   "outputs": [
    {
     "name": "stdout",
     "output_type": "stream",
     "text": [
      "{'País': 'Noruega', 'Inicio_produccion': '2008', 'Fin_produccion': '2016', 'Bloque': '15/9', 'Tipo': 'off-shore', 'Pozo': ['F-1C', 'F-4', 'F-5', 'F-11', 'F-12', 'F-14', 'F-15 D']}\n"
     ]
    },
    {
     "data": {
      "text/plain": [
       "{'País': 'Noruega',\n",
       " 'Inicio_produccion': '2008',\n",
       " 'Fin_produccion': '2016',\n",
       " 'Bloque': '15/9',\n",
       " 'Tipo': 'off-shore',\n",
       " 'Pozo': ['F-1C', 'F-4', 'F-5', 'F-11', 'F-12', 'F-14', 'F-15 D'],\n",
       " 'continente': 'Europa'}"
      ]
     },
     "execution_count": 38,
     "metadata": {},
     "output_type": "execute_result"
    }
   ],
   "source": [
    "# The update method inserts the specified items to the dictionary \n",
    "# Syntax > dictionary.update(iterable)\n",
    "print(campo_Volve)\n",
    "\n",
    "# Add the key: continente and assign the value: Europa and display it\n",
    "campo_Volve.update({\"continente\":\"Europa\"})\n",
    "campo_Volve"
   ]
  },
  {
   "cell_type": "code",
   "execution_count": 39,
   "metadata": {
    "cell_id": "650aa2362edd40d88b0e7de712f6deb9",
    "collapsed": false,
    "deepnote_cell_type": "code",
    "deepnote_to_be_reexecuted": false,
    "execution_millis": 10,
    "execution_start": 1681905377056,
    "jupyter": {
     "outputs_hidden": false
    },
    "pycharm": {
     "name": "#%%\n"
    },
    "source_hash": "620cf9d8"
   },
   "outputs": [
    {
     "name": "stdout",
     "output_type": "stream",
     "text": [
      "{'País': 'Noruega', 'Inicio_produccion': '2008', 'Fin_produccion': '2016', 'Bloque': '15/9', 'Tipo': 'off-shore', 'Pozo': ['F-1C', 'F-4', 'F-5', 'F-11', 'F-12', 'F-14', 'F-15 D'], 'continente': 'Europa'}\n"
     ]
    },
    {
     "data": {
      "text/plain": [
       "{'País': 'Noruega',\n",
       " 'Inicio_produccion': '2008',\n",
       " 'Fin_produccion': '2016',\n",
       " 'Bloque': '15/9',\n",
       " 'Tipo': 'off-shore',\n",
       " 'Pozo': ['F-1C', 'F-4', 'F-5', 'F-11', 'F-12', 'F-14', 'F-15 D']}"
      ]
     },
     "execution_count": 39,
     "metadata": {},
     "output_type": "execute_result"
    }
   ],
   "source": [
    "# The popitem method removes the item that was last inserted into the dictionary\n",
    "# Syntax > dictionary.popitem()\n",
    "print(campo_Volve)\n",
    "\n",
    "# Remove the key: continente and its value: Europa\n",
    "campo_Volve.popitem()\n",
    "campo_Volve"
   ]
  },
  {
   "cell_type": "code",
   "execution_count": 42,
   "metadata": {
    "cell_id": "b177faaca98a4fa2912bacffb43e51fe",
    "collapsed": false,
    "deepnote_cell_type": "code",
    "deepnote_to_be_reexecuted": false,
    "execution_millis": 9,
    "execution_start": 1681905378010,
    "jupyter": {
     "outputs_hidden": false
    },
    "pycharm": {
     "name": "#%%\n"
    },
    "source_hash": "c93c1e50"
   },
   "outputs": [
    {
     "name": "stdout",
     "output_type": "stream",
     "text": [
      "{'País': 'Noruega', 'Inicio_produccion': '2008', 'Fin_produccion': '2016', 'Bloque': '15/9', 'Tipo': 'off-shore', 'Pozo': ['F-1C', 'F-4', 'F-5', 'F-11', 'F-12', 'F-14', 'F-15 D'], 'Continente': 'Europa'}\n"
     ]
    },
    {
     "data": {
      "text/plain": [
       "{'País': 'Noruega',\n",
       " 'Inicio_produccion': '2008',\n",
       " 'Fin_produccion': '2016',\n",
       " 'Bloque': '15/9',\n",
       " 'Tipo': 'off-shore',\n",
       " 'Pozo': ['F-1C', 'F-4', 'F-5', 'F-11', 'F-12', 'F-14', 'F-15 D']}"
      ]
     },
     "execution_count": 42,
     "metadata": {},
     "output_type": "execute_result"
    }
   ],
   "source": [
    "# The pop method removes the element at the specified position. Syntax > list.pop(pos)\n",
    "print(campo_Volve)\n",
    "\n",
    "# Add the key: continente and assign the value: Europa\n",
    "campo_Volve['Continente'] = 'Europa'\n",
    "campo_Volve\n",
    "# Remove the key: continente and its value: Europa using only pop\n",
    "campo_Volve.pop(\"Continente\")\n",
    "campo_Volve"
   ]
  },
  {
   "cell_type": "code",
   "execution_count": 45,
   "metadata": {},
   "outputs": [
    {
     "data": {
      "text/plain": [
       "{'País': 'Noruega',\n",
       " 'Fin_produccion': '2016',\n",
       " 'Bloque': '15/9',\n",
       " 'Tipo': 'off-shore',\n",
       " 'Pozo': ['F-1C', 'F-4', 'F-5', 'F-11', 'F-12', 'F-14', 'F-15 D']}"
      ]
     },
     "execution_count": 45,
     "metadata": {},
     "output_type": "execute_result"
    }
   ],
   "source": [
    "campo_Volve.pop(\"Inicio_produccion\")\n",
    "campo_Volve"
   ]
  },
  {
   "cell_type": "code",
   "execution_count": 49,
   "metadata": {
    "cell_id": "646d5e4de1c24b03ae96669d5b3dc808",
    "collapsed": false,
    "deepnote_cell_type": "code",
    "deepnote_to_be_reexecuted": false,
    "execution_millis": 2,
    "execution_start": 1681905378449,
    "jupyter": {
     "outputs_hidden": false
    },
    "pycharm": {
     "name": "#%%\n"
    },
    "source_hash": "7a7dcecc"
   },
   "outputs": [
    {
     "data": {
      "text/plain": [
       "{'País': 'Noruega',\n",
       " 'Fin_produccion': '2016',\n",
       " 'Bloque': '15/9',\n",
       " 'Tipo': 'off-shore',\n",
       " 'Pozo': ['F-1C', 'F-4', 'F-5', 'F-11', 'F-12', 'F-14', 'F-15 D'],\n",
       " 'Inicio_produccion': '2008',\n",
       " 'Continente': 'Europa'}"
      ]
     },
     "execution_count": 49,
     "metadata": {},
     "output_type": "execute_result"
    }
   ],
   "source": [
    "# The setdefault method returns the value of a key (if the key is in dictionary). \n",
    "# If not, it inserts key with a value to the dictionary. \n",
    "# Syntax dictionary.setdefault(keyname, value)\n",
    "\n",
    "campo_Volve.setdefault(\"Continente\", \"Europa\")\n",
    "# Use setdefault use result and show the dictionary\n",
    "campo_Volve\n",
    "# Use pop item to delete Europa "
   ]
  },
  {
   "cell_type": "code",
   "execution_count": 50,
   "metadata": {},
   "outputs": [
    {
     "data": {
      "text/plain": [
       "{'País': 'Noruega',\n",
       " 'Fin_produccion': '2016',\n",
       " 'Bloque': '15/9',\n",
       " 'Tipo': 'off-shore',\n",
       " 'Pozo': ['F-1C', 'F-4', 'F-5', 'F-11', 'F-12', 'F-14', 'F-15 D'],\n",
       " 'Inicio_produccion': '2008',\n",
       " 'Continente': 'Europa'}"
      ]
     },
     "execution_count": 50,
     "metadata": {},
     "output_type": "execute_result"
    }
   ],
   "source": [
    "campo_Volve"
   ]
  },
  {
   "cell_type": "markdown",
   "metadata": {
    "cell_id": "e507ec7282974b9d84210235c9a02393",
    "deepnote_cell_height": 712.2833251953125,
    "deepnote_cell_type": "markdown",
    "tags": []
   },
   "source": [
    "# Part 1 Test"
   ]
  },
  {
   "cell_type": "markdown",
   "metadata": {
    "cell_id": "4e33f819440f4a0db3b88dda7c3ea36e",
    "deepnote_cell_type": "markdown"
   },
   "source": [
    "#### 1) In this excercise you will create a list containing the names of the  academic programs offered by FICT ( and postgraduate programs) following the next steps:\n",
    "\n",
    "**a)** Create a list called **pregrado** with the undergraduate programs and another liste named **postgrado** with the names of our postgraduate programs.\n",
    "\n",
    "\n",
    "**b)** Concatenate and sort this list in alphabetical order\n",
    "\n",
    "**c)** What is the name of the fifth program?"
   ]
  },
  {
   "cell_type": "code",
   "execution_count": null,
   "metadata": {
    "cell_id": "a4aa93adb9c946e9b05cae397a4882b8",
    "deepnote_cell_type": "code",
    "deepnote_to_be_reexecuted": false,
    "execution_millis": 4,
    "execution_start": 1681905379882,
    "source_hash": "2fb0f886"
   },
   "outputs": [],
   "source": [
    "# Insert your code\n",
    "\n"
   ]
  },
  {
   "cell_type": "markdown",
   "metadata": {
    "cell_id": "e2e95b9b270840068933d885d054320a",
    "deepnote_cell_type": "markdown"
   },
   "source": [
    "#### 2) Create a dictionary containing the average oil production in barrels per day of the following countries:\n",
    "- United States -> 14,837,639.510\n",
    "- China -> 4,905,070.874\n",
    "- Kazakhstan -> 1,698,280.454\n",
    "- Ecuador -> 548,378.765\n",
    "- Cameroon -> 92,469.000\n",
    "- Norway -> 2,003,747.525\n",
    "- Brazil -> 3,242,957.836\n",
    "\n",
    "Then, solve the following questions:\n",
    "\n",
    "**a)** Add Qatar's oil production -> 1,987,192.978 bpd\n",
    "\n",
    "**b)** Delete China's oil production from dictionary\n",
    "\n",
    "**c)** What are the keys of this dictionary?\n",
    "\n",
    "**d)** What is the length of this dictionary?"
   ]
  },
  {
   "cell_type": "code",
   "execution_count": 54,
   "metadata": {
    "cell_id": "9d7dfc73bfbe4eee857ca8affabe3a08",
    "deepnote_cell_type": "code",
    "deepnote_to_be_reexecuted": false,
    "execution_millis": 2,
    "execution_start": 1681905380666,
    "source_hash": "658b7076"
   },
   "outputs": [
    {
     "data": {
      "text/plain": [
       "{'United Sates': '14,837,639.510',\n",
       " 'China': '4,905,070.874',\n",
       " 'Kazakhstan': '1,698,280.454',\n",
       " 'Ecuador': '548,378.765',\n",
       " 'Cameroon': '92,469.000',\n",
       " 'Norway': '2,003,747.525',\n",
       " 'Brazil': '3,242,957.836'}"
      ]
     },
     "execution_count": 54,
     "metadata": {},
     "output_type": "execute_result"
    }
   ],
   "source": [
    "# Insert your code\n",
    "\n",
    "country_oil = {\"United Sates\": \"14,837,639.510\", \"China\":\"4,905,070.874\", \"Kazakhstan\":\"1,698,280.454\",\n",
    "              \"Ecuador\": \"548,378.765\", \"Cameroon\": \"92,469.000\", \"Norway\": \"2,003,747.525\",\n",
    "              \"Brazil\": \"3,242,957.836\"}\n",
    "country_oil"
   ]
  },
  {
   "cell_type": "code",
   "execution_count": 56,
   "metadata": {},
   "outputs": [
    {
     "data": {
      "text/plain": [
       "{'United Sates': '14,837,639.510',\n",
       " 'China': '4,905,070.874',\n",
       " 'Kazakhstan': '1,698,280.454',\n",
       " 'Ecuador': '548,378.765',\n",
       " 'Cameroon': '92,469.000',\n",
       " 'Norway': '2,003,747.525',\n",
       " 'Brazil': '3,242,957.836',\n",
       " 'Qatar': '1,987,192.978'}"
      ]
     },
     "execution_count": 56,
     "metadata": {},
     "output_type": "execute_result"
    }
   ],
   "source": [
    "# a)\n",
    "\n",
    "country_oil[\"Qatar\"] = \"1,987,192.978\"\n",
    "country_oil"
   ]
  },
  {
   "cell_type": "code",
   "execution_count": 57,
   "metadata": {},
   "outputs": [
    {
     "data": {
      "text/plain": [
       "{'United Sates': '14,837,639.510',\n",
       " 'Kazakhstan': '1,698,280.454',\n",
       " 'Ecuador': '548,378.765',\n",
       " 'Cameroon': '92,469.000',\n",
       " 'Norway': '2,003,747.525',\n",
       " 'Brazil': '3,242,957.836',\n",
       " 'Qatar': '1,987,192.978'}"
      ]
     },
     "execution_count": 57,
     "metadata": {},
     "output_type": "execute_result"
    }
   ],
   "source": [
    "# b)\n",
    "\n",
    "country_oil.pop(\"China\")\n",
    "country_oil"
   ]
  },
  {
   "cell_type": "code",
   "execution_count": 58,
   "metadata": {},
   "outputs": [
    {
     "data": {
      "text/plain": [
       "dict_keys(['United Sates', 'Kazakhstan', 'Ecuador', 'Cameroon', 'Norway', 'Brazil', 'Qatar'])"
      ]
     },
     "execution_count": 58,
     "metadata": {},
     "output_type": "execute_result"
    }
   ],
   "source": [
    "# c)\n",
    "\n",
    "country_oil.keys()"
   ]
  },
  {
   "cell_type": "code",
   "execution_count": 59,
   "metadata": {},
   "outputs": [
    {
     "data": {
      "text/plain": [
       "7"
      ]
     },
     "execution_count": 59,
     "metadata": {},
     "output_type": "execute_result"
    }
   ],
   "source": [
    "# d)\n",
    "\n",
    "len(country_oil)"
   ]
  },
  {
   "cell_type": "markdown",
   "metadata": {
    "cell_id": "5e56bab50344421387612428595adfc6",
    "deepnote_cell_height": 81.98333740234375,
    "deepnote_cell_type": "markdown"
   },
   "source": [
    "# 2) Part 2 - Compound Statements"
   ]
  },
  {
   "cell_type": "markdown",
   "metadata": {
    "cell_id": "94cf184cea61427f9d256041b4b07602",
    "deepnote_cell_height": 257.76666259765625,
    "deepnote_cell_type": "markdown"
   },
   "source": [
    "### 2.1) Conditionals (if, else, elif)\n",
    "\n",
    "- The **if-else statement** is used to code the same way you would use it in the English language. The syntax for the if-else statement is:\n",
    "\n",
    "- On the other hand, **The elif statement** allows you to check multiple expressions for TRUE and execute a block of code as soon as one of the conditions evaluates to TRUE.\n",
    "\n",
    "- Similar to the else, **the elif statement** is optional. However, unlike else, for which there can be at most one statement, there can be an arbitrary number of **elif statements following an if.**\n",
    "\n",
    "- The syntax of this compound statement is shown below:\n"
   ]
  },
  {
   "cell_type": "markdown",
   "metadata": {
    "cell_id": "bd8c7d6bb2404902a8abebb8a41e6e4f",
    "deepnote_cell_height": 573.9166870117188,
    "deepnote_cell_type": "markdown",
    "tags": []
   },
   "source": [
    "![Picture Title](Recursos/if_sintaxis.png) "
   ]
  },
  {
   "cell_type": "code",
   "execution_count": 61,
   "metadata": {
    "cell_id": "1ff578db6c84403b896d694082c04277",
    "collapsed": false,
    "deepnote_cell_type": "code",
    "deepnote_to_be_reexecuted": false,
    "execution_millis": 12,
    "execution_start": 1681905382712,
    "jupyter": {
     "outputs_hidden": false
    },
    "pycharm": {
     "name": "#%%\n"
    },
    "source_hash": "85f49bb5"
   },
   "outputs": [
    {
     "name": "stdout",
     "output_type": "stream",
     "text": [
      "El campo Volve se encuentra en el area que corresponde al mar del norte Noruego\n"
     ]
    }
   ],
   "source": [
    "# Using if and else example\n",
    "campo = campo_Volve.copy()\n",
    "campo['Nombre'] = 'Volve'\n",
    "\n",
    "if campo[\"Nombre\"] == \"Volve\": # insert the condition campo['Nombre'] = 'Volve'\n",
    "    print(\"El campo Volve se encuentra en el area que corresponde al mar del norte Noruego\")\n",
    "else:\n",
    "    print(\"No se de dispone de información del campo en mención\")"
   ]
  },
  {
   "cell_type": "code",
   "execution_count": 64,
   "metadata": {},
   "outputs": [
    {
     "data": {
      "text/plain": [
       "{'País': 'Noruega',\n",
       " 'Fin_produccion': '2016',\n",
       " 'Bloque': '15/9',\n",
       " 'Tipo': 'off-shore',\n",
       " 'Pozo': ['F-1C', 'F-4', 'F-5', 'F-11', 'F-12', 'F-14', 'F-15 D'],\n",
       " 'Inicio_produccion': '2008',\n",
       " 'Continente': 'Europa'}"
      ]
     },
     "execution_count": 64,
     "metadata": {},
     "output_type": "execute_result"
    }
   ],
   "source": [
    "campo_Volve"
   ]
  },
  {
   "cell_type": "code",
   "execution_count": 65,
   "metadata": {
    "cell_id": "a3c42194570945dcaf8c456c3f7a0c03",
    "collapsed": false,
    "deepnote_cell_type": "code",
    "deepnote_to_be_reexecuted": false,
    "execution_millis": 2,
    "execution_start": 1681905383286,
    "jupyter": {
     "outputs_hidden": false
    },
    "pycharm": {
     "name": "#%%\n"
    },
    "source_hash": "3fb8b15d"
   },
   "outputs": [
    {
     "name": "stdout",
     "output_type": "stream",
     "text": [
      "Este campo es Offshore\n"
     ]
    }
   ],
   "source": [
    "#if #: # insert condition País = Inglaterra\n",
    "if campo_Volve['Bloque'] == '15/9': \n",
    "    print('Este campo es Offshore')\n",
    "elif campo_Volve['Bloque'] == '15/10':\n",
    "    print('Este campo no existe')\n",
    "else:\n",
    "    print('No hay información sobre este país')"
   ]
  },
  {
   "cell_type": "code",
   "execution_count": 66,
   "metadata": {
    "cell_id": "bc703d3df1ad42d3837670ab91fa5baa",
    "collapsed": false,
    "deepnote_cell_type": "code",
    "deepnote_to_be_reexecuted": false,
    "execution_millis": 6,
    "execution_start": 1681905384005,
    "jupyter": {
     "outputs_hidden": false
    },
    "pycharm": {
     "name": "#%%\n"
    },
    "source_hash": "a83ca166"
   },
   "outputs": [
    {
     "name": "stdout",
     "output_type": "stream",
     "text": [
      "EL crudo es extra pesado\n"
     ]
    }
   ],
   "source": [
    "# Insert a list of API values \n",
    "\n",
    "API = [9, 15, 23, 32, 40]\n",
    "\n",
    "# Identify wich type of crude is the first element of the API list\n",
    "\n",
    "if API[0] <= 10:\n",
    "    print(\"EL crudo es extra pesado\")\n",
    "elif API[0] >= 11 and API[0] <= 21:\n",
    "    print(\"El crudo es pesado\")\n",
    "elif API[0] >= 22 and API[0] <= 29:\n",
    "    print(\"El crudo es mediano\")\n",
    "elif API[0] >= 30:\n",
    "    print(\"El crudo es liviano\")"
   ]
  },
  {
   "cell_type": "code",
   "execution_count": 69,
   "metadata": {
    "cell_id": "5ff91a958edd472f90d686b8ae8bc631",
    "deepnote_app_coordinates": {
     "h": 5,
     "w": 12,
     "x": 0,
     "y": 0
    },
    "deepnote_cell_type": "code",
    "deepnote_to_be_reexecuted": false,
    "execution_millis": 24,
    "execution_start": 1681905384579,
    "source_hash": "d803d53b"
   },
   "outputs": [
    {
     "name": "stdout",
     "output_type": "stream",
     "text": [
      "El crudo es mediano con un valor de 23\n"
     ]
    }
   ],
   "source": [
    "# # Identify wich type of crude is the element whose value is 23\n",
    "\n",
    "if API[2] <= 10:\n",
    "    print(f\"EL crudo es extra pesado con un valor de {API[2]}\")\n",
    "elif API[2] >= 11 and API[2] <= 21:\n",
    "    print(f\"El crudo es pesado con un valor de {API[2]}\")\n",
    "elif API[2] >= 22 and API[2] <= 29:\n",
    "    print(f\"El crudo es mediano con un valor de {API[2]}\")\n",
    "elif API[2] >= 30:\n",
    "    print(f\"El crudo es liviano con un valor de {API[2]}\")"
   ]
  },
  {
   "cell_type": "markdown",
   "metadata": {
    "cell_id": "34f16b96d66f4377bb95ff0c02834df7",
    "deepnote_cell_height": 145.1666717529297,
    "deepnote_cell_type": "markdown"
   },
   "source": [
    "### 2.2) Loops (for, while)\n",
    "\n",
    "Loops are important in Python or in any other programming language as they help you to execute a **block of code repeatedly**. You will often come face to face with situations where you would need to use a piece of code over and over but you don't want to write the same line of code multiple times."
   ]
  },
  {
   "cell_type": "markdown",
   "metadata": {
    "cell_id": "1ea66d14bc0f482fa2e3319ebc3754e9",
    "deepnote_cell_height": 172.56666564941406,
    "deepnote_cell_type": "markdown",
    "tags": []
   },
   "source": [
    "#### 2.2.1. for Loop\n",
    "\n",
    "- A for loop is a programming concept that, when it's implemented, executes a piece of code over and over again \"for\" a certain number of times, based on a sequence. This \"number of times\" is determined by a sequence or an ordered list of things. \n",
    "\n",
    "- The syntax of this compound statement is shown below:\n"
   ]
  },
  {
   "cell_type": "markdown",
   "metadata": {
    "cell_id": "253957e13b5a45188298accc2bd8caf4",
    "deepnote_cell_height": 425.6333312988281,
    "deepnote_cell_type": "markdown",
    "tags": []
   },
   "source": [
    "![Picture Title](Recursos/for_sintaxis.png) "
   ]
  },
  {
   "cell_type": "code",
   "execution_count": 70,
   "metadata": {},
   "outputs": [
    {
     "data": {
      "text/plain": [
       "[9, 15, 23, 32, 40]"
      ]
     },
     "execution_count": 70,
     "metadata": {},
     "output_type": "execute_result"
    }
   ],
   "source": [
    "API"
   ]
  },
  {
   "cell_type": "code",
   "execution_count": 78,
   "metadata": {
    "cell_id": "433c15e465d04506b626b651cd984d3e",
    "collapsed": false,
    "deepnote_cell_type": "code",
    "deepnote_to_be_reexecuted": false,
    "execution_millis": 10,
    "execution_start": 1681905387459,
    "jupyter": {
     "outputs_hidden": false
    },
    "pycharm": {
     "name": "#%%\n"
    },
    "source_hash": "4580731"
   },
   "outputs": [
    {
     "name": "stdout",
     "output_type": "stream",
     "text": [
      "El crudo es extrapesado 9\n",
      "El crudo es pesado 15\n",
      "El crudo es medino 23\n",
      "El crudo es liviano 32\n",
      "El crudo es liviano 40\n"
     ]
    }
   ],
   "source": [
    "# Use a for Loop to determine the type of crude of the elements in the list API\n",
    "\n",
    "for crude in API:\n",
    "    if crude <= 10:\n",
    "        print(f\"El crudo es extrapesado {crude}\")\n",
    "    elif crude >= 11 and crude <= 21:\n",
    "        print(f\"El crudo es pesado {crude}\")\n",
    "    elif crude >= 22 and crude <= 29:\n",
    "        print(f\"El crudo es medino {crude}\")\n",
    "    elif crude >= 30:\n",
    "        print(f\"El crudo es liviano {crude}\")"
   ]
  },
  {
   "cell_type": "code",
   "execution_count": 79,
   "metadata": {},
   "outputs": [
    {
     "data": {
      "text/plain": [
       "{'País': 'Noruega',\n",
       " 'Fin_produccion': '2016',\n",
       " 'Bloque': '15/9',\n",
       " 'Tipo': 'off-shore',\n",
       " 'Pozo': ['F-1C', 'F-4', 'F-5', 'F-11', 'F-12', 'F-14', 'F-15 D'],\n",
       " 'Inicio_produccion': '2008',\n",
       " 'Continente': 'Europa',\n",
       " 'Nombre': 'Volve'}"
      ]
     },
     "execution_count": 79,
     "metadata": {},
     "output_type": "execute_result"
    }
   ],
   "source": [
    "campo"
   ]
  },
  {
   "cell_type": "code",
   "execution_count": 80,
   "metadata": {
    "cell_id": "0d9317b9638945a0b1c151ef265bdced",
    "collapsed": false,
    "deepnote_cell_type": "code",
    "deepnote_to_be_reexecuted": false,
    "execution_millis": 22,
    "execution_start": 1681905907925,
    "jupyter": {
     "outputs_hidden": false
    },
    "pycharm": {
     "name": "#%%\n"
    },
    "source_hash": "b7405e30"
   },
   "outputs": [
    {
     "name": "stdout",
     "output_type": "stream",
     "text": [
      "País\n",
      "Fin_produccion\n",
      "Bloque\n",
      "Tipo\n",
      "Pozo\n",
      "Inicio_produccion\n",
      "Continente\n",
      "Nombre\n"
     ]
    }
   ],
   "source": [
    "# Use for Loop to print the keys\n",
    "\n",
    "for clave in campo.keys():\n",
    "    print(clave)"
   ]
  },
  {
   "cell_type": "code",
   "execution_count": 84,
   "metadata": {
    "cell_id": "36cd45a7dd9344eb8957557daada933d",
    "collapsed": false,
    "deepnote_cell_type": "code",
    "deepnote_to_be_reexecuted": false,
    "execution_millis": 10,
    "execution_start": 1681905389027,
    "jupyter": {
     "outputs_hidden": false
    },
    "pycharm": {
     "name": "#%%\n"
    },
    "source_hash": "cc0deceb"
   },
   "outputs": [
    {
     "name": "stdout",
     "output_type": "stream",
     "text": [
      "{'País': 'Noruega', 'Fin_produccion': '2016', 'Bloque': '15/9', 'Tipo': 'off-shore', 'Pozo': ['F-1C', 'F-4', 'F-5', 'F-11', 'F-12', 'F-14', 'F-15 D'], 'Inicio_produccion': '2008', 'Continente': 'Europa'}\n",
      "\n",
      "País : Noruega\n",
      "Fin_produccion : 2016\n",
      "Bloque : 15/9\n",
      "Tipo : off-shore\n",
      "Pozo : ['F-1C', 'F-4', 'F-5', 'F-11', 'F-12', 'F-14', 'F-15 D']\n",
      "Inicio_produccion : 2008\n",
      "Continente : Europa\n"
     ]
    }
   ],
   "source": [
    "# Use for Loop to print the keys and values line by line\n",
    "print(campo_Volve)\n",
    "print()\n",
    "\n",
    "for clave, valor in campo_Volve.items():\n",
    "    print(f\"{clave} : {valor}\")"
   ]
  },
  {
   "cell_type": "code",
   "execution_count": 98,
   "metadata": {},
   "outputs": [
    {
     "name": "stdout",
     "output_type": "stream",
     "text": [
      "Noruega\n",
      "2008\n",
      "2016\n",
      "15/9\n",
      "off-shore\n",
      "['F-1C', 'F-4', 'F-5', 'F-11', 'F-12', 'F-14', 'F-15 D']\n"
     ]
    }
   ],
   "source": [
    "for value in campo_Volve.values():\n",
    "    print(value)"
   ]
  },
  {
   "cell_type": "code",
   "execution_count": 101,
   "metadata": {
    "cell_id": "fa243ad6d3364f76921356589de764d1",
    "collapsed": false,
    "deepnote_cell_type": "code",
    "deepnote_to_be_reexecuted": false,
    "execution_millis": 4,
    "execution_start": 1681905389599,
    "jupyter": {
     "outputs_hidden": false
    },
    "pycharm": {
     "name": "#%%\n"
    },
    "source_hash": "1abcb60d"
   },
   "outputs": [
    {
     "name": "stdout",
     "output_type": "stream",
     "text": [
      "la Información del campo es correcta\n",
      "El campo empezó a producir a partir del 2008\n"
     ]
    }
   ],
   "source": [
    "# Check the information of initial oil production date  \n",
    "\n",
    "for value in campo_Volve.values():\n",
    "    if value == 'Noruega':\n",
    "        continue\n",
    "    elif value != '2008':\n",
    "        print('El campo empezó a producir a partir del 2008')\n",
    "        break\n",
    "    else:\n",
    "        print('la Información del campo es correcta')"
   ]
  },
  {
   "cell_type": "markdown",
   "metadata": {
    "cell_id": "ffadb01da2b24edba220dc583674d7b5",
    "deepnote_cell_height": 293.1499938964844,
    "deepnote_cell_type": "markdown",
    "tags": []
   },
   "source": [
    "#### 2.2.2. while loop\n",
    "\n",
    "A while loop is a programming concept that, when it's implemented, executes a piece of code over and over again while a given condition still holds true.\n",
    "\n",
    "The above definition also highlights the three components that you need to construct the while loop in Python:\n",
    "\n",
    "- The while keyword;\n",
    "- A condition that transates to either True or False; And\n",
    "- A block of code that you want to execute repeatedly\n",
    "\n",
    "\n",
    "The syntax of this compound statement is shown below:"
   ]
  },
  {
   "cell_type": "markdown",
   "metadata": {
    "cell_id": "a31b0512068e4560bf622cf04d0a02cd",
    "deepnote_cell_height": 425.6333312988281,
    "deepnote_cell_type": "markdown",
    "tags": []
   },
   "source": [
    "![Picture Title](Recursos/while_sintaxis.png) "
   ]
  },
  {
   "cell_type": "code",
   "execution_count": 102,
   "metadata": {},
   "outputs": [
    {
     "data": {
      "text/plain": [
       "{'País': 'Noruega',\n",
       " 'Inicio_produccion': '2008',\n",
       " 'Fin_produccion': '2016',\n",
       " 'Bloque': '15/9',\n",
       " 'Tipo': 'off-shore',\n",
       " 'Pozo': ['F-1C', 'F-4', 'F-5', 'F-11', 'F-12', 'F-14', 'F-15 D']}"
      ]
     },
     "execution_count": 102,
     "metadata": {},
     "output_type": "execute_result"
    }
   ],
   "source": [
    "campo_Volve"
   ]
  },
  {
   "cell_type": "code",
   "execution_count": 149,
   "metadata": {
    "cell_id": "346c611ad86447b99c9fbc58cda3b8da",
    "collapsed": false,
    "deepnote_cell_type": "code",
    "deepnote_to_be_reexecuted": false,
    "execution_millis": 14,
    "execution_start": 1681905804155,
    "jupyter": {
     "outputs_hidden": false
    },
    "pycharm": {
     "name": "#%%\n"
    },
    "source_hash": "825c45c"
   },
   "outputs": [
    {
     "name": "stdout",
     "output_type": "stream",
     "text": [
      "El campo volve tiene 7 pozos\n"
     ]
    }
   ],
   "source": [
    "# use while loop to count the number of wells\n",
    "count = 0\n",
    "\n",
    "while count < len(campo_Volve[\"Pozo\"]):\n",
    "    count = count + 1\n",
    "print(f\"El campo volve tiene {count} pozos\")"
   ]
  },
  {
   "cell_type": "markdown",
   "metadata": {
    "cell_id": "5a2e2335d5d04e8b9706acd4415fe0e9",
    "deepnote_cell_height": 195.56666564941406,
    "deepnote_cell_type": "markdown"
   },
   "source": [
    "### 2.3) Functions\n",
    "\n",
    "A function is a group of related statements that performs a specific task.\n",
    "\n",
    "On the other hand, functions help break our program into smaller and modular chunks. As our program grows larger and larger, functions make it more organized and manageable.\n",
    "\n",
    "The syntax of this compound statement is shown below:"
   ]
  },
  {
   "cell_type": "markdown",
   "metadata": {
    "cell_id": "cf7053fbf75c47e983ee565eecdd0d9b",
    "deepnote_cell_height": 591.2166748046875,
    "deepnote_cell_type": "markdown",
    "tags": []
   },
   "source": [
    "![Picture Title](Recursos/function_sintaxis.png) "
   ]
  },
  {
   "cell_type": "code",
   "execution_count": 140,
   "metadata": {
    "cell_id": "44e1339535604e98a53dd6eb1a21dddf",
    "collapsed": false,
    "deepnote_cell_type": "code",
    "deepnote_to_be_reexecuted": false,
    "execution_millis": 60,
    "execution_start": 1681847336474,
    "jupyter": {
     "outputs_hidden": false
    },
    "pycharm": {
     "name": "#%%\n"
    },
    "source_hash": "dc9ed22a"
   },
   "outputs": [],
   "source": [
    "# Create a function to print 'es un campo Offshore que se encuentra en el Mar del Norte'\n",
    "def campo_volve():\n",
    "    print('es un campo Offshore que se encuentra en el Mar del Norte')"
   ]
  },
  {
   "cell_type": "code",
   "execution_count": 141,
   "metadata": {},
   "outputs": [
    {
     "name": "stdout",
     "output_type": "stream",
     "text": [
      "es un campo Offshore que se encuentra en el Mar del Norte\n"
     ]
    }
   ],
   "source": [
    "campo_volve()"
   ]
  },
  {
   "cell_type": "code",
   "execution_count": 144,
   "metadata": {
    "cell_id": "f6eaa73331794fbca31a0e3b5bf975c7",
    "collapsed": false,
    "deepnote_cell_type": "code",
    "deepnote_to_be_reexecuted": false,
    "execution_millis": 26,
    "execution_start": 1681847339313,
    "jupyter": {
     "outputs_hidden": false
    },
    "pycharm": {
     "name": "#%%\n"
    },
    "source_hash": "a09838a4"
   },
   "outputs": [
    {
     "name": "stdout",
     "output_type": "stream",
     "text": [
      "es un campo Offshore que se encuentra en el Mar del Norte\n",
      "Uno de los campos mas conocidos del continente europeo es el campo volve el cual None\n"
     ]
    }
   ],
   "source": [
    "# Use the previous function to complete the sentence\n",
    "print(f'Uno de los campos mas conocidos del continente europeo es el campo volve el cual {campo_volve()}')"
   ]
  },
  {
   "cell_type": "markdown",
   "metadata": {
    "cell_id": "4c9f4bf9f7d64eb0862c40482e56f865",
    "deepnote_cell_height": 348.683349609375,
    "deepnote_cell_type": "markdown"
   },
   "source": [
    "![darcy](Recursos/DarcyG.png)\n",
    "*Figure 5. Darcy Law*\n",
    "\n",
    "**Ecuación de Darcy**\n",
    "\n",
    "if is horizontal linear flow:\n",
    "$$Q = \\frac{kA(P_{1}-P_{2})}{u L}$$  $$P_{1}>P_{2}$$\n",
    "\n",
    "if is inclined linear flow:\n",
    "$$Q = \\frac{-kA}{u} ( \\frac{dp}{dL} + {g\\rho sin \\theta} )$$\n",
    "\n",
    "**Where:** \\\n",
    "*$Q$:* Flow rate $(m^{3}/s)$\\\n",
    "*$k$:* Coefficient of permeability $(m^{2})$\\\n",
    "*$A$:* Cross sectional area of flow $(m^{2})$\\\n",
    "*$P1$:* Pressure at point 1 $(Pa)$\\\n",
    "*$P2$:* Pressure at point 1 $(Pa)$\\\n",
    "*$u$:* Viscosity  $(Pa *s)$\\\n",
    "*$L$:* Length $(m)$"
   ]
  },
  {
   "cell_type": "code",
   "execution_count": 126,
   "metadata": {
    "cell_id": "eb55245c213042eda46bd0c071661b71",
    "collapsed": false,
    "deepnote_cell_type": "code",
    "deepnote_to_be_reexecuted": false,
    "execution_millis": 13,
    "execution_start": 1681848894991,
    "jupyter": {
     "outputs_hidden": false
    },
    "pycharm": {
     "name": "#%%\n"
    },
    "source_hash": "361f687b"
   },
   "outputs": [],
   "source": [
    "# Import math library\n",
    "import math\n",
    "\n",
    "# Linear flow rate\n",
    "\n",
    "def flow_rate(k, A, P1, P2, u, L, g, pho=None, theta=None):\n",
    "    if pho is None and theta is None:\n",
    "        q = ((k * A) * (P1 - P2)) / (u * L) # Flujo horizontal\n",
    "        \n",
    "    elif pho is not None and theta is not None:\n",
    "        q = ((-k * A) / u) * (((P1 - P2) / L) + g * pho * math.sin(theta)) # Flujo inclinado\n",
    "        \n",
    "    return q"
   ]
  },
  {
   "cell_type": "markdown",
   "metadata": {
    "cell_id": "fd18c9bdf1b14ab5b252973c3d075c87",
    "deepnote_cell_type": "markdown"
   },
   "source": [
    "**Water Resistivity (Archie equation)**\n",
    "\n",
    "$$R_w = \\frac{R_{t} * \\phi^{m}}a$$\n",
    "\n",
    "**Where:** \\\n",
    "*$R_w$:* Apparent Resistivity of formation water $(\\Omega-m)$\\\n",
    "*$R_t$:* True formation resistivity as derived from a deep reading resistivity log $(\\Omega-m)$\\\n",
    "*$\\phi$:* Porosity $(fraction)$\\\n",
    "*$a$:* Tortuosity factor\\\n",
    "*$m$:* cementation exponent"
   ]
  },
  {
   "cell_type": "code",
   "execution_count": 127,
   "metadata": {
    "cell_id": "96d06e7e13074b9087754aab522bb538",
    "collapsed": false,
    "deepnote_cell_type": "code",
    "deepnote_to_be_reexecuted": false,
    "execution_millis": 33,
    "execution_start": 1681848898461,
    "jupyter": {
     "outputs_hidden": false
    },
    "pycharm": {
     "name": "#%%\n"
    },
    "source_hash": "a9bcc950"
   },
   "outputs": [],
   "source": [
    "# Water resistivity - Archie equation\n",
    "def resistividad_agua(ro, phi, a, m):\n",
    "    rw = (ro * phi ** m) / a\n",
    "    return rw"
   ]
  },
  {
   "cell_type": "markdown",
   "metadata": {
    "cell_id": "e703db7aacaf448782eed8eb134acdb0",
    "deepnote_cell_height": 244.89999389648438,
    "deepnote_cell_type": "markdown",
    "tags": []
   },
   "source": [
    "# Part 2 Test"
   ]
  },
  {
   "cell_type": "markdown",
   "metadata": {
    "cell_id": "37baf614d0fb4f7291f160ba4afa0a92",
    "deepnote_cell_type": "markdown"
   },
   "source": [
    "#### 1) What is the flow rate in m$^3$/s through a core if we measured the following values under horizontal flow test:\n",
    "- $K = 2*{10^{-11}}{m^2}$\n",
    "- $P_{1} = 18000 Pa$\n",
    "- $P_{2} = 10000 Pa$\n",
    "- $A = 0.25 {m^2}$\n",
    "- $u= 0.001 mPa*s$\n",
    "- $L= 0.5 m$\n",
    "1 darcy is aproximately 1×10−12 $m^{2}$"
   ]
  },
  {
   "cell_type": "code",
   "execution_count": 131,
   "metadata": {
    "cell_id": "f686ddb3365a481ebb2b6439691658ab",
    "deepnote_cell_type": "code",
    "deepnote_to_be_reexecuted": false,
    "execution_millis": 18,
    "execution_start": 1681848028706,
    "source_hash": "7ff93e3"
   },
   "outputs": [
    {
     "name": "stdout",
     "output_type": "stream",
     "text": [
      "Flow rate is: 8e-05 m3/s\n"
     ]
    }
   ],
   "source": [
    "# Insert your code\n",
    "Q = flow_rate(2E-11, 0.25, 18000, 10000, 0.001, 0.5, 9.8)\n",
    "\n",
    "print(f\"Flow rate is: {Q} m3/s\")"
   ]
  },
  {
   "cell_type": "markdown",
   "metadata": {
    "cell_id": "76abd4bc02d949b283a1d80ab45a584d",
    "deepnote_cell_type": "markdown"
   },
   "source": [
    "\n",
    "#### 2) Write a code to obtain the artificial lift methods whose name starts with a vowel. For this example, consider the following list: [\"Rod pump\", \"Gas lift\", \"PCP\", \"ESP\", \"Hydraulic pump\"]"
   ]
  },
  {
   "cell_type": "code",
   "execution_count": null,
   "metadata": {
    "cell_id": "cacce6fae9ae40f0b07f6949494ac3f7",
    "deepnote_cell_type": "code",
    "deepnote_to_be_reexecuted": false,
    "execution_millis": 4,
    "execution_start": 1681904954356,
    "source_hash": "658b7076"
   },
   "outputs": [],
   "source": [
    "# Insert your code"
   ]
  },
  {
   "cell_type": "markdown",
   "metadata": {
    "cell_id": "6096e52966f646989313ab8694d41c81",
    "deepnote_cell_height": 198.76666259765625,
    "deepnote_cell_type": "markdown"
   },
   "source": [
    "# 3) Bonus data type\n",
    "## 3.1) datetime\n",
    "The Volve field start producing in January of 2008 to June 2016. Let's check for how many days the field produced!"
   ]
  },
  {
   "cell_type": "code",
   "execution_count": 132,
   "metadata": {
    "cell_id": "ac1d5dcf13664ffda28acbfc8fe41fe7",
    "collapsed": false,
    "deepnote_cell_type": "code",
    "deepnote_to_be_reexecuted": false,
    "execution_millis": 1,
    "execution_start": 1681826013582,
    "jupyter": {
     "outputs_hidden": false
    },
    "pycharm": {
     "name": "#%%\n"
    },
    "source_hash": "5c66d142"
   },
   "outputs": [
    {
     "name": "stdout",
     "output_type": "stream",
     "text": [
      "3074 days, 0:00:00\n"
     ]
    }
   ],
   "source": [
    "import datetime\n",
    "start_production = datetime.datetime(year=2008, month=1, day=1)\n",
    "end_production = datetime.datetime(year=2016, month=6, day=1)\n",
    "prod_days = end_production - start_production\n",
    "print(prod_days)"
   ]
  },
  {
   "cell_type": "markdown",
   "metadata": {
    "cell_id": "db5895923f244c7481d861af1e494722",
    "deepnote_cell_height": 74.78334045410156,
    "deepnote_cell_type": "markdown"
   },
   "source": [
    "Wow! It produced for 3074 days! What if the field started production today? Until what year would the production last?"
   ]
  },
  {
   "cell_type": "code",
   "execution_count": 133,
   "metadata": {
    "cell_id": "0998628483c8456b9ec8aaf93df93251",
    "collapsed": false,
    "deepnote_cell_type": "code",
    "deepnote_to_be_reexecuted": false,
    "execution_millis": 1,
    "execution_start": 1681826013582,
    "jupyter": {
     "outputs_hidden": false
    },
    "pycharm": {
     "name": "#%%\n"
    },
    "source_hash": "fa5a5029"
   },
   "outputs": [
    {
     "name": "stdout",
     "output_type": "stream",
     "text": [
      "2031-09-19\n"
     ]
    }
   ],
   "source": [
    "now = datetime.date.today()\n",
    "print(now + prod_days)"
   ]
  },
  {
   "cell_type": "code",
   "execution_count": null,
   "metadata": {},
   "outputs": [],
   "source": []
  }
 ],
 "metadata": {
  "deepnote": {},
  "deepnote_app_layout": "article",
  "deepnote_execution_queue": [],
  "deepnote_notebook_id": "d2415cd78e11441c8e4e451cbfa620c5",
  "deepnote_persisted_session": {
   "createdAt": "2023-04-18T21:02:25.865Z"
  },
  "kernelspec": {
   "display_name": "Python 3 (ipykernel)",
   "language": "python",
   "name": "python3"
  },
  "language_info": {
   "codemirror_mode": {
    "name": "ipython",
    "version": 3
   },
   "file_extension": ".py",
   "mimetype": "text/x-python",
   "name": "python",
   "nbconvert_exporter": "python",
   "pygments_lexer": "ipython3",
   "version": "3.10.6"
  }
 },
 "nbformat": 4,
 "nbformat_minor": 4
}
