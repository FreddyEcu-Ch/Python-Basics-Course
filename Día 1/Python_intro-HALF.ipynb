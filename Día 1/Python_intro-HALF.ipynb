{
 "cells": [
  {
   "cell_type": "markdown",
   "metadata": {
    "cell_id": "7407286d47cb4e75b8a37b96584b6d50",
    "deepnote_cell_height": 81.98333740234375,
    "deepnote_cell_type": "markdown"
   },
   "source": [
    "# Day 1 - Python Basics"
   ]
  },
  {
   "cell_type": "markdown",
   "metadata": {
    "cell_id": "5497b7b02dff4b94b2c43c99e5a1acd7",
    "deepnote_cell_height": 449.1499938964844,
    "deepnote_cell_type": "markdown"
   },
   "source": [
    "## Contents\n",
    "\n",
    "- **Part 1 - Data Structures (45 min)**\n",
    "    - 1.0. Introduction\n",
    "    - 1.1. Data Types and Structures\n",
    "    - 1.2. Lists: basis and manipulation\n",
    "    - 1.3. Dictionaries: basis and manipulation\n",
    "- **Test Part 1 (15 min)**\n",
    "- **Part 2 - Compound Statements(60 min)**\n",
    "    - 2.1. Conditionals (if, else, elif)\n",
    "    - 2.2. Loops (for, while)\n",
    "    - 2.3. Functions\n",
    "- **Test Part 2 (15 min)**\n"
   ]
  },
  {
   "cell_type": "markdown",
   "metadata": {
    "cell_id": "6dfb0b0f593249e08e1edcdb588251a3",
    "deepnote_cell_height": 345.566650390625,
    "deepnote_cell_type": "markdown"
   },
   "source": [
    "# 1) Data structures\n",
    "\n"
   ]
  },
  {
   "cell_type": "markdown",
   "metadata": {
    "cell_id": "d5fa1b85732e4b79ab5891296f5e1ad6",
    "deepnote_cell_height": 108.38333129882812,
    "deepnote_cell_type": "markdown",
    "tags": []
   },
   "source": [
    "\n",
    "## 1.0) Introduction\n",
    "\n",
    "### First steps\n",
    "Writing code is an important part of programming. We start with a blank file, write a few lines of code, and a program is born! \n",
    "\n",
    "\n",
    "### Notebooks\n",
    "\n",
    "They consist of units called `cells`. Cells can contain markdown text like this one, or Python code (notice that code cells are numbered). To run a cell you can click the `Run` button. These are some useful shortcuts:\n",
    "\n",
    "- To run a cell and stay in the same cell, type `Ctrl+Enter` \n",
    "- To run a cell and move to the next cell, type `Shift+Enter`\n",
    "- To run a cell and insert a new cell below, type `Alt+Enter`\n",
    "- To run all the cells of a notebook, choose the `Cell -> Run all` menu\n",
    "- Use the up and down arrow keys to move quickly between cells\n",
    "\n",
    "**Remember**: **IDEs** on the other hand are software for building applications with the different tools for writing a program such as source code editor and code debugger. They facilitate this process with features like syntax highlighting and autocomplete. For further information chek this [note](https://keith-monreal.medium.com/notebook-vs-ide-180d38a0cd55#:~:text=Notebooks%20are%20files%20which%20supports,code%20editor%20and%20code%20debugger.)\n"
   ]
  },
  {
   "cell_type": "markdown",
   "metadata": {
    "cell_id": "5639901a97434a128d3a702384191a28",
    "deepnote_app_coordinates": {
     "h": 5,
     "w": 12,
     "x": 0,
     "y": 0
    },
    "deepnote_cell_type": "markdown"
   },
   "source": [
    "\n",
    "To print or display any value or information in Python, you use the preset function **print**."
   ]
  },
  {
   "cell_type": "code",
   "execution_count": 1,
   "metadata": {
    "cell_id": "be576be8db7d44afa52b337e1e4610fe",
    "collapsed": false,
    "deepnote_cell_type": "code",
    "deepnote_to_be_reexecuted": false,
    "execution_millis": 4,
    "execution_start": 1681905332825,
    "jupyter": {
     "outputs_hidden": false
    },
    "output_cleared": false,
    "pycharm": {
     "name": "#%%\n"
    },
    "source_hash": "5d20a612"
   },
   "outputs": [
    {
     "name": "stdout",
     "output_type": "stream",
     "text": [
      "Somos FICT, Somos ESPOL, bienvenidos a este Taller sobre Python\n"
     ]
    }
   ],
   "source": [
    "print(\"Somos FICT, Somos ESPOL, bienvenidos a este Taller sobre Python\")"
   ]
  },
  {
   "cell_type": "code",
   "execution_count": 2,
   "metadata": {
    "cell_id": "72ed36a901f54a3b84ba4a8560538072",
    "deepnote_app_coordinates": {
     "h": 5,
     "w": 12,
     "x": 0,
     "y": 0
    },
    "deepnote_cell_type": "code",
    "deepnote_to_be_reexecuted": false,
    "execution_millis": 14,
    "execution_start": 1681905333520,
    "source_hash": "14449d19"
   },
   "outputs": [
    {
     "name": "stdout",
     "output_type": "stream",
     "text": [
      "Hola mundo\n"
     ]
    }
   ],
   "source": [
    "# Write the first code line that everyone has learnt: print(\"Hola mundo\") \n",
    "print(\"Hola mundo\")"
   ]
  },
  {
   "cell_type": "code",
   "execution_count": 3,
   "metadata": {
    "cell_id": "f37e5af515004ce9928d25e98d2f2332",
    "deepnote_app_coordinates": {
     "h": 5,
     "w": 12,
     "x": 0,
     "y": 0
    },
    "deepnote_cell_type": "code",
    "deepnote_to_be_reexecuted": false,
    "execution_millis": 41,
    "execution_start": 1681905334010,
    "source_hash": "a019a94e"
   },
   "outputs": [
    {
     "name": "stdout",
     "output_type": "stream",
     "text": [
      "Hola mundo\n"
     ]
    }
   ],
   "source": [
    "# Create a variable and name it saludo, assing the following to the variable \"Hola mundo\"\n",
    "saludo = \"Hola mundo\"\n",
    "# Print the variable named saludo\n",
    "print(saludo)  #indentation"
   ]
  },
  {
   "cell_type": "markdown",
   "metadata": {
    "cell_id": "d185b9238222498eac7bf506974cd3ee",
    "deepnote_app_coordinates": {
     "h": 5,
     "w": 12,
     "x": 0,
     "y": 0
    },
    "deepnote_cell_type": "markdown"
   },
   "source": [
    "**Indentation**\n",
    "Indentation refers to the spaces at the beginning of a code line.\n",
    "Where in other programming languages the indentation in code is for readability only, the indentation in Python is very important.\n",
    "\n",
    "**Comments**\n",
    "Comments starts with a #, and Python will ignore them.\n",
    "\n",
    "\n",
    "- Comments can be used to explain Python code.\n",
    "\n",
    "- Comments can be used to make the code more readable.\n",
    "\n",
    "- Comments can be used to prevent execution when testing code.\n",
    "\n",
    "**Variables**\n",
    "Variables are containers for storing data values.\n",
    "Important: Variable names are case-sensitive."
   ]
  },
  {
   "cell_type": "markdown",
   "metadata": {
    "cell_id": "a86a0cef6bdf44f180ae8bfd2afa3236",
    "deepnote_cell_height": 442.1499938964844,
    "deepnote_cell_type": "markdown"
   },
   "source": [
    "## 1.1) Data types and structures"
   ]
  },
  {
   "cell_type": "markdown",
   "metadata": {
    "cell_id": "0ade80ed20024a7994aa37ffe0a5fa1e",
    "deepnote_cell_type": "markdown"
   },
   "source": [
    "### Data types\n",
    "In Python, we have different **types of data**, such as: float (floating point), int (integer), str (string) y bool (Boolean). \n",
    "\n",
    "- **float** - used for real numbers.\n",
    "- **int** - used for integers.\n",
    "- **str** - Text strings are defined in Python using single quotation marks\n",
    "<code> 'Texto' </code> , comillas dobles <code> \"Texto\" </code> , o comillas triples <code> \"\"\"Texto\"\"\" </code>\n",
    "\n",
    "Strings generated by triple quotes can contain multiple lines of text, the newlines will be included in the value of the variable. That is why they are used to write the documentation of functions.\n",
    "-  **bool** - A Boolean variable is a variable that can only take two possible values: True (verdadero) o False (falso). They are used to filter information from a data set.\n"
   ]
  },
  {
   "cell_type": "code",
   "execution_count": 4,
   "metadata": {
    "cell_id": "2b9e4a54933d49aea979e5c3e58e38fb",
    "collapsed": false,
    "deepnote_cell_type": "code",
    "deepnote_to_be_reexecuted": false,
    "execution_millis": 3,
    "execution_start": 1681905336206,
    "jupyter": {
     "outputs_hidden": false
    },
    "pycharm": {
     "name": "#%%\n"
    },
    "source_hash": "4f165595"
   },
   "outputs": [],
   "source": [
    "# The following are some examples of the main variables to be used in this workshop\n",
    "current_year = 2023\n",
    "average_height = 170.50\n",
    "topic = \"Fundamentos de Python\"\n",
    "succesful_workshop = True"
   ]
  },
  {
   "cell_type": "markdown",
   "metadata": {
    "cell_id": "4449ad78d6a4414a9ff0f14ae7ae19e1",
    "deepnote_app_coordinates": {
     "h": 5,
     "w": 12,
     "x": 0,
     "y": 0
    },
    "deepnote_cell_type": "markdown"
   },
   "source": [
    "It is possible to recognize the types (or classes) of variables using: **type(variable_name)**\n",
    "This allows us to determine the type of variable."
   ]
  },
  {
   "cell_type": "code",
   "execution_count": 5,
   "metadata": {
    "cell_id": "406e6483ffbe4c84ac695d3719be8a4d",
    "deepnote_cell_type": "code",
    "deepnote_to_be_reexecuted": false,
    "execution_millis": 18,
    "execution_start": 1681905337144,
    "source_hash": "e301bb2a",
    "tags": []
   },
   "outputs": [
    {
     "name": "stdout",
     "output_type": "stream",
     "text": [
      "<class 'int'>\n",
      "<class 'int'> <class 'float'> <class 'str'> <class 'bool'>\n"
     ]
    }
   ],
   "source": [
    "# print the types of the variable current_year\n",
    "print(type(current_year))\n",
    "# print the types of all the variables with one print\n",
    "print(type(current_year), type(average_height), type(topic), type(succesful_workshop))"
   ]
  },
  {
   "cell_type": "markdown",
   "metadata": {
    "cell_id": "6dd83a35765746b389dbef2d38989209",
    "deepnote_app_coordinates": {
     "h": 5,
     "w": 12,
     "x": 0,
     "y": 0
    },
    "deepnote_cell_type": "markdown"
   },
   "source": [
    "### Math operations\n",
    "\n",
    "Python can be used as a simple calculator:"
   ]
  },
  {
   "cell_type": "code",
   "execution_count": 6,
   "metadata": {
    "cell_id": "5a6f86ffa1a64eff88d615225b52297f",
    "deepnote_app_coordinates": {
     "h": 5,
     "w": 12,
     "x": 0,
     "y": 0
    },
    "deepnote_cell_type": "code",
    "deepnote_to_be_reexecuted": false,
    "execution_millis": 13,
    "execution_start": 1681905338044,
    "source_hash": "80abc1bd"
   },
   "outputs": [
    {
     "data": {
      "text/plain": [
       "6197"
      ]
     },
     "execution_count": 6,
     "metadata": {},
     "output_type": "execute_result"
    }
   ],
   "source": [
    "245+5952"
   ]
  },
  {
   "cell_type": "markdown",
   "metadata": {
    "cell_id": "afb97f23b18b45bb825a8b6f260987f3",
    "deepnote_app_coordinates": {
     "h": 5,
     "w": 12,
     "x": 0,
     "y": 0
    },
    "deepnote_cell_type": "markdown"
   },
   "source": [
    "However, this only works for the basic arithmetic operations: addition ( + ), subtraction ( - ), multiplication ( \\* ), division ( / ), exponentiation ( \\*\\* ), floor division ( // ), and modulo division ( % ). Notice that division (/) returns a float value, even if the two numbers are integers. Floor (or integer) division returns the quotient of the division, while modulo division returns the remainder of the division (though things get more complicated for negative numbers, see this [note](https://blog.teclado.com/pythons-modulo-operator-and-floor-division/)).\n",
    "\n",
    "For more advanced operations, we need to import the `math` module:"
   ]
  },
  {
   "cell_type": "markdown",
   "metadata": {
    "cell_id": "40aa1608c3eb48d3b19e8ba1b100e0aa",
    "deepnote_app_coordinates": {
     "h": 5,
     "w": 12,
     "x": 0,
     "y": 0
    },
    "deepnote_cell_type": "markdown"
   },
   "source": [
    "The  **data structures** are arrays used to store several values, they can be assigned to variables, they are iterables, some are mutables and among the most common are:\n",
    "- Lists\n",
    "- Dictionaries\n",
    "- Tuples\n",
    "- Datasets\n",
    "- Dataframes\n",
    "- Numpy arrays\n",
    "- Series"
   ]
  },
  {
   "cell_type": "markdown",
   "metadata": {
    "cell_id": "b1e3afaf21e940e7ab753b692f8e1fda",
    "deepnote_cell_height": 156.1666717529297,
    "deepnote_cell_type": "markdown"
   },
   "source": [
    "## 1.2) Lists\n",
    "\n",
    "Lists are data structures that can store numbers, strings, lists, etc.\n",
    "They are delimited by brackets ([a,b,c]) and their elements are separated by commas.\n",
    "\n",
    "Some examples using **lists** are shown below for OPEC COUNTRIES 2023 (https://worldpopulationreview.com/country-rankings/opec-countries)"
   ]
  },
  {
   "cell_type": "markdown",
   "metadata": {
    "cell_id": "6a29888c0703457483f8af9458512a95",
    "deepnote_cell_height": 557.433349609375,
    "deepnote_cell_type": "markdown"
   },
   "source": [
    "![Picture title](Recursos/OPEC_image.png)\n",
    "\n",
    "*Figure 1. OPEC Logo*"
   ]
  },
  {
   "cell_type": "code",
   "execution_count": 7,
   "metadata": {
    "cell_id": "a9b459a7c2704c938ccded69fe26d6e1",
    "collapsed": false,
    "deepnote_cell_type": "code",
    "deepnote_to_be_reexecuted": false,
    "execution_millis": 28,
    "execution_start": 1681905340644,
    "jupyter": {
     "outputs_hidden": false
    },
    "pycharm": {
     "name": "#%%\n"
    },
    "source_hash": "8e9fe157"
   },
   "outputs": [],
   "source": [
    "# List with 16 countries that have been members of OPEC\n",
    "paises = ['Arabia Saudita', 'Venezuela', 'Kuwait', 'Iran', 'Irak', 'Libia', 'UAE', 'Algeria', 'Nigeria', 'Gabón', 'Ángola', 'Congo', 'Guinea Ecuatorial','Ecuador', 'Qatar', 'Indonesia']\n",
    "\n",
    "# Other oil producing contries non OPEC members\n",
    "NO_OPEP= ['Arzebaijan', 'Bahrein', 'Brunei', 'Kazajistán', 'Malasia', 'México', 'Omán', 'Rusia', 'Sudán', 'Sudán del Sur']\n",
    "\n",
    "#retired/lapsed members\n",
    "paises_retirados = ['Ecuador', 'Indonesia', 'Qatar']"
   ]
  },
  {
   "cell_type": "markdown",
   "metadata": {
    "cell_id": "4ccc7e874de44fb580db04da6051e07c",
    "deepnote_app_coordinates": {
     "h": 5,
     "w": 12,
     "x": 0,
     "y": 0
    },
    "deepnote_cell_type": "markdown"
   },
   "source": [
    "## Python Operators"
   ]
  },
  {
   "cell_type": "markdown",
   "metadata": {
    "cell_id": "662f25f83fe4428ca459d965c655fc0a",
    "deepnote_app_coordinates": {
     "h": 5,
     "w": 12,
     "x": 0,
     "y": 0
    },
    "deepnote_cell_type": "markdown"
   },
   "source": [
    "![Picture title](Recursos/Python_operators.png)\n",
    "*Figure 2. Python Operators*"
   ]
  },
  {
   "cell_type": "markdown",
   "metadata": {
    "cell_id": "71c630c1ce53496bb9371b7746f54049",
    "deepnote_cell_height": 310.3500061035156,
    "deepnote_cell_type": "markdown"
   },
   "source": [
    "Lists can be manipulated, using arithmetic operators and methods.\n",
    "\n",
    "**Keep in mind!** It is worth to mention that the methods are functions belonging to the object containing a list, because in Python every variable is related to an object, and likewise, every object belongs to a class. Therefore, methods are functions that are part of the **List** class."
   ]
  },
  {
   "cell_type": "markdown",
   "metadata": {
    "cell_id": "c3a60a4acfe8406eb770cabbc776451a",
    "deepnote_cell_type": "markdown"
   },
   "source": [
    "### 1.2.1. Lists Indexing and Slicing"
   ]
  },
  {
   "cell_type": "code",
   "execution_count": 8,
   "metadata": {
    "cell_id": "8fe9d49ed5fa482c9d941cedda94944e",
    "collapsed": false,
    "deepnote_cell_type": "code",
    "deepnote_to_be_reexecuted": false,
    "execution_millis": 12,
    "execution_start": 1681905342701,
    "jupyter": {
     "outputs_hidden": false
    },
    "pycharm": {
     "name": "#%%\n"
    },
    "source_hash": "778da847"
   },
   "outputs": [
    {
     "name": "stdout",
     "output_type": "stream",
     "text": [
      "Libia\n",
      "Libia\n",
      "['Arabia Saudita', 'Venezuela', 'Kuwait', 'Iran', 'Irak', 'Libia', 'UAE', 'Algeria', 'Nigeria', 'Gabón', 'Ángola', 'Congo', 'Guinea Ecuatorial']\n",
      "['Arabia Saudita', 'Venezuela', 'Kuwait', 'Iran', 'Irak', 'Libia', 'UAE', 'Algeria', 'Nigeria', 'Gabón', 'Ángola', 'Congo', 'Guinea Ecuatorial', 'Arzebaijan', 'Bahrein', 'Brunei', 'Kazajistán', 'Malasia', 'México', 'Omán', 'Rusia', 'Sudán', 'Sudán del Sur']\n"
     ]
    }
   ],
   "source": [
    "#subsetting lists\n",
    "# write a code to print the name of Libia using the list paises\n",
    "print(paises[5])\n",
    "print(paises[-11])\n",
    "\n",
    "#print(paises[5,6]) # indices must be integers or slices, not tuple\n",
    "#print(paises[-11,-10]) # indices must be integers or slices, not tuple\n",
    "\n",
    "#slicing lists [start:end] [inclusive: exclusive]\n",
    "#slice the first 13 elements of the list paises\n",
    "OPEP = paises[0:13]\n",
    "\n",
    "# Add list elements\n",
    "# create a new list OPEP_plus adding NO_OPEP to OPEP list\n",
    "OPEP_plus= OPEP + NO_OPEP\n",
    "\n",
    "# Show the created lists\n",
    "print(OPEP)\n",
    "print (OPEP_plus)"
   ]
  },
  {
   "cell_type": "markdown",
   "metadata": {
    "cell_id": "3a126d6e61cd429e83ed36428ee17fbf",
    "deepnote_app_coordinates": {
     "h": 5,
     "w": 12,
     "x": 0,
     "y": 0
    },
    "deepnote_cell_type": "markdown"
   },
   "source": [
    "\"Formatted string literals\" f-strings are the string literals in which we use an f at the beginning and curly braces {} to enclose the expressions that will be replaced with other values."
   ]
  },
  {
   "cell_type": "code",
   "execution_count": 9,
   "metadata": {
    "cell_id": "4e621bf36601413eba3182c8be94b6f3",
    "collapsed": false,
    "deepnote_cell_type": "code",
    "deepnote_to_be_reexecuted": false,
    "execution_millis": 4,
    "execution_start": 1681905343956,
    "jupyter": {
     "outputs_hidden": false
    },
    "pycharm": {
     "name": "#%%\n"
    },
    "source_hash": "fac49c48"
   },
   "outputs": [
    {
     "name": "stdout",
     "output_type": "stream",
     "text": [
      "16 países han estado en la OPEP\n",
      "16 países han estado en la OPEP\n"
     ]
    }
   ],
   "source": [
    "# Use f-strings to create a variable s,  s= #number of countries that have been members of OPEC\n",
    "s = f'{len(paises)} países han estado en la OPEP' #use len to provide the value\n",
    "\n",
    "# Show s\n",
    "print(s)\n",
    "\n",
    "# Alternative way\n",
    "print(f'{len(paises)} países han estado en la OPEP')"
   ]
  },
  {
   "cell_type": "markdown",
   "metadata": {
    "cell_id": "bffdeac82fcb4512a8eee3d7d839074d",
    "deepnote_app_coordinates": {
     "h": 5,
     "w": 12,
     "x": 0,
     "y": 0
    },
    "deepnote_cell_type": "markdown"
   },
   "source": [
    "Practice completing the code below:"
   ]
  },
  {
   "cell_type": "code",
   "execution_count": 10,
   "metadata": {
    "cell_id": "6134f7a5692a422b9bb6bbf259d10f02",
    "deepnote_app_coordinates": {
     "h": 5,
     "w": 12,
     "x": 0,
     "y": 0
    },
    "deepnote_cell_type": "code",
    "deepnote_to_be_reexecuted": false,
    "execution_millis": 15,
    "execution_start": 1681905345011,
    "source_hash": "1316c2f6"
   },
   "outputs": [
    {
     "name": "stdout",
     "output_type": "stream",
     "text": [
      "3 países se han retirado de la OPEP\n",
      "13 países conforman la OPEP actualmente\n",
      "23 países conforman la OPEP Plus\n"
     ]
    }
   ],
   "source": [
    "print(f'{len(paises_retirados)} países se han retirado de la OPEP') #complete the code\n",
    "print(f'{len(OPEP)} países conforman la OPEP actualmente') #complete the code\n",
    "print(f'{len(OPEP_plus)} países conforman la OPEP Plus') #complete the code"
   ]
  },
  {
   "cell_type": "markdown",
   "metadata": {
    "cell_id": "3b47dd16e9724eecb73165dedcd4eadc",
    "deepnote_app_coordinates": {
     "h": 5,
     "w": 12,
     "x": 0,
     "y": 0
    },
    "deepnote_cell_type": "markdown"
   },
   "source": [
    "### 1.2.2) List Methods\n",
    "Among the most important list methods, we have the following:\n",
    "\n",
    "*append*, *remove*, *pop*, *del*, *clear*, *reverse*, *sort*, *index*, *extend*, *count*, *insert*\n",
    "\n",
    "To apply a method you will use the following: list_name.method_name"
   ]
  },
  {
   "cell_type": "markdown",
   "metadata": {
    "cell_id": "54658e2220544f048d59abeba0ae5127",
    "deepnote_app_coordinates": {
     "h": 5,
     "w": 12,
     "x": 0,
     "y": 0
    },
    "deepnote_cell_type": "markdown"
   },
   "source": [
    "![Picture title](Recursos/List_methods.png)\n",
    "*Figure 3. List Methods*\n",
    "**Fuente:**\n",
    "https://www.w3schools.com/python/python_lists_methods.asp"
   ]
  },
  {
   "cell_type": "code",
   "execution_count": 11,
   "metadata": {
    "cell_id": "83f664b4f6c64d5ebab732d8c3d3273a",
    "collapsed": false,
    "deepnote_cell_type": "code",
    "deepnote_to_be_reexecuted": false,
    "execution_millis": 15,
    "execution_start": 1681905346931,
    "jupyter": {
     "outputs_hidden": false
    },
    "pycharm": {
     "name": "#%%\n"
    },
    "source_hash": "9991cff3"
   },
   "outputs": [
    {
     "name": "stdout",
     "output_type": "stream",
     "text": [
      "['Arabia Saudita', 'Venezuela', 'Kuwait', 'Iran', 'Irak', 'Libia', 'UAE', 'Algeria', 'Nigeria', 'Gabón', 'Ángola', 'Congo', 'Guinea Ecuatorial', 'Qatar', 'Indonesia']\n",
      "['Arabia Saudita', 'Venezuela', 'Kuwait', 'Iran', 'Irak', 'Libia', 'UAE', 'Algeria', 'Nigeria', 'Gabón', 'Ángola', 'Congo', 'Guinea Ecuatorial', 'Qatar']\n",
      "['Arabia Saudita', 'Venezuela', 'Kuwait', 'Iran', 'Irak', 'Libia', 'UAE', 'Algeria', 'Nigeria', 'Gabón', 'Ángola', 'Congo', 'Guinea Ecuatorial']\n",
      "Estos son los paises que aun forman parte de la OPEP:\n",
      "['Arabia Saudita', 'Venezuela', 'Kuwait', 'Iran', 'Irak', 'Libia', 'UAE', 'Algeria', 'Nigeria', 'Gabón', 'Ángola', 'Congo', 'Guinea Ecuatorial']\n"
     ]
    }
   ],
   "source": [
    "# The remove method removes the item with the specified value \n",
    "# Syntax > list.remove(element)\n",
    "paises.remove('Ecuador') #complete the code for removing Ecuador from the list paises\n",
    "print(paises)\n",
    "\n",
    "paises.remove('Indonesia') #complete the code for removing Indonesia from the list paises\n",
    "print(paises)\n",
    "\n",
    "# Remove Qatar from the list paises\n",
    "paises.remove('Qatar')\n",
    "print(paises)\n",
    "\n",
    "print(\"Estos son los paises que aun forman parte de la OPEP:\")\n",
    "print(paises)"
   ]
  },
  {
   "cell_type": "code",
   "execution_count": 12,
   "metadata": {
    "cell_id": "880337ebe972469c8e19566816f97c6e",
    "collapsed": false,
    "deepnote_cell_type": "code",
    "deepnote_to_be_reexecuted": false,
    "execution_millis": 6,
    "execution_start": 1681905347512,
    "jupyter": {
     "outputs_hidden": false
    },
    "pycharm": {
     "name": "#%%\n"
    },
    "source_hash": "c67777bd"
   },
   "outputs": [
    {
     "name": "stdout",
     "output_type": "stream",
     "text": [
      "['Arabia Saudita', 'Venezuela', 'Kuwait', 'Iran', 'Irak', 'Libia', 'UAE', 'Algeria', 'Nigeria', 'Gabón', 'Ángola', 'Congo', 'Guinea Ecuatorial']\n",
      "['Arabia Saudita', 'Venezuela', 'Kuwait', 'Iran', 'Irak', 'Libia', 'UAE', 'Algeria', 'Nigeria', 'Gabón', 'Ángola', 'Congo', 'Guinea Ecuatorial', 'Ecuador']\n",
      "Ecuador ha sido el único país de latinoamérica que ha abandonado la OPEP por 2 veces\n"
     ]
    }
   ],
   "source": [
    "# The append method adds an element at the end of the list\n",
    "# Syntax > list.append(element)\n",
    "\n",
    "# show the list paises\n",
    "print(paises)\n",
    "# Include Ecuador in the list paises and show the updated list\n",
    "paises.append(\"Ecuador\")\n",
    "print(paises)\n",
    "print(f\"{paises[-1]} ha sido el único país de latinoamérica que ha abandonado la OPEP por 2 veces\")"
   ]
  },
  {
   "cell_type": "code",
   "execution_count": 13,
   "metadata": {
    "cell_id": "15cc1bbcea0340babdd65f3f22cf1cfb",
    "collapsed": false,
    "deepnote_cell_type": "code",
    "deepnote_to_be_reexecuted": false,
    "execution_millis": 4,
    "execution_start": 1681905347893,
    "jupyter": {
     "outputs_hidden": false
    },
    "pycharm": {
     "name": "#%%\n"
    },
    "source_hash": "75ab54a6"
   },
   "outputs": [
    {
     "name": "stdout",
     "output_type": "stream",
     "text": [
      "Hay 13 paises que conforman actualmente la OPEP\n"
     ]
    }
   ],
   "source": [
    "# Use f-strings and an operator to complete the code\n",
    "print(f\"Hay {str(len(paises) - 1)} paises que conforman actualmente la OPEP\")"
   ]
  },
  {
   "cell_type": "code",
   "execution_count": 14,
   "metadata": {
    "cell_id": "8b11d5148f39482dad1a8d034d406e3c",
    "collapsed": false,
    "deepnote_cell_type": "code",
    "deepnote_to_be_reexecuted": false,
    "execution_millis": 52,
    "execution_start": 1681905348299,
    "jupyter": {
     "outputs_hidden": false
    },
    "pycharm": {
     "name": "#%%\n"
    },
    "source_hash": "970711aa"
   },
   "outputs": [
    {
     "name": "stdout",
     "output_type": "stream",
     "text": [
      "14\n",
      "13\n"
     ]
    }
   ],
   "source": [
    "# The pop() method removes the element at the specified position.\n",
    "# Syntax> list.pop(position)\n",
    "\n",
    "# write a code to print the number of countries in paises\n",
    "print(len(paises))\n",
    "# use pop to remove the name of the country in the last position of the list\n",
    "paises.pop(-1)\n",
    "print(len(paises))"
   ]
  },
  {
   "cell_type": "code",
   "execution_count": 15,
   "metadata": {
    "cell_id": "c4d43549789b461781fb2d4e24f22044",
    "collapsed": false,
    "deepnote_cell_type": "code",
    "deepnote_to_be_reexecuted": false,
    "execution_millis": 6,
    "execution_start": 1681905348824,
    "jupyter": {
     "outputs_hidden": false
    },
    "pycharm": {
     "name": "#%%\n"
    },
    "source_hash": "968a1ec3"
   },
   "outputs": [
    {
     "name": "stdout",
     "output_type": "stream",
     "text": [
      "['Ecuador', 'Indonesia', 'Qatar']\n",
      "Estos son los paises de Asia que decidieron retirarse de la OPEP:\n",
      "['Indonesia', 'Qatar']\n"
     ]
    }
   ],
   "source": [
    "# The del keyword is used to delete objects (variables, lists, or parts of a list, etc.)\n",
    "# Syntax> del list[pos]\n",
    "\n",
    "# print the list of the Asian countries retired/lapsed from OPEC\n",
    "print(paises_retirados)\n",
    "# delete Ecuador from the list\n",
    "del paises_retirados[0]\n",
    "print(\"Estos son los paises de Asia que decidieron retirarse de la OPEP:\")\n",
    "print(paises_retirados)"
   ]
  },
  {
   "cell_type": "code",
   "execution_count": 16,
   "metadata": {
    "cell_id": "ec6e22aad8514596bf9ad501337bea66",
    "collapsed": false,
    "deepnote_cell_type": "code",
    "deepnote_to_be_reexecuted": false,
    "execution_millis": 5,
    "execution_start": 1681905349454,
    "jupyter": {
     "outputs_hidden": false
    },
    "pycharm": {
     "name": "#%%\n"
    },
    "source_hash": "e747536"
   },
   "outputs": [
    {
     "name": "stdout",
     "output_type": "stream",
     "text": [
      "['Arabia Saudita', 'Venezuela', 'Kuwait', 'Iran', 'Irak', 'Libia', 'UAE', 'Algeria', 'Nigeria', 'Gabón', 'Ángola', 'Congo', 'Guinea Ecuatorial']\n",
      "Paises de la OPEP ordenados desde el ultimo al primero\n",
      "['Guinea Ecuatorial', 'Congo', 'Ángola', 'Gabón', 'Nigeria', 'Algeria', 'UAE', 'Libia', 'Irak', 'Iran', 'Kuwait', 'Venezuela', 'Arabia Saudita']\n"
     ]
    }
   ],
   "source": [
    "# The reverse method reverses the sorting order of the elements\n",
    "# Syntax. list.reverse()\n",
    "\n",
    "# show the list paises\n",
    "print(paises)\n",
    "# reverse the order of the countries in the list paises\n",
    "paises.reverse()\n",
    "print(\"Paises de la OPEP ordenados desde el ultimo al primero\")\n",
    "print(paises)"
   ]
  },
  {
   "cell_type": "code",
   "execution_count": 17,
   "metadata": {
    "cell_id": "1b642745bbf0456680bb484f5e5277e5",
    "collapsed": false,
    "deepnote_cell_type": "code",
    "deepnote_to_be_reexecuted": false,
    "execution_millis": 24,
    "execution_start": 1681905350380,
    "jupyter": {
     "outputs_hidden": false
    },
    "pycharm": {
     "name": "#%%\n"
    },
    "source_hash": "2c0baf85"
   },
   "outputs": [
    {
     "name": "stdout",
     "output_type": "stream",
     "text": [
      "Paises de la OPEP ordenados de forma alfabética:\n",
      "['Algeria', 'Arabia Saudita', 'Congo', 'Gabón', 'Guinea Ecuatorial', 'Irak', 'Iran', 'Kuwait', 'Libia', 'Nigeria', 'UAE', 'Venezuela', 'Ángola']\n"
     ]
    }
   ],
   "source": [
    "# The sort method sorts the list ascending by default. \n",
    "# Syntax > list.sort() \n",
    "\n",
    "# print the list paises with its elements alphabetically listed\n",
    "paises.sort()\n",
    "print(\"Paises de la OPEP ordenados de forma alfabética:\")\n",
    "print(paises)"
   ]
  },
  {
   "cell_type": "code",
   "execution_count": 18,
   "metadata": {
    "cell_id": "6efa7a13651b4eb182bcab8590cd8070",
    "collapsed": false,
    "deepnote_cell_type": "code",
    "deepnote_to_be_reexecuted": false,
    "execution_millis": 5,
    "execution_start": 1681905351263,
    "jupyter": {
     "outputs_hidden": false
    },
    "pycharm": {
     "name": "#%%\n"
    },
    "source_hash": "feacfce3"
   },
   "outputs": [
    {
     "name": "stdout",
     "output_type": "stream",
     "text": [
      "['Algeria', 'Arabia Saudita', 'Congo', 'Gabón', 'Guinea Ecuatorial', 'Irak', 'Iran', 'Kuwait', 'Libia', 'Nigeria', 'UAE', 'Venezuela', 'Ángola']\n",
      "['Algeria', 'Arabia Saudita', 'Congo', 'Gabón', 'Guinea Ecuatorial', 'Irak', 'Iran', 'Kuwait', 'Libia', 'Nigeria', 'UAE', 'Venezuela', 'Ángola', 'Brasil', 'Noruega', 'USA']\n",
      "Estos no forman parte de la OPEP a pesar de ser paises con importante producción:\n",
      "['Brasil', 'Noruega', 'USA']\n"
     ]
    }
   ],
   "source": [
    "# The extend method adds a list or elements (or any iterable) to the end of the current list\n",
    "# Syntax. list.extend(iterable)\n",
    "\n",
    "# show paises\n",
    "print(paises)\n",
    "\n",
    "# Create a list containing Brasil, Noruega and USA to the list paises\n",
    "otros_paises = ('Brasil', 'Noruega', 'USA')\n",
    "paises.extend(otros_paises)\n",
    "print(paises)\n",
    "\n",
    "print(\"Estos no forman parte de la OPEP a pesar de ser paises con importante producción:\")\n",
    "print(paises[13:])"
   ]
  },
  {
   "cell_type": "code",
   "execution_count": 19,
   "metadata": {
    "cell_id": "839e89a853f04a678869c9c5121082cb",
    "collapsed": false,
    "deepnote_cell_type": "code",
    "deepnote_to_be_reexecuted": false,
    "execution_millis": 6,
    "execution_start": 1681905362242,
    "jupyter": {
     "outputs_hidden": false
    },
    "pycharm": {
     "name": "#%%\n"
    },
    "source_hash": "4b6a5ef3"
   },
   "outputs": [
    {
     "name": "stdout",
     "output_type": "stream",
     "text": [
      "['Indonesia', 'Qatar']\n",
      "['Ecuador', 'Indonesia', 'Qatar']\n"
     ]
    }
   ],
   "source": [
    "# The insert() method inserts the specified value at the specified position\n",
    "# Syntax > list.insert(position, element)\n",
    "print(paises_retirados)\n",
    "\n",
    "# add Ecuador to the list paises_retirados using insert\n",
    "paises_retirados.insert(0, 'Ecuador')\n",
    "# show the list paises_retirados\n",
    "print(paises_retirados)"
   ]
  },
  {
   "cell_type": "code",
   "execution_count": 20,
   "metadata": {
    "cell_id": "b832fa0537764c7f8cac3c90eb4d2dd6",
    "collapsed": false,
    "deepnote_cell_type": "code",
    "deepnote_to_be_reexecuted": false,
    "execution_millis": 4,
    "execution_start": 1681905365658,
    "jupyter": {
     "outputs_hidden": false
    },
    "pycharm": {
     "name": "#%%\n"
    },
    "source_hash": "ff48faa"
   },
   "outputs": [
    {
     "name": "stdout",
     "output_type": "stream",
     "text": [
      "['Ecuador', 'Indonesia', 'Qatar']\n",
      "1\n"
     ]
    }
   ],
   "source": [
    "# The count() method returns the number of elements with the specified value\n",
    "# Syntax > list.count(value)\n",
    "\n",
    "# show the list paises_retirados\n",
    "print(paises_retirados)\n",
    "\n",
    "#print how many times apears Ecuador in the list\n",
    "n_ecuador = paises_retirados.count('Ecuador')\n",
    "print(n_ecuador)"
   ]
  },
  {
   "cell_type": "code",
   "execution_count": 21,
   "metadata": {
    "cell_id": "6017a6aa50f849e4b55188e5ab2f4da4",
    "collapsed": false,
    "deepnote_cell_type": "code",
    "deepnote_to_be_reexecuted": false,
    "execution_millis": 32,
    "execution_start": 1681905368681,
    "jupyter": {
     "outputs_hidden": false
    },
    "pycharm": {
     "name": "#%%\n"
    },
    "source_hash": "51c0c553"
   },
   "outputs": [
    {
     "name": "stdout",
     "output_type": "stream",
     "text": [
      "[]\n"
     ]
    }
   ],
   "source": [
    "# The clear() method removes all the elements from a list\n",
    "# Syntax > list.clear()\n",
    "\n",
    "# empty the list paises_retirados\n",
    "paises_retirados.clear()\n",
    "\n",
    "print(paises_retirados)"
   ]
  },
  {
   "cell_type": "markdown",
   "metadata": {
    "cell_id": "f081bfa53d9e42bebb20b2d34ffef3da",
    "deepnote_cell_height": 69.96665954589844,
    "deepnote_cell_type": "markdown"
   },
   "source": [
    "## 1.4) Dictionaries: basis and manipulation"
   ]
  },
  {
   "cell_type": "markdown",
   "metadata": {
    "cell_id": "a8837a8abedb4e1caa7875bdad098608",
    "deepnote_cell_height": 147.98333740234375,
    "deepnote_cell_type": "markdown"
   },
   "source": [
    "### Dictionaries\n",
    "A dictionary is a data structure and a data type in Python with special characteristics that allows us to store any type of value such as integers, strings, lists and even other functions.\n",
    "These dictionaries also allow us to identify each element by a key. To define a dictionary, the list of values is enclosed in braces. The key and value pairs are separated by commas, and the key and value are separated by colons.\n"
   ]
  },
  {
   "cell_type": "markdown",
   "metadata": {
    "cell_id": "8aa613d82f414a799045bdc70c0c5c36",
    "deepnote_cell_type": "markdown"
   },
   "source": [
    "**Volve Field**\n",
    "\n",
    "In the southern Norwegian North Sea, about 200 km west of the city of Stavanger (see Figure 1), lies the Volve oil field, located in Block 15/9, at a depth of about 80 m. This field was developed by Statoil, now Equinor, with a 59.6% interest, while other project partners were ExxonMobil E&P Norway, with a 30.40% interest, and Bayerngas Norge, with a 10% interest. \n",
    "\n",
    "![volve](Recursos/volve.png)\n",
    "*Figure 4. Volve Oilfield*\n",
    "\n"
   ]
  },
  {
   "cell_type": "code",
   "execution_count": null,
   "metadata": {
    "cell_id": "548e40f3a4374f6f89bc751307b41a69",
    "collapsed": false,
    "deepnote_cell_type": "code",
    "deepnote_to_be_reexecuted": false,
    "execution_millis": 4,
    "execution_start": 1681905371744,
    "jupyter": {
     "outputs_hidden": false
    },
    "pycharm": {
     "name": "#%%\n"
    },
    "source_hash": "f494b406"
   },
   "outputs": [],
   "source": [
    "campo_Volve = {'País' : 'Noruega', 'Inicio_produccion': '2008', 'Fin_produccion': '2016', 'Bloque' : '15/9','Tipo' : 'off-shore','Pozo' :['F-1C','F-4','F-5','F-11','F-12','F-14', 'F-15 D']  }\n",
    "campo_Volve"
   ]
  },
  {
   "cell_type": "markdown",
   "metadata": {
    "cell_id": "a2635d8200644d1ab53a42598f114284",
    "deepnote_cell_height": 144.76666259765625,
    "deepnote_cell_type": "markdown"
   },
   "source": [
    "### Dictionaries manipulation\n",
    "Among the most important dictionaries methods, we have the following:\n",
    "\n",
    "*keys*, *values*, *items*, *get*, *update*, *pop*, *popitem*, *setdefault*"
   ]
  },
  {
   "cell_type": "code",
   "execution_count": null,
   "metadata": {
    "cell_id": "e027fdd50cfd44eda6c0810adabc1a4b",
    "collapsed": false,
    "deepnote_cell_type": "code",
    "deepnote_to_be_reexecuted": false,
    "execution_millis": 55,
    "execution_start": 1681905373660,
    "jupyter": {
     "outputs_hidden": false
    },
    "output_cleared": false,
    "pycharm": {
     "name": "#%%\n"
    },
    "source_hash": "27df682e"
   },
   "outputs": [],
   "source": [
    "# The keys() method returns a view object\n",
    "# The view object contains the keys of the dictionary, as a list\n",
    "# The view object will reflect any changes done to the dictionary, see example below\n",
    "\n",
    "# Show the keys of campo_Volve\n"
   ]
  },
  {
   "cell_type": "code",
   "execution_count": null,
   "metadata": {
    "cell_id": "95d158e77f07439ca536fff1393e9ff4",
    "collapsed": false,
    "deepnote_cell_type": "code",
    "deepnote_to_be_reexecuted": false,
    "execution_millis": 14,
    "execution_start": 1681905374679,
    "jupyter": {
     "outputs_hidden": false
    },
    "pycharm": {
     "name": "#%%\n"
    },
    "source_hash": "5823bd4c"
   },
   "outputs": [],
   "source": [
    "# The items() method returns a view object\n",
    "# The view object contains the key-value pairs of the dictionary, as tuples in a list\n",
    "\n",
    "# Show dictionary items\n"
   ]
  },
  {
   "cell_type": "code",
   "execution_count": null,
   "metadata": {
    "cell_id": "2b261965bf9841578177512d201c3523",
    "collapsed": false,
    "deepnote_cell_type": "code",
    "deepnote_to_be_reexecuted": false,
    "execution_millis": 1,
    "execution_start": 1681905374801,
    "jupyter": {
     "outputs_hidden": false
    },
    "pycharm": {
     "name": "#%%\n"
    },
    "source_hash": "c95bfd49"
   },
   "outputs": [],
   "source": [
    "# The values() method returns a view object. \n",
    "#The view object contains the values of the dictionary, as a list.\n",
    "# Show dictionary values\n"
   ]
  },
  {
   "cell_type": "code",
   "execution_count": null,
   "metadata": {
    "cell_id": "944fca13290342dba01c7a6e908805ab",
    "collapsed": false,
    "deepnote_cell_type": "code",
    "deepnote_to_be_reexecuted": false,
    "execution_millis": 29,
    "execution_start": 1681905376636,
    "jupyter": {
     "outputs_hidden": false
    },
    "pycharm": {
     "name": "#%%\n"
    },
    "source_hash": "e41dd426"
   },
   "outputs": [],
   "source": [
    "# The get method returns the value of the item with the specified key. \n",
    "# Syntax. dictionary.get(keyname, value)\n",
    "print(campo_Volve)\n",
    "\n",
    "# Show the value of the key 'País'\n"
   ]
  },
  {
   "cell_type": "code",
   "execution_count": null,
   "metadata": {
    "cell_id": "b4d1d2fd24844edda6cc079afe7caa0e",
    "collapsed": false,
    "deepnote_cell_type": "code",
    "deepnote_to_be_reexecuted": false,
    "execution_millis": 3,
    "execution_start": 1681905376799,
    "jupyter": {
     "outputs_hidden": false
    },
    "pycharm": {
     "name": "#%%\n"
    },
    "source_hash": "6c8e0757"
   },
   "outputs": [],
   "source": [
    "# The update method inserts the specified items to the dictionary \n",
    "# Syntax > dictionary.update(iterable)\n",
    "print(campo_Volve)\n",
    "\n",
    "# Add the key: continente and assign the value: Europa and display it\n"
   ]
  },
  {
   "cell_type": "code",
   "execution_count": null,
   "metadata": {
    "cell_id": "29e23a9d7f5a4d0e97df5ad753eafedb",
    "collapsed": false,
    "deepnote_cell_type": "code",
    "deepnote_to_be_reexecuted": false,
    "execution_millis": 10,
    "execution_start": 1681905377056,
    "jupyter": {
     "outputs_hidden": false
    },
    "pycharm": {
     "name": "#%%\n"
    },
    "source_hash": "620cf9d8"
   },
   "outputs": [],
   "source": [
    "# The popitem method removes the item that was last inserted into the dictionary\n",
    "# Syntax > dictionary.popitem()\n",
    "print(campo_Volve)\n",
    "\n",
    "# Remove the key: continente and its value: Europa\n"
   ]
  },
  {
   "cell_type": "code",
   "execution_count": null,
   "metadata": {
    "cell_id": "99a1ff5cd35b48cfacd2c2e68d960796",
    "collapsed": false,
    "deepnote_cell_type": "code",
    "deepnote_to_be_reexecuted": false,
    "execution_millis": 9,
    "execution_start": 1681905378010,
    "jupyter": {
     "outputs_hidden": false
    },
    "pycharm": {
     "name": "#%%\n"
    },
    "source_hash": "c93c1e50"
   },
   "outputs": [],
   "source": [
    "# The pop method removes the element at the specified position. Syntax > list.pop(pos)\n",
    "print(campo_Volve)\n",
    "\n",
    "# Add the key: continente and assign the value: Europa\n",
    "campo_Volve['Continente'] = 'Europa'\n",
    "\n",
    "# Remove the key: continente and its value: Europa using only pop\n"
   ]
  },
  {
   "cell_type": "code",
   "execution_count": null,
   "metadata": {
    "cell_id": "40cd066d1cc8460e8a7d171bae899992",
    "collapsed": false,
    "deepnote_cell_type": "code",
    "deepnote_to_be_reexecuted": false,
    "execution_millis": 2,
    "execution_start": 1681905378449,
    "jupyter": {
     "outputs_hidden": false
    },
    "pycharm": {
     "name": "#%%\n"
    },
    "source_hash": "7a7dcecc"
   },
   "outputs": [],
   "source": [
    "# The setdefault method returns the value of a key (if the key is in dictionary). \n",
    "# If not, it inserts key with a value to the dictionary. \n",
    "# Syntax dictionary.setdefault(keyname, value)\n",
    "\n",
    "# Use setdefault use result and show the dictionary\n",
    "\n",
    "# Use pop item to delete Europa "
   ]
  },
  {
   "cell_type": "markdown",
   "metadata": {
    "cell_id": "635139b1b73b42d6b8dc2b807beedd9b",
    "deepnote_cell_height": 712.2833251953125,
    "deepnote_cell_type": "markdown",
    "tags": []
   },
   "source": [
    "# Part 1 Test"
   ]
  },
  {
   "cell_type": "markdown",
   "metadata": {
    "cell_id": "63dfca66e1784f2f978d620b15caca04",
    "deepnote_cell_type": "markdown"
   },
   "source": [
    "#### 1) In this excercise you will create a list containing the names of the  academic programs offered by FICT ( and postgraduate programs) following the next steps:\n",
    "\n",
    "**a)** Create a list called **pregrado** with the undergraduate programs and another liste named **postgrado** with the names of our postgraduate programs.\n",
    "\n",
    "\n",
    "**b)** Concatenate and sort this list in alphabetical order\n",
    "\n",
    "**c)** What is the name of the fifth program?"
   ]
  },
  {
   "cell_type": "code",
   "execution_count": null,
   "metadata": {
    "cell_id": "2e2d8b682cc84bcbb663fb27b36420cd",
    "deepnote_cell_type": "code",
    "deepnote_to_be_reexecuted": false,
    "execution_millis": 4,
    "execution_start": 1681905379882,
    "source_hash": "2fb0f886"
   },
   "outputs": [],
   "source": [
    "# Insert your code\n",
    "\n"
   ]
  },
  {
   "cell_type": "markdown",
   "metadata": {
    "cell_id": "c56c7eaf8cda4705910731b4edfaad90",
    "deepnote_cell_type": "markdown"
   },
   "source": [
    "#### 2) Create a dictionary containing the average oil production in barrels per day of the following countries:\n",
    "- United States -> 14,837,639.510\n",
    "- China -> 4,905,070.874\n",
    "- Kazakhstan -> 1,698,280.454\n",
    "- Ecuador -> 548,378.765\n",
    "- Cameroon -> 92,469.000\n",
    "- Norway -> 2,003,747.525\n",
    "- Brazil -> 3,242,957.836\n",
    "\n",
    "Then, solve the following questions:\n",
    "\n",
    "**a)** Add Qatar's oil production -> 1,987,192.978 bpd\n",
    "\n",
    "**b)** Delete China's oil production from dictionary\n",
    "\n",
    "**c)** What are the keys of this dictionary?\n",
    "\n",
    "**d)** What is the length of this dictionary?"
   ]
  },
  {
   "cell_type": "code",
   "execution_count": null,
   "metadata": {
    "cell_id": "dc78a5f76dc3482cbd311742b8a7bc52",
    "deepnote_cell_type": "code",
    "deepnote_to_be_reexecuted": false,
    "execution_millis": 2,
    "execution_start": 1681905380666,
    "source_hash": "658b7076"
   },
   "outputs": [],
   "source": [
    "# Insert your code"
   ]
  },
  {
   "cell_type": "markdown",
   "metadata": {
    "cell_id": "6f8f4838d30d4504b578c3a510e5b7a2",
    "deepnote_cell_height": 81.98333740234375,
    "deepnote_cell_type": "markdown"
   },
   "source": [
    "# 2) Part 2 - Compound Statements"
   ]
  },
  {
   "cell_type": "markdown",
   "metadata": {
    "cell_id": "e02b2ff28c124e32bd667acb38a05615",
    "deepnote_cell_height": 257.76666259765625,
    "deepnote_cell_type": "markdown"
   },
   "source": [
    "### 2.1) Conditionals (if, else, elif)\n",
    "\n",
    "- The **if-else statement** is used to code the same way you would use it in the English language. The syntax for the if-else statement is:\n",
    "\n",
    "- On the other hand, **The elif statement** allows you to check multiple expressions for TRUE and execute a block of code as soon as one of the conditions evaluates to TRUE.\n",
    "\n",
    "- Similar to the else, **the elif statement** is optional. However, unlike else, for which there can be at most one statement, there can be an arbitrary number of **elif statements following an if.**\n",
    "\n",
    "- The syntax of this compound statement is shown below:\n"
   ]
  },
  {
   "cell_type": "markdown",
   "metadata": {
    "cell_id": "7e9aff7fb5b94dd1abf4e9d61e9bed3a",
    "deepnote_cell_height": 573.9166870117188,
    "deepnote_cell_type": "markdown",
    "tags": []
   },
   "source": [
    "![Picture Title](Recursos/if_sintaxis.png) "
   ]
  },
  {
   "cell_type": "code",
   "execution_count": null,
   "metadata": {
    "cell_id": "c7d9bd9b259a4672a1d1ed4eac676c54",
    "collapsed": false,
    "deepnote_cell_type": "code",
    "deepnote_to_be_reexecuted": false,
    "execution_millis": 12,
    "execution_start": 1681905382712,
    "jupyter": {
     "outputs_hidden": false
    },
    "pycharm": {
     "name": "#%%\n"
    },
    "source_hash": "85f49bb5"
   },
   "outputs": [],
   "source": [
    "# Using if and else example\n",
    "campo = campo_Volve.copy()\n",
    "campo['Nombre'] = 'Volve'\n",
    "if #: # insert the condition campo['Nombre'] = 'Volve'\n",
    "    print(\"El campo Volve se encuentra en el area que corresponde a Noruega del mar del norte\")\n",
    "else:\n",
    "    print(\"No se de dispone de información del campo en mención\")"
   ]
  },
  {
   "cell_type": "code",
   "execution_count": null,
   "metadata": {
    "cell_id": "cad10697091442278c2ba739794ef1b0",
    "collapsed": false,
    "deepnote_cell_type": "code",
    "deepnote_to_be_reexecuted": false,
    "execution_millis": 2,
    "execution_start": 1681905383286,
    "jupyter": {
     "outputs_hidden": false
    },
    "pycharm": {
     "name": "#%%\n"
    },
    "source_hash": "3fb8b15d"
   },
   "outputs": [],
   "source": [
    "if #: # insert condition País = Inglaterra\n",
    "   if campo_Volve['Bloque'] == '15/9': \n",
    "        print('Este campo es Offshore')\n",
    "   elif campo_Volve['Bloque'] == '15/10':\n",
    "        print('Este campo no existe')\n",
    "else:\n",
    "    print('No hay información sobre este país')"
   ]
  },
  {
   "cell_type": "code",
   "execution_count": null,
   "metadata": {
    "cell_id": "2165ae2e25bb491e8fb95b6450a04c5c",
    "collapsed": false,
    "deepnote_cell_type": "code",
    "deepnote_to_be_reexecuted": false,
    "execution_millis": 6,
    "execution_start": 1681905384005,
    "jupyter": {
     "outputs_hidden": false
    },
    "pycharm": {
     "name": "#%%\n"
    },
    "source_hash": "a83ca166"
   },
   "outputs": [],
   "source": [
    "# Insert a list of API values \n",
    "\n",
    "API = [9, 15, 23, 32, 40]\n",
    "\n",
    "# Identify wich type of crude is the first element of the API list\n"
   ]
  },
  {
   "cell_type": "code",
   "execution_count": null,
   "metadata": {
    "cell_id": "54f1308aa3a54e86a0fc9107c9dbd32e",
    "deepnote_app_coordinates": {
     "h": 5,
     "w": 12,
     "x": 0,
     "y": 0
    },
    "deepnote_cell_type": "code",
    "deepnote_to_be_reexecuted": false,
    "execution_millis": 24,
    "execution_start": 1681905384579,
    "source_hash": "d803d53b"
   },
   "outputs": [],
   "source": [
    "# # Identify wich type of crude is the element whose value is 23"
   ]
  },
  {
   "cell_type": "markdown",
   "metadata": {
    "cell_id": "0131c0de2a444b179e5df4c556551183",
    "deepnote_cell_height": 145.1666717529297,
    "deepnote_cell_type": "markdown"
   },
   "source": [
    "### 2.2) Loops (for, while)\n",
    "\n",
    "Loops are important in Python or in any other programming language as they help you to execute a **block of code repeatedly**. You will often come face to face with situations where you would need to use a piece of code over and over but you don't want to write the same line of code multiple times."
   ]
  },
  {
   "cell_type": "markdown",
   "metadata": {
    "cell_id": "c7eb8c2c7910458e8aae3936b08f7aa9",
    "deepnote_cell_height": 172.56666564941406,
    "deepnote_cell_type": "markdown",
    "tags": []
   },
   "source": [
    "#### 2.2.1. for Loop\n",
    "\n",
    "- A for loop is a programming concept that, when it's implemented, executes a piece of code over and over again \"for\" a certain number of times, based on a sequence. This \"number of times\" is determined by a sequence or an ordered list of things. \n",
    "\n",
    "- The syntax of this compound statement is shown below:\n"
   ]
  },
  {
   "cell_type": "markdown",
   "metadata": {
    "cell_id": "66a278c3b6d34fff85a75ec1b55666b1",
    "deepnote_cell_height": 425.6333312988281,
    "deepnote_cell_type": "markdown",
    "tags": []
   },
   "source": [
    "![Picture Title](Recursos/for_sintaxis.png) "
   ]
  },
  {
   "cell_type": "code",
   "execution_count": null,
   "metadata": {
    "cell_id": "65dc4a7a33304377ae4a784539bbda14",
    "collapsed": false,
    "deepnote_cell_type": "code",
    "deepnote_to_be_reexecuted": false,
    "execution_millis": 10,
    "execution_start": 1681905387459,
    "jupyter": {
     "outputs_hidden": false
    },
    "pycharm": {
     "name": "#%%\n"
    },
    "source_hash": "4580731"
   },
   "outputs": [],
   "source": [
    "# Use a for Loop to determine the type of crude of the elements in the list API\n"
   ]
  },
  {
   "cell_type": "code",
   "execution_count": null,
   "metadata": {
    "cell_id": "71bf38238696430d872bd560c77bcaf4",
    "collapsed": false,
    "deepnote_cell_type": "code",
    "deepnote_to_be_reexecuted": false,
    "execution_millis": 22,
    "execution_start": 1681905907925,
    "jupyter": {
     "outputs_hidden": false
    },
    "pycharm": {
     "name": "#%%\n"
    },
    "source_hash": "b7405e30"
   },
   "outputs": [],
   "source": [
    "# Use for Loop to print the keys\n"
   ]
  },
  {
   "cell_type": "code",
   "execution_count": null,
   "metadata": {
    "cell_id": "b7d68eecc37c41b8a176555431fcc998",
    "collapsed": false,
    "deepnote_cell_type": "code",
    "deepnote_to_be_reexecuted": false,
    "execution_millis": 10,
    "execution_start": 1681905389027,
    "jupyter": {
     "outputs_hidden": false
    },
    "pycharm": {
     "name": "#%%\n"
    },
    "source_hash": "cc0deceb"
   },
   "outputs": [],
   "source": [
    "# Use for Loop to print the keys and values line by line\n",
    "print(campo_Volve)\n",
    "print()\n"
   ]
  },
  {
   "cell_type": "code",
   "execution_count": null,
   "metadata": {
    "cell_id": "7f2feb0cc35e4b70a348c23ebfe54378",
    "collapsed": false,
    "deepnote_cell_type": "code",
    "deepnote_to_be_reexecuted": false,
    "execution_millis": 4,
    "execution_start": 1681905389599,
    "jupyter": {
     "outputs_hidden": false
    },
    "pycharm": {
     "name": "#%%\n"
    },
    "source_hash": "1abcb60d"
   },
   "outputs": [],
   "source": [
    "# Check the information of initial oil production date  \n",
    "\n"
   ]
  },
  {
   "cell_type": "markdown",
   "metadata": {
    "cell_id": "76facc193a7d4f3192d319c929807cf7",
    "deepnote_cell_height": 293.1499938964844,
    "deepnote_cell_type": "markdown",
    "tags": []
   },
   "source": [
    "#### 2.2.2. while loop\n",
    "\n",
    "A while loop is a programming concept that, when it's implemented, executes a piece of code over and over again while a given condition still holds true.\n",
    "\n",
    "The above definition also highlights the three components that you need to construct the while loop in Python:\n",
    "\n",
    "- The while keyword;\n",
    "- A condition that transates to either True or False; And\n",
    "- A block of code that you want to execute repeatedly\n",
    "\n",
    "\n",
    "The syntax of this compound statement is shown below:"
   ]
  },
  {
   "cell_type": "markdown",
   "metadata": {
    "cell_id": "13f64f7445a3423abd34590efcff529f",
    "deepnote_cell_height": 425.6333312988281,
    "deepnote_cell_type": "markdown",
    "tags": []
   },
   "source": [
    "![Picture Title](Recursos/while_sintaxis.png) "
   ]
  },
  {
   "cell_type": "code",
   "execution_count": null,
   "metadata": {
    "cell_id": "20ef468cc90d4e6b9ad81c81a2e27b8b",
    "collapsed": false,
    "deepnote_cell_type": "code",
    "deepnote_to_be_reexecuted": false,
    "execution_millis": 14,
    "execution_start": 1681905804155,
    "jupyter": {
     "outputs_hidden": false
    },
    "pycharm": {
     "name": "#%%\n"
    },
    "source_hash": "825c45c"
   },
   "outputs": [],
   "source": [
    "# use while loop to count the number of wells\n"
   ]
  },
  {
   "cell_type": "markdown",
   "metadata": {
    "cell_id": "f859333edb79482eabedf76f1b09ad8b",
    "deepnote_cell_height": 195.56666564941406,
    "deepnote_cell_type": "markdown"
   },
   "source": [
    "### 2.3) Functions\n",
    "\n",
    "A function is a group of related statements that performs a specific task.\n",
    "\n",
    "On the other hand, functions help break our program into smaller and modular chunks. As our program grows larger and larger, functions make it more organized and manageable.\n",
    "\n",
    "The syntax of this compound statement is shown below:"
   ]
  },
  {
   "cell_type": "markdown",
   "metadata": {
    "cell_id": "3e287e3ddd9741a98b92e0a1bad8d1a4",
    "deepnote_cell_height": 591.2166748046875,
    "deepnote_cell_type": "markdown",
    "tags": []
   },
   "source": [
    "![Picture Title](Recursos/function_sintaxis.png) "
   ]
  },
  {
   "cell_type": "code",
   "execution_count": null,
   "metadata": {
    "cell_id": "ecd7ad740a974fa985012bd03c0367d0",
    "collapsed": false,
    "deepnote_cell_type": "code",
    "deepnote_to_be_reexecuted": false,
    "execution_millis": 60,
    "execution_start": 1681847336474,
    "jupyter": {
     "outputs_hidden": false
    },
    "pycharm": {
     "name": "#%%\n"
    },
    "source_hash": "dc9ed22a"
   },
   "outputs": [],
   "source": [
    "# Create a function to print 'es un campo Offshore que se encuentra en el Mar del Norte'\n",
    "def campo_volve():\n",
    "    print('es un campo Offshore que se encuentra en el Mar del Norte')"
   ]
  },
  {
   "cell_type": "code",
   "execution_count": null,
   "metadata": {
    "cell_id": "046ebe4d89554717ba840d6942a10bc5",
    "collapsed": false,
    "deepnote_cell_type": "code",
    "deepnote_to_be_reexecuted": false,
    "execution_millis": 26,
    "execution_start": 1681847339313,
    "jupyter": {
     "outputs_hidden": false
    },
    "pycharm": {
     "name": "#%%\n"
    },
    "source_hash": "a09838a4"
   },
   "outputs": [],
   "source": [
    "# Use the previous function to complete the sentence\n",
    "print('Uno de los campos mas conocidos del continente europeo es el campo volve, el cual')\n"
   ]
  },
  {
   "cell_type": "markdown",
   "metadata": {
    "cell_id": "3cbf387a32294a2b9abbc0d73ff1d379",
    "deepnote_cell_height": 348.683349609375,
    "deepnote_cell_type": "markdown"
   },
   "source": [
    "![darcy](Recursos/DarcyG.png)\n",
    "*Figure 5. Darcy Law*\n",
    "\n",
    "**Ecuación de Darcy**\n",
    "\n",
    "if is horizontal linear flow:\n",
    "$$Q = \\frac{kA(P_{1}-P_{2})}{u L}$$  $$P_{1}>P_{2}$$\n",
    "\n",
    "if is inclined linear flow:\n",
    "$$Q = \\frac{-kA}{u} ( \\frac{dp}{dL} + {g\\rho sin \\theta} )$$\n",
    "\n",
    "**Where:** \\\n",
    "*$Q$:* Flow rate $(m^{3}/s)$\\\n",
    "*$k$:* Coefficient of permeability $(m^{2})$\\\n",
    "*$A$:* Cross sectional area of flow $(m^{2})$\\\n",
    "*$P1$:* Pressure at point 1 $(Pa)$\\\n",
    "*$P2$:* Pressure at point 1 $(Pa)$\\\n",
    "*$u$:* Viscosity  $(Pa *s)$\\\n",
    "*$L$:* Length $(m)$"
   ]
  },
  {
   "cell_type": "code",
   "execution_count": null,
   "metadata": {
    "cell_id": "742085bd31a5450ca270bc80cd0bdf54",
    "collapsed": false,
    "deepnote_cell_type": "code",
    "deepnote_to_be_reexecuted": false,
    "execution_millis": 13,
    "execution_start": 1681848894991,
    "jupyter": {
     "outputs_hidden": false
    },
    "pycharm": {
     "name": "#%%\n"
    },
    "source_hash": "361f687b"
   },
   "outputs": [],
   "source": [
    "# Import math library\n",
    "\n",
    "\n",
    "# Linear flow rate\n"
   ]
  },
  {
   "cell_type": "markdown",
   "metadata": {
    "cell_id": "6196b658b1644f4db716c539ce602ae0",
    "deepnote_cell_type": "markdown"
   },
   "source": [
    "**Water Resistivity (Archie equation)**\n",
    "\n",
    "$$R_w = \\frac{R_{t} * \\phi^{m}}a$$\n",
    "\n",
    "**Where:** \\\n",
    "*$R_w$:* Apparent Resistivity of formation water $(\\Omega-m)$\\\n",
    "*$R_t$:* True formation resistivity as derived from a deep reading resistivity log $(\\Omega-m)$\\\n",
    "*$\\phi$:* Porosity $(fraction)$\\\n",
    "*$a$:* Tortuosity factor\\\n",
    "*$m$:* cementation exponent"
   ]
  },
  {
   "cell_type": "code",
   "execution_count": null,
   "metadata": {
    "cell_id": "97d3a4f860df432c930076404ab13b1f",
    "collapsed": false,
    "deepnote_cell_type": "code",
    "deepnote_to_be_reexecuted": false,
    "execution_millis": 33,
    "execution_start": 1681848898461,
    "jupyter": {
     "outputs_hidden": false
    },
    "pycharm": {
     "name": "#%%\n"
    },
    "source_hash": "a9bcc950"
   },
   "outputs": [],
   "source": [
    "# Water resistivity - Archie equation\n",
    "def resistividad_agua(ro, phi, a, m):\n",
    "    rw = (ro * phi ** m) / a\n",
    "    return rw"
   ]
  },
  {
   "cell_type": "markdown",
   "metadata": {
    "cell_id": "ebdf6975a5e14c4f891c6058270208a5",
    "deepnote_cell_height": 244.89999389648438,
    "deepnote_cell_type": "markdown",
    "tags": []
   },
   "source": [
    "# Part 2 Test"
   ]
  },
  {
   "cell_type": "markdown",
   "metadata": {
    "cell_id": "95c1a62a2fed4de8897e272d2579b56b",
    "deepnote_cell_type": "markdown"
   },
   "source": [
    "#### 1) What is the flow rate in m$^3$/s through a core if we measured the following values under horizontal flow test:\n",
    "- $$K = 2*{10^{-11}}{m^2}$$\n",
    "- $P_{1} = 18000 Pa$\n",
    "- $P_{2} = 10000 Pa$\n",
    "- $A = 0.25 {m^2}$\n",
    "- $u= 0.001 mPa*s$\n",
    "- $L= 0.5 m$\n",
    "1 darcy is aproximately 1×10−12 $m^{2}$"
   ]
  },
  {
   "cell_type": "code",
   "execution_count": null,
   "metadata": {
    "cell_id": "883e5523214a49ab8aec47f6f9f729c4",
    "deepnote_cell_type": "code",
    "deepnote_to_be_reexecuted": false,
    "execution_millis": 18,
    "execution_start": 1681848028706,
    "source_hash": "7ff93e3"
   },
   "outputs": [],
   "source": [
    "# Insert your code\n"
   ]
  },
  {
   "cell_type": "markdown",
   "metadata": {
    "cell_id": "84bc5a7bc0624840abaf7a7c90ae8894",
    "deepnote_cell_type": "markdown"
   },
   "source": [
    "\n",
    "#### 2) Write a code to obtain the artificial lift methods whose name starts with a vowel. For this example, consider the following list: [\"Rod pump\", \"Gas lift\", \"PCP\", \"ESP\", \"Hydraulic pump\"]"
   ]
  },
  {
   "cell_type": "code",
   "execution_count": null,
   "metadata": {
    "cell_id": "db5e7b9b95d6435297995db50e00e2dc",
    "deepnote_cell_type": "code",
    "deepnote_to_be_reexecuted": false,
    "execution_millis": 4,
    "execution_start": 1681904954356,
    "source_hash": "658b7076"
   },
   "outputs": [],
   "source": [
    "# Insert your code"
   ]
  },
  {
   "cell_type": "markdown",
   "metadata": {
    "cell_id": "e9905ca15b0f43128dcdbe08ef861cb2",
    "deepnote_cell_height": 198.76666259765625,
    "deepnote_cell_type": "markdown"
   },
   "source": [
    "# 3) Bonus data type\n",
    "## 3.1) datetime\n",
    "The Volve field start producing in January of 2008 to June 2016. Let's check for how many days the field produced!"
   ]
  },
  {
   "cell_type": "code",
   "execution_count": null,
   "metadata": {
    "cell_id": "5894889753724d0992adb81583a739f2",
    "collapsed": false,
    "deepnote_cell_type": "code",
    "deepnote_to_be_reexecuted": false,
    "execution_millis": 1,
    "execution_start": 1681826013582,
    "jupyter": {
     "outputs_hidden": false
    },
    "pycharm": {
     "name": "#%%\n"
    },
    "source_hash": "5c66d142"
   },
   "outputs": [],
   "source": [
    "import datetime\n",
    "start_production = datetime.datetime(year=2008, month=1, day=1)\n",
    "end_production = datetime.datetime(year=2016, month=6, day=1)\n",
    "prod_days = end_production - start_production\n",
    "print(prod_days)"
   ]
  },
  {
   "cell_type": "markdown",
   "metadata": {
    "cell_id": "445ba9a418784af0a2d72328d233f0c9",
    "deepnote_cell_height": 74.78334045410156,
    "deepnote_cell_type": "markdown"
   },
   "source": [
    "Wow! It produced for 3074 days! What if the field started production today? Until what year would the production last?"
   ]
  },
  {
   "cell_type": "code",
   "execution_count": null,
   "metadata": {
    "cell_id": "3bd6c71158324552bd9808dba1752e40",
    "collapsed": false,
    "deepnote_cell_type": "code",
    "deepnote_to_be_reexecuted": false,
    "execution_millis": 1,
    "execution_start": 1681826013582,
    "jupyter": {
     "outputs_hidden": false
    },
    "pycharm": {
     "name": "#%%\n"
    },
    "source_hash": "fa5a5029"
   },
   "outputs": [],
   "source": [
    "now = datetime.date.today()\n",
    "print(now + prod_days)"
   ]
  }
 ],
 "metadata": {
  "deepnote": {},
  "deepnote_app_layout": "article",
  "deepnote_execution_queue": [],
  "deepnote_notebook_id": "e7517733624640a69f4f89062264ef17",
  "deepnote_persisted_session": {
   "createdAt": "2023-04-18T21:02:25.865Z"
  },
  "kernelspec": {
   "display_name": "Python 3 (ipykernel)",
   "language": "python",
   "name": "python3"
  },
  "language_info": {
   "codemirror_mode": {
    "name": "ipython",
    "version": 3
   },
   "file_extension": ".py",
   "mimetype": "text/x-python",
   "name": "python",
   "nbconvert_exporter": "python",
   "pygments_lexer": "ipython3",
   "version": "3.10.6"
  }
 },
 "nbformat": 4,
 "nbformat_minor": 4
}
